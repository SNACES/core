{
 "cells": [
  {
   "cell_type": "code",
   "execution_count": 2,
   "metadata": {},
   "outputs": [
    {
     "name": "stdout",
     "output_type": "stream",
     "text": [
      "Note: to be able to use all crisp methods, you need to install some additional packages:  {'graph_tool', 'wurlitzer', 'karateclub', 'leidenalg', 'infomap'}\n",
      "Note: to be able to use all overlapping methods, you need to install some additional packages:  {'ASLPAw', 'karateclub'}\n",
      "Note: to be able to use all bipartite methods, you need to install some additional packages:  {'leidenalg', 'infomap', 'wurlitzer'}\n"
     ]
    }
   ],
   "source": [
    "import src.dependencies.injector as sdi\n",
    "from src.shared.logger_factory import LoggerFactory\n",
    "from src.process.data_cleaning.data_cleaning_distributions import jaccard_similarity\n",
    "from src.shared.utils import get_project_root\n",
    "from src.model.cluster import Cluster\n",
    "from typing import List\n",
    "import matplotlib.pyplot as plt\n",
    "import numpy as np\n",
    "import seaborn as sns\n",
    "import csv\n",
    "import os, re, pickle\n",
    "\n",
    "log = LoggerFactory.logger(__name__)\n",
    "DEFAULT_PATH = str(get_project_root()) + \\\n",
    "    \"/src/scripts/config/create_social_graph_and_cluster_config.yaml\""
   ]
  },
  {
   "cell_type": "code",
   "execution_count": 3,
   "metadata": {},
   "outputs": [],
   "source": [
    "injector = sdi.Injector.get_injector_from_file(DEFAULT_PATH)\n",
    "process_module = injector.get_process_module()\n",
    "dao_module = injector.get_dao_module()\n",
    "user_activity_getters = {\n",
    "    \"friends\": dao_module.get_user_activity_getter(user_activity=\"friends\"),\n",
    "    \"user retweets\": dao_module.get_user_activity_getter(user_activity=\"user retweets\"),\n",
    "    \"user retweets ids\": dao_module.get_user_activity_getter(user_activity=\"user retweets ids\")\n",
    "}\n",
    "local_neighbourhood_getter = dao_module.get_local_neighbourhood_getter(user_activity=\"user retweets\")\n",
    "user_getter = dao_module.get_user_getter()\n",
    "user_friend_getter = dao_module.get_user_friend_getter()\n",
    "\n",
    "def get_user_activities(user_id: str, user_activity: str):\n",
    "    activities = user_activity_getters[user_activity].get_user_activities(user_id)\n",
    "    if len(activities) == 0:\n",
    "        return None\n",
    "    else:\n",
    "        return activities"
   ]
  },
  {
   "cell_type": "code",
   "execution_count": 24,
   "metadata": {},
   "outputs": [
    {
     "name": "stderr",
     "output_type": "stream",
     "text": [
      "2023-07-14 00:49:23 - __main__ - INFO - ['elonmusk', 'AlphaSignalAI', 'DrJimFan', 'alexjc', 'Jeande_d', 'peteskomoroch', 'tszzl', 'yaringal', 'l2k', 'IEEESpectrum', 'ykilcher', 'nalkalc', 'JayAlammar', 'PetarV_93', 'bhutanisanyam1', 'mervenoyann', 'mmbronstein', 'weights_biases', 'ClementDelangue', 'seanjtaylor', 'shaneguML', 'Thom_Wolf', 'Smearle_RH', 'DynamicWebPaige', 'pabbeel', '_akhaliq', 'srush_nlp', 'egrefen', 'KordingLab', 'suzatweet', 'sarahookr', 'alfcnz', 'JeffDean', 'andrewgwils', 'NVIDIAAI', 'ogrisel', 'rasbt', 'jeffclune', 'RichardSocher', 'seb_ruder', 'bernhardsson', 'DaniloJRezende', 'mark_riedl', 'dustinvtran', 'jeremyphoward', 'random_forests', 'natashajaques', 'thomaskipf', 'yoavgo', 'sleepinyourhat', 'kchonyc', 'notmisha', 'jackclarkSF', 'Miles_Brundage', '_rockt', 'deliprao', 'janexwang', 'ericjang11', 'fchollet', 'karpathy', 'hardmaru']\n"
     ]
    }
   ],
   "source": [
    "seed_user_name = \"hardmaru\"\n",
    "seed_user_id = user_getter.get_user_by_screen_name(seed_user_name).id\n",
    "# Load cluster\n",
    "\n",
    "with open(f\"./graph_data/selected_clusters_{seed_user_id}_ww.pkl\", \"rb\") as f:\n",
    "    cluster, top_10_users = pickle.load(f)\n",
    "\n",
    "# Print cluster users\n",
    "for cluster in [cluster]:\n",
    "    users = [user_getter.get_user_by_id(user).screen_name for user in cluster.users]\n",
    "    log.info(users)"
   ]
  },
  {
   "cell_type": "code",
   "execution_count": 35,
   "metadata": {},
   "outputs": [
    {
     "name": "stderr",
     "output_type": "stream",
     "text": [
      "2023-07-14 01:11:05 - src.model.social_graph.union_social_graph - INFO - Length of list 60\n",
      "2023-07-14 01:11:05 - src.model.social_graph.union_social_graph - INFO - Length of list after removing unconnected nodes 61\n",
      "2023-07-14 01:11:06 - src.model.social_graph.union_social_graph - INFO - 10544\n",
      "2023-07-14 01:11:06 - src.clustering_experiments.create_social_graph_and_cluster - INFO - Refining by Jaccard Similarity:\n",
      "2023-07-14 01:11:07 - src.clustering_experiments.create_social_graph_and_cluster - INFO - Setting Local Neighbourhood:\n",
      "2023-07-14 01:11:07 - src.model.social_graph.union_social_graph - INFO - Length of list 60\n",
      "2023-07-14 01:11:07 - src.model.social_graph.union_social_graph - INFO - Length of list after removing unconnected nodes 61\n",
      "2023-07-14 01:11:07 - src.model.social_graph.union_social_graph - INFO - 61\n"
     ]
    }
   ],
   "source": [
    "from src.model.local_neighbourhood import LocalNeighbourhood\n",
    "import pygraphviz as pgv\n",
    "import matplotlib.pyplot as plt\n",
    "import networkx as nx\n",
    "import src.clustering_experiments.create_social_graph_and_cluster as csgc\n",
    "\n",
    "def get_refined_sg(cluster, user_activity):\n",
    "        user_map = {}\n",
    "        cluster.base_user = str(cluster.base_user)\n",
    "        neighbourhood = local_neighbourhood_getter.get_local_neighbourhood(cluster.base_user)\n",
    "        for user in cluster.users:\n",
    "            user_map[user] = list(set(neighbourhood.get_user_activities(user)).intersection(cluster.users)) if user_activity == 'friends' else neighbourhood.get_user_activities(user)\n",
    "\n",
    "        #base_user_activities = user_map[str(cluster.base_user)]\n",
    "        cluster_neighbourhood = \\\n",
    "            LocalNeighbourhood(cluster.base_user, None, user_map, neighbourhood.user_activity)\n",
    "        cluster_soc_graph = \\\n",
    "            csgc.create_social_graph_from_local_neighbourhood(cluster_neighbourhood, user_activity)\n",
    "        refined_soc_graph = csgc.refine_social_graph_jaccard_users(cluster.base_user, cluster_soc_graph, cluster_neighbourhood, user_activity,threshold=0.0001)\n",
    "        return refined_soc_graph.graph, cluster_neighbourhood \n",
    "\n",
    "refined_soc_graph, cluster_nbhd = get_refined_sg(cluster, \"user retweets\")"
   ]
  },
  {
   "cell_type": "code",
   "execution_count": 31,
   "metadata": {},
   "outputs": [],
   "source": [
    "def visualize_cluster(highlight_users, save=True):\n",
    "    log.info(\"Visualizing cluster...\")\n",
    "    flag = True\n",
    "    if highlight_users[0].isnumeric():\n",
    "        flag = False\n",
    "    for node in refined_soc_graph.nodes():\n",
    "        name = user_getter.get_user_by_id(node).screen_name if flag else node\n",
    "        if name in highlight_users:\n",
    "            refined_soc_graph.nodes[node]['color'] = 'r'\n",
    "        else:\n",
    "            refined_soc_graph.nodes[node]['color'] = 'b'\n",
    "    plt.figure(figsize=(20, 20))\n",
    "    colors = [node[1]['color'] for node in refined_soc_graph.nodes(data=True)]\n",
    "\n",
    "    pos = nx.spring_layout(refined_soc_graph, k=0.1, seed=1)\n",
    "    nx.draw_networkx(refined_soc_graph, pos=pos, node_color=colors, node_size=100, with_labels=False, width=0.3)\n",
    "    if save:\n",
    "        plt.savefig(f\"./graph_data/graph_{cluster.base_user}.png\")\n",
    "    plt.show()\n",
    "    # # Visualize using pygraphviz\n",
    "    # graph = nx.nx_agraph.to_agraph(refined_soc_graph)\n",
    "    # # Color red if in top 10, blue otherwise\n",
    "    # for name in top_10_users:\n",
    "    #     id = self.user_getter.get_user_by_screen_name(name).id\n",
    "    #     graph.get_node(id).attr['color'] = 'red'\n",
    "\n",
    "    # graph.layout(prog='dot')\n",
    "    # graph.draw(f\"cluster_{cluster.base_user}.png\")\n",
    "# visualize_cluster(top_10_users)\n"
   ]
  },
  {
   "cell_type": "code",
   "execution_count": null,
   "metadata": {},
   "outputs": [],
   "source": [
    "cluster_nbhd.users"
   ]
  },
  {
   "cell_type": "code",
   "execution_count": 27,
   "metadata": {},
   "outputs": [],
   "source": [
    "# More ranking experiments\n",
    "def get_user_ranks(seed_user_name, cluster, path=DEFAULT_PATH):\n",
    "    \"\"\"Returns the top 10 ranked users from the given cluster with the seed id as user's id.\"\"\"\n",
    "    def get_user_id(user_name):\n",
    "        user = user_getter.get_user_by_screen_name(user_name)\n",
    "        user_id = str(user.id)\n",
    "        return user_id\n",
    "    user_id = get_user_id(seed_user_name)\n",
    "    # apply to all users in cluster\n",
    "    # cluster.users = [get_user_id(user_id) for user_id in cluster.users]\n",
    "    \n",
    "    injector = sdi.Injector.get_injector_from_file(path)\n",
    "    process_module = injector.get_process_module()\n",
    "\n",
    "    prod_ranker = process_module.get_ranker()\n",
    "    con_ranker = process_module.get_ranker(\"Consumption\")\n",
    "    sosu_ranker = process_module.get_ranker(\"SocialSupport\")\n",
    "    infl1_ranker = process_module.get_ranker(\"InfluenceOne\")\n",
    "    infl2_ranker = process_module.get_ranker(\"InfluenceTwo\")\n",
    "\n",
    "    # Second argument is the return of score_users\n",
    "    # prod_rank, prod = prod_ranker.rank(user_id, cluster)\n",
    "    # con_rank, con = con_ranker.rank(user_id, cluster)\n",
    "    sosu_rank, sosu = sosu_ranker.rank(user_id, cluster)\n",
    "    infl1_rank, infl1 = infl1_ranker.rank(user_id, cluster)\n",
    "    infl2_rank, infl2 = infl2_ranker.rank(user_id, cluster)\n",
    "\n",
    "    return sosu, infl1, infl2\n"
   ]
  },
  {
   "cell_type": "code",
   "execution_count": 73,
   "metadata": {},
   "outputs": [],
   "source": [
    "def get_intersection_ranking(prod, con, infl1, infl2):\n",
    "    \"\"\"Produces a ranking that is the intersection of the Production,\n",
    "    Consumption, Influence One, and Influence Two rankings\n",
    "\n",
    "    Args:\n",
    "        prod, con, infl1, infl2:\n",
    "            Are dictionaries where the key is the user id and the value is their\n",
    "            score for the respective ranker\n",
    "    Returns:\n",
    "        An ordered list of about 10 highest ranked users sorted by highest rank.\n",
    "    \"\"\"\n",
    "    prod_ranking = list(sorted(prod, key=lambda x: (prod[x][0], prod[x][1]), reverse=True))\n",
    "    con_ranking = list(sorted(prod, key=lambda x: (con[x][0], con[x][1]), reverse=True))\n",
    "    infl1_ranking = list(sorted(prod, key=lambda x: (infl1[x][0], infl1[x][1]), reverse=True))\n",
    "    infl2_ranking = list(sorted(prod, key=lambda x: (infl2[x][0], infl2[x][1]), reverse=True))\n",
    "    top_all = {}\n",
    "    for i in range(1, len(prod_ranking) + 1):\n",
    "        top_prod = set(prod_ranking[:i])\n",
    "        top_con = set(con_ranking[:i])\n",
    "        top_infl1 = set(infl1_ranking[:i])\n",
    "        top_infl2 = set(infl2_ranking[:i])\n",
    "        intersection = top_prod.intersection(\n",
    "            top_con).intersection(\n",
    "            top_infl1).intersection(\n",
    "            top_infl2)\n",
    "\n",
    "        for user in intersection:\n",
    "            if user not in top_all:\n",
    "                top_all[user] = [i, infl2_ranking.index(user)]\n",
    "\n",
    "        #if len(intersection) >= 20: break\n",
    "        if len(intersection) >= 10: break\n",
    "\n",
    "    return sorted(top_all, key=lambda x: (top_all[x][0], top_all[x][1]))"
   ]
  },
  {
   "cell_type": "code",
   "execution_count": 74,
   "metadata": {},
   "outputs": [],
   "source": [
    "def control_intersection_ranking(sosu, infl1, infl2):\n",
    "    \"\"\"Produces a ranking that aggregates the Social Support and Influence One rankings\n",
    "\n",
    "    Args:\n",
    "        sosu, infl1:\n",
    "            Is a dictionary where the key is the user id and the value is their\n",
    "            score for the respective ranker\n",
    "    Returns:\n",
    "        An ordered list of about 10 highest ranked users sorted by highest rank.\n",
    "    \"\"\"\n",
    "    # Get top 20 users from sosu_ranking\n",
    "    sosu_ranking = list(sorted(sosu, key=lambda x: (sosu[x][0], sosu[x][1]), reverse=True))[:10]\n",
    "    infl1_ranking = list(sorted(sosu, key=lambda x: (infl1[x][0], infl1[x][1]), reverse=False))\n",
    "    infl2_ranking = list(sorted(sosu, key=lambda x: (infl2[x][0], infl2[x][1]), reverse=False))\n",
    "    # Lowest infl1 scores appear first\n",
    "    # Lowest infl2 scores appear first\n",
    "    log.info(f\"Sosu score cutoff is {sosu[sosu_ranking[-1]][0]}\")\n",
    "    \n",
    "    return sosu_ranking"
   ]
  },
  {
   "cell_type": "code",
   "execution_count": 75,
   "metadata": {},
   "outputs": [],
   "source": [
    "def get_new_intersection_ranking(sosu, infl1, infl2):\n",
    "    \"\"\"Produces a ranking that aggregates the Social Support and Influence One rankings\n",
    "\n",
    "    Args:\n",
    "        sosu, infl1:\n",
    "            Is a dictionary where the key is the user id and the value is their\n",
    "            score for the respective ranker\n",
    "    Returns:\n",
    "        An ordered list of about 10 highest ranked users sorted by highest rank.\n",
    "    \"\"\"\n",
    "    # Get top 20 users from sosu_ranking\n",
    "    sosu_ranking = list(sorted(sosu, key=lambda x: (sosu[x][0], sosu[x][1]), reverse=True))\n",
    "    infl1_ranking = list(sorted(sosu, key=lambda x: (infl1[x][0], infl1[x][1]), reverse=False))\n",
    "    infl2_ranking = list(sorted(sosu, key=lambda x: (infl2[x][0], infl2[x][1]), reverse=False))\n",
    "    # Plot histogram of inflence 1 scores\n",
    "    fig, axs = plt.subplots(1, 2, sharey=True, tight_layout=True)\n",
    "    sns.histplot([infl1[x][0] for x in infl1], ax=axs[0], kde=True, bins=20)\n",
    "    sns.histplot([infl2[x][0] for x in infl2], ax=axs[1], kde=True, bins=20)\n",
    "    axs[0].set_title(\"Influence One\")\n",
    "    axs[1].set_title(\"Influence Two\")\n",
    "    plt.show()\n",
    "\n",
    "    sosu_ranking = sosu_ranking[:20]\n",
    "    # Lowest infl1 scores appear first\n",
    "    # Lowest infl2 scores appear first\n",
    "    log.info(f\"Sosu score cutoff is {sosu[sosu_ranking[-1]][0]}\")\n",
    "    \n",
    "    # Remove lowest infl1_ranking users from sosu_ranking until 10 users are left\n",
    "    for user in infl1_ranking:\n",
    "        if len(sosu_ranking) <= 10:\n",
    "            break\n",
    "        if user in sosu_ranking:\n",
    "            sosu_ranking.remove(user)\n",
    "    # Influence 1 with users in sosu_ranking\n",
    "    lst = [infl1[x][0] for x in sosu_ranking]\n",
    "    print(\"Influence 1 scores:\", lst)\n",
    "            \n",
    "        \n",
    "    return sosu_ranking"
   ]
  },
  {
   "cell_type": "code",
   "execution_count": 76,
   "metadata": {},
   "outputs": [],
   "source": [
    "def get_new_avg_intersection_ranking(sosu, infl1, infl2):\n",
    "    \"\"\"Produces a ranking that aggregates the Social Support and Influence One rankings\n",
    "\n",
    "    Args:\n",
    "        sosu, infl1:\n",
    "            Is a dictionary where the key is the user id and the value is their\n",
    "            score for the respective ranker\n",
    "    Returns:\n",
    "        An ordered list of about 10 highest ranked users sorted by highest rank.\n",
    "    \"\"\"\n",
    "    sosu_ranking = list(sorted(sosu, key=lambda x: (sosu[x][0], sosu[x][1]), reverse=True))[:20]\n",
    "    infl1_ranking = list(sorted(sosu, key=lambda x: (infl1[x][0], infl1[x][1]), reverse=False))\n",
    "    infl2_ranking = list(sorted(sosu, key=lambda x: (infl2[x][0], infl2[x][1]), reverse=False))\n",
    "    avg_infl1_infl2 = {user: min(infl1[user][0], infl2[user][0]) for user in sosu}\n",
    "    avg_infl1_infl2 = list(sorted(avg_infl1_infl2, key=lambda x: (avg_infl1_infl2[x]), reverse=False))\n",
    "    # Lowest infl1 scores appear first\n",
    "    # Lowest infl2 scores appear first\n",
    "    log.info(f\"Sosu score cutoff is {sosu[sosu_ranking[-1]][0]}\")\n",
    "    \n",
    "    # Remove lowest infl1_ranking users from sosu_ranking until 10 users are left\n",
    "    for user in avg_infl1_infl2:\n",
    "        if user in sosu_ranking:\n",
    "            sosu_ranking.remove(user)\n",
    "        if len(sosu_ranking) == 10:\n",
    "            break\n",
    "    return sosu_ranking"
   ]
  },
  {
   "cell_type": "code",
   "execution_count": 77,
   "metadata": {},
   "outputs": [],
   "source": [
    "def get_new_min_intersection_ranking(sosu, infl1, infl2):\n",
    "    \"\"\"Produces a ranking that aggregates the Social Support and Influence One rankings\n",
    "\n",
    "    Args:\n",
    "        sosu, infl1:\n",
    "            Is a dictionary where the key is the user id and the value is their\n",
    "            score for the respective ranker\n",
    "    Returns:\n",
    "        An ordered list of about 10 highest ranked users sorted by highest rank.\n",
    "    \"\"\"\n",
    "    sosu_ranking = list(sorted(sosu, key=lambda x: (sosu[x][0], sosu[x][1]), reverse=True))\n",
    "    infl1_ranking = list(sorted(sosu, key=lambda x: (infl1[x][0], infl1[x][1]), reverse=True))\n",
    "    infl2_ranking = list(sorted(sosu, key=lambda x: (infl2[x][0], infl2[x][1]), reverse=True))\n",
    "    # Lowest infl1 scores appear first\n",
    "    # Lowest infl2 scores appear first\n",
    "    log.info(f\"Sosu score cutoff is {sosu[sosu_ranking[-1]][0]}\")\n",
    "    top_all = {}\n",
    "    # Remove lowest infl1_ranking users from sosu_ranking until 10 users are left\n",
    "    for i in range(1, len(sosu_ranking) + 1):\n",
    "        top_sosu = set(sosu_ranking[:i])\n",
    "        top_infl1 = set(infl1_ranking[:i])\n",
    "        intersection = top_sosu.intersection(top_infl1)\n",
    "\n",
    "        for user in intersection:\n",
    "            if user not in top_all:\n",
    "                top_all[user] = [i, infl2_ranking.index(user)]\n",
    "\n",
    "        #if len(intersection) >= 20: break\n",
    "        if len(intersection) >= 10: break\n",
    "    \n",
    "    return sorted(top_all, key=lambda x: (top_all[x][0], top_all[x][1]))"
   ]
  },
  {
   "cell_type": "code",
   "execution_count": 78,
   "metadata": {},
   "outputs": [],
   "source": [
    "def get_new_top_avg_intersection_ranking(sosu, infl1, infl2, alpha=0.5):\n",
    "    \"\"\"Produces a ranking that aggregates the Social Support and Influence One rankings\n",
    "\n",
    "    Args:\n",
    "        sosu, infl1:\n",
    "            Is a dictionary where the key is the user id and the value is their\n",
    "            score for the respective ranker\n",
    "    Returns:\n",
    "        An ordered list of about 10 highest ranked users sorted by highest rank.\n",
    "    \"\"\"\n",
    "    sosu_ranking = list(sorted(sosu, key=lambda x: (sosu[x][0], sosu[x][1]), reverse=True))\n",
    "    infl1_ranking = list(sorted(sosu, key=lambda x: (infl1[x][0], infl1[x][1]), reverse=True))\n",
    "    infl2_ranking = list(sorted(sosu, key=lambda x: (infl2[x][0], infl2[x][1]), reverse=True))\n",
    "    # Lowest infl1 scores appear first\n",
    "    # Lowest infl2 scores appear first\n",
    "    top_10_infl1 = set(infl1_ranking[:10])\n",
    "    users = [user_getter.get_user_by_id(x).screen_name for x in infl1_ranking[:10]]\n",
    "    log.info(f\"Top 10 users: {users}\")\n",
    "    # Average of top_10_infl1\n",
    "    avg_top_10_infl1 = sum([infl1[x][0] for x in top_10_infl1]) / len(top_10_infl1)\n",
    "    t = alpha * avg_top_10_infl1\n",
    "    log.info(f\"Threshold is {t}\")\n",
    "    # Remove users if infl1 score is less than t\n",
    "    for user in infl1_ranking:\n",
    "        if infl1[user][0] < t:\n",
    "            if user in sosu_ranking:\n",
    "                sosu_ranking.remove(user)\n",
    "                \n",
    "    return sosu_ranking"
   ]
  },
  {
   "cell_type": "code",
   "execution_count": 28,
   "metadata": {},
   "outputs": [
    {
     "name": "stderr",
     "output_type": "stream",
     "text": [
      "100%|██████████| 61/61 [00:01<00:00, 55.17it/s]\n",
      "100%|██████████| 61/61 [00:00<00:00, 77.78it/s]\n",
      "100%|██████████| 61/61 [00:00<00:00, 61.51it/s]\n"
     ]
    }
   ],
   "source": [
    "# seed_user_name = 'hardmaru'\n",
    "# cluster =  ['ClementDelangue', 'apaszke', 'jjvincent', 'seb_ruder', 'poolio', 'jhamrick', 'roydanroy', 'egrefen', 'ogrisel', 'aidangomezzz', 'stanislavfort', 'CadeMetz', 'fchollet', 'osanseviero', 'peteskomoroch', 'ryan_p_adams', 'andrew_n_carr', 'GaryMarcus', 'alexjc', 'goodfellow_ian', 'JeffDean', 'l2k', 'jeremyphoward', 'alanyttian', 'mervenoyann', 'jennwvaughan', 'suzatweet', 'brandondamos', 'manaalfar', 'tkasasagi', 'Miles_Brundage', 'deliprao', 'natolambert', 'alliekmiller', 'SashaMTL', 'sedielem', 'julien_c', 'dwhitena', 'sarahcat21', 'IAugenstein', 'genekogan', 'bguedj', 'kchonyc', 'shivon', 'mcleavey', 'RichardSocher', 'hiconcep', 'soumithchintala', 'NandoDF', 'nathanbenaich', 'dustinvtran', 'cyrildiagne', 'azeem', '_nateraw', 'korymath', 'AndrewYNg', 'hackingdata', 'GuillaumeLample', 'tsimonite', 'dennybritz', 'goodside', 'jekbradbury', 'samcharrington', 'SanhEstPasMoi', 'mmitchell_ai', 'hardmaru', 'lishali88', 'Thom_Wolf', 'Smerity', 'nickwalton00', 'A_K_Nain', 'mdreid', 'jackclarkSF', 'ylecun', 'clmt', 'abursuc', '_rockt', 'douglas_eck', 'karpathy', 'nickfrosst', 'etzioni', 'kaixhin', 'wightmanr', 'mark_riedl', 'hannawallach', 'sleepinyourhat', 'NaveenGRao', 'adveisner', 'Kyle_L_Wiggers', 'animesh_garg', 'AlphaSignalAI', '841io']\n",
    "# cluster = Cluster(seed_user_name, cluster)\n",
    "sosu, infl1, infl2 = get_user_ranks(seed_user_name, cluster)"
   ]
  },
  {
   "cell_type": "code",
   "execution_count": null,
   "metadata": {},
   "outputs": [],
   "source": [
    "sosu_ranking = list(sorted(sosu, key=lambda x: (sosu[x][0], sosu[x][1]), reverse=True))[:20]\n",
    "visualize_cluster(sosu_ranking, save=False)"
   ]
  },
  {
   "cell_type": "code",
   "execution_count": 49,
   "metadata": {},
   "outputs": [
    {
     "data": {
      "text/plain": [
       "1"
      ]
     },
     "execution_count": 49,
     "metadata": {},
     "output_type": "execute_result"
    }
   ],
   "source": [
    "def find_follower_count(user_list: List[str], respecting_list: List[str] = None):\n",
    "    res = {user_id: 0 for user_id in user_list}\n",
    "    users = respecting_list if respecting_list else user_getter.get_all_users()\n",
    "    for u in users:\n",
    "        friends = user_friend_getter.get_user_friends_ids(str(u))\n",
    "        if friends:\n",
    "            for friend in friends:\n",
    "                friend = str(friend)\n",
    "                if friend in res:\n",
    "                    res[friend] += 1\n",
    "\n",
    "    # Map user ids to screen names\n",
    "    res = {user_getter.get_user_by_id(user_id).screen_name: res[user_id] for user_id in res}\n",
    "    return res\n",
    "\n",
    "def find_followers_in_cluster(user_list: List[str], cluster: Cluster):\n",
    "    cluster_users = cluster.users\n",
    "    return find_follower_count(user_list, cluster_users)\n",
    "\n",
    "def find_friends_count(user_list: List[str], respecting_list: List[str] = None):\n",
    "    res = {user_getter.get_user_by_id(user_id).screen_name: 0 for user_id in user_list}\n",
    "\n",
    "    for name in res:\n",
    "        id = user_getter.get_user_by_screen_name(name).id\n",
    "        friends = set(map(str, user_friend_getter.get_user_friends_ids(str(id))))\n",
    "        res[name] = friends.intersection(set(respecting_list)) if respecting_list else set(user_friend_getter.get_user_friends_ids(str(id)))\n",
    "        res[name] = len(res[name])\n",
    "\n",
    "    return res\n",
    "\n",
    "def find_friends_in_cluster(user_list: List[str], cluster: Cluster):\n",
    "    cluster_users = cluster.users\n",
    "    return find_friends_count(user_list, cluster_users)\n",
    "\n",
    "def retweets_in_common(respecting_list: List[str]):\n",
    "    # Returns the number of users retweeted at least two users in the respecting list\n",
    "    if not respecting_list[0].isnumeric():\n",
    "        respecting_list = [str(user_getter.get_user_by_screen_name(name).id) for name in respecting_list]\n",
    "    count = 0\n",
    "    res = set(cluster_nbhd.get_user_activities(respecting_list[0]))\n",
    "    for user in respecting_list[1:]:\n",
    "        rtd_users = (set(cluster_nbhd.get_user_activities(user)))\n",
    "        res = res.intersection(rtd_users)\n",
    "    return len(res)\n",
    "retweets_in_common(top_10_users)\n",
    "# find_friends_in_cluster([str(user_getter.get_user_by_screen_name(\"ClementDelangue\").id)], cluster)\n"
   ]
  },
  {
   "cell_type": "code",
   "execution_count": 81,
   "metadata": {},
   "outputs": [],
   "source": [
    "def summarize_cluster(filename: str, cluster, sosu, infl1, infl2):\n",
    "    # Get top 20 of sosu, infl1, infl2\n",
    "    sosu_ranking = list(sorted(sosu, key=lambda x: (sosu[x][0], sosu[x][1]), reverse=True))[:20]\n",
    "    infl1_ranking = list(sorted(sosu, key=lambda x: (infl1[x][0], infl1[x][1]), reverse=True))[:20]\n",
    "    infl2_ranking = list(sorted(sosu, key=lambda x: (infl2[x][0], infl2[x][1]), reverse=True))[:20]\n",
    "\n",
    "    # Log users\n",
    "    users = [user_getter.get_user_by_id(x).screen_name for x in sosu_ranking]\n",
    "    log.info(f\"Sosu top 20: {users}\")\n",
    "    users = [user_getter.get_user_by_id(x).screen_name for x in infl1_ranking]\n",
    "    log.info(f\"Infl1 top 20: {users}\")\n",
    "    users = [user_getter.get_user_by_id(x).screen_name for x in infl2_ranking]\n",
    "    log.info(f\"Infl2 top 20: {users}\")\n",
    "\n",
    "    follower_counts = find_follower_count(sosu_ranking)\n",
    "    follower_counts_in_cluster = find_followers_in_cluster(cluster.users, cluster)\n",
    "    friend_counts = find_friends_count(sosu_ranking)\n",
    "    friend_counts_in_cluster = find_friends_in_cluster(cluster.users, cluster)\n",
    "    \n",
    "    avg_follower_count = sum(follower_counts.values()) / len(follower_counts)\n",
    "    avg_follower_count_in_cluster = sum(follower_counts_in_cluster.values()) / len(follower_counts_in_cluster)\n",
    "    avg_friend_count = sum(friend_counts.values()) / len(friend_counts)\n",
    "    avg_friend_count_in_cluster = sum(friend_counts_in_cluster.values()) / len(friend_counts_in_cluster)\n",
    "\n",
    "    log.info(f\"Average follower count: {avg_follower_count}\")\n",
    "    log.info(f\"Average follower count in cluster: {avg_follower_count_in_cluster}\")\n",
    "    log.info(f\"Average friend count: {avg_friend_count}\")\n",
    "    log.info(f\"Average friend count in cluster: {avg_friend_count_in_cluster}\")\n",
    "\n",
    "    # Save csv file with user stats\n",
    "    with open(f\"{filename}.csv\", \"w\") as f:\n",
    "        writer = csv.writer(f)\n",
    "        writer.writerow([\"user\", \"sosu\", \"infl1\", \"infl2\", \"followers_in_db\", \"followers_in_cluster\", \"friends_in_db\", \"friends_in_cluster\"])\n",
    "        \n",
    "        for user in sosu_ranking:\n",
    "            user_obj = user_getter.get_user_by_id(user)\n",
    "            name = user_obj.screen_name\n",
    "            writer.writerow([name, sosu[user][0], infl1[user][0], infl2[user][0], follower_counts[name], follower_counts_in_cluster[name]])\n",
    "    "
   ]
  },
  {
   "cell_type": "code",
   "execution_count": 82,
   "metadata": {},
   "outputs": [],
   "source": [
    "# Loop through all files in ./data that start with \"selected_clusters\"\n",
    "def gen_table_from_data(data_path: str):\n",
    "    for file in os.listdir(data_path):\n",
    "        filename = os.fsdecode(file)\n",
    "        if filename.startswith(\"selected_clusters\"):\n",
    "            with open(f\"{data_path}/{filename}\", \"rb\") as f:\n",
    "                clusters = pickle.load(f)\n",
    "                # Return the chars after \"selected_clusters_\"\n",
    "                name = re.search(r\"selected_clusters_(.*)\", filename).group(1)\n",
    "                # Split on the first underscore\n",
    "                user_id = name.split(\"_\", 1)[0]\n",
    "                seed_user_name = user_getter.get_user_by_id(user_id).screen_name\n",
    "                root_csv_name = seed_user_name + \"_\" + name\n",
    "                for i, cluster in enumerate(clusters):\n",
    "                    csv_name = f\"./tables/{root_csv_name}_{i+1}\"\n",
    "                    log.info(\"Tabulating cluster \" + str(csv_name))\n",
    "                    sosu, infl1, infl2, prod, con = get_user_ranks(seed_user_name, cluster)\n",
    "                    tabulate_rankings(csv_name, cluster, sosu, infl1, infl2)"
   ]
  },
  {
   "cell_type": "code",
   "execution_count": 83,
   "metadata": {},
   "outputs": [],
   "source": [
    "def get_ranking_score_by_screen_name(screen_name: str, score) -> float:\n",
    "    user_id = user_getter.get_user_by_screen_name(screen_name).id\n",
    "    print(score[str(user_id)][0])\n",
    "# get_ranking_score_by_screen_name(\"hardmaru\", sosu)"
   ]
  },
  {
   "cell_type": "code",
   "execution_count": 84,
   "metadata": {},
   "outputs": [
    {
     "data": {
      "image/png": "[encoded data removed]",
      "text/plain": [
       "<Figure size 1500x500 with 2 Axes>"
      ]
     },
     "metadata": {},
     "output_type": "display_data"
    }
   ],
   "source": [
    "# Plot sosu vs infl1, infl2\n",
    "fig, (ax1, ax2) = plt.subplots(1, 2)\n",
    "fig = fig.set_size_inches(15, 5)\n",
    "ax1.scatter([sosu[user][0] for user in sosu], [infl1[user][0] for user in sosu])\n",
    "ax1.set_xlabel(\"Social Support\")\n",
    "ax1.set_ylabel(\"Influence One\")\n",
    "ax1.set_title(\"Social Support vs Influence One\")\n",
    "ax2.scatter([sosu[user][0] for user in sosu], [infl2[user][0] for user in sosu])\n",
    "ax2.set_xlabel(\"Social Support\")\n",
    "ax2.set_ylabel(\"Influence Two\")\n",
    "ax2.set_title(\"Social Support vs Influence Two\")\n",
    "plt.show()"
   ]
  },
  {
   "cell_type": "code",
   "execution_count": 85,
   "metadata": {},
   "outputs": [
    {
     "name": "stderr",
     "output_type": "stream",
     "text": [
      "2023-07-04 03:01:27 - __main__ - INFO - Sosu score cutoff is 625.0\n",
      "2023-07-04 03:01:27 - __main__ - INFO - ['chesscom', 'chesscom_in', 'ChesscomLive', 'FIDE_chess', 'chess24com', 'itherocky', 'ChessbaseIndia', 'GrandChessTour', 'aicfchess', 'TarjeiJS']\n"
     ]
    }
   ],
   "source": [
    "control_sosu_ranking = control_intersection_ranking(sosu, infl1, infl2)\n",
    "control_sosu_ranking_names = [user_getter.get_user_by_id(user).screen_name for user in control_sosu_ranking]\n",
    "log.info(control_sosu_ranking_names)"
   ]
  },
  {
   "cell_type": "code",
   "execution_count": 86,
   "metadata": {},
   "outputs": [
    {
     "name": "stderr",
     "output_type": "stream",
     "text": [
      "2023-07-04 03:01:27 - __main__ - INFO - ['chesscom_in', 'chesscom', 'aicfchess', 'GrandChessTour', 'itherocky', 'ChesscomLive', 'rpragchess', 'anishgiri', 'FIDE_chess', 'DavidHowellGM']\n"
     ]
    }
   ],
   "source": [
    "old_intersection_ranking = get_intersection_ranking(prod, con, infl1, infl2)\n",
    "old_intersection_ranking_names = [user_getter.get_user_by_id(user).screen_name for user in old_intersection_ranking]\n",
    "log.info(old_intersection_ranking_names)"
   ]
  },
  {
   "cell_type": "code",
   "execution_count": 87,
   "metadata": {},
   "outputs": [
    {
     "data": {
      "image/png": "[encoded data removed]",
      "text/plain": [
       "<Figure size 640x480 with 2 Axes>"
      ]
     },
     "metadata": {},
     "output_type": "display_data"
    },
    {
     "name": "stderr",
     "output_type": "stream",
     "text": [
      "2023-07-04 03:01:27 - __main__ - INFO - Sosu score cutoff is 199.0\n",
      "2023-07-04 03:01:28 - __main__ - INFO - ['chesscom', 'chesscom_in', 'ChesscomLive', 'itherocky', 'GrandChessTour', 'aicfchess', 'anishgiri', 'Rameshchess', 'rpragchess', 'GMJuditPolgar']\n"
     ]
    },
    {
     "name": "stdout",
     "output_type": "stream",
     "text": [
      "Influence 1 scores: [0.7546115148127446, 0.6205962059620597, 0.4488013002844372, 0.4758539458186101, 0.4757834757834758, 0.5079617834394905, 0.3840877914951989, 0.7381443298969073, 0.4583333333333333, 0.6392961876832844]\n"
     ]
    }
   ],
   "source": [
    "new_sosu_ranking = get_new_intersection_ranking(sosu, infl1, infl2)\n",
    "# Print user names\n",
    "# Diff only mmitchell_ai removed -- better since theyre not a researcher\n",
    "new_sosu_ranking_names = [user_getter.get_user_by_id(user).screen_name for user in new_sosu_ranking]\n",
    "log.info(new_sosu_ranking_names)"
   ]
  },
  {
   "cell_type": "code",
   "execution_count": 88,
   "metadata": {},
   "outputs": [
    {
     "name": "stderr",
     "output_type": "stream",
     "text": [
      "2023-07-04 03:01:28 - __main__ - INFO - Sosu score cutoff is 199.0\n",
      "2023-07-04 03:01:28 - __main__ - INFO - ['chesscom', 'chesscom_in', 'ChesscomLive', 'FIDE_chess', 'itherocky', 'GrandChessTour', 'aicfchess', 'anishgiri', 'Rameshchess', 'rpragchess']\n"
     ]
    }
   ],
   "source": [
    "new_avg_sosu_ranking = get_new_avg_intersection_ranking(sosu, infl1, infl2)\n",
    "# Print user names\n",
    "new_avg_sosu_ranking_names = [user_getter.get_user_by_id(user).screen_name for user in new_avg_sosu_ranking]\n",
    "log.info(new_avg_sosu_ranking_names)"
   ]
  },
  {
   "cell_type": "code",
   "execution_count": 89,
   "metadata": {},
   "outputs": [
    {
     "name": "stderr",
     "output_type": "stream",
     "text": [
      "2023-07-04 03:01:28 - __main__ - INFO - Sosu score cutoff is 0\n",
      "2023-07-04 03:01:28 - __main__ - INFO - ['chesscom', 'chesscom_in', 'aicfchess', 'itherocky', 'Rameshchess', 'GrandChessTour', 'rpragchess', 'ChesscomLive', 'GMJuditPolgar', 'anishgiri', 'DavidHowellGM']\n"
     ]
    }
   ],
   "source": [
    "new_min_sosu_ranking = get_new_min_intersection_ranking(sosu, infl1, infl2)\n",
    "# Print user names\n",
    "new_min_sosu_ranking_names = [user_getter.get_user_by_id(user).screen_name for user in new_min_sosu_ranking]\n",
    "log.info(new_min_sosu_ranking_names)"
   ]
  },
  {
   "cell_type": "code",
   "execution_count": 90,
   "metadata": {},
   "outputs": [
    {
     "name": "stderr",
     "output_type": "stream",
     "text": [
      "2023-07-04 03:01:28 - __main__ - INFO - Top 10 users: ['london_chess', 'sadhwani2005', 'TaniaSachdev', 'chesscom', 'Rameshchess', 'Chesser_22', 'GMJuditPolgar', 'chesscom_in', 'advorkovich', 'adhibanchess']\n",
      "2023-07-04 03:01:28 - __main__ - INFO - Threshold is 0.347123182331288\n",
      "2023-07-04 03:01:28 - __main__ - INFO - ['chesscom', 'chesscom_in', 'ChesscomLive', 'FIDE_chess', 'itherocky', 'GrandChessTour', 'aicfchess', 'anishgiri', 'Rameshchess', 'rpragchess', 'GMJuditPolgar', 'DavidHowellGM', 'viditchess', 'TaniaSachdev', 'chessvaishali', 'adhibanchess', 'chessqueen', 'sadhwani2005', 'DivyaDeshmukh05', 'london_chess', 'BCMChess', 'Chesser_22', 'advorkovich']\n"
     ]
    }
   ],
   "source": [
    "new_top_avg_sosu_ranking = get_new_top_avg_intersection_ranking(sosu, infl1, infl2)\n",
    "# Print user names\n",
    "new_top_avg_sosu_ranking_names = [user_getter.get_user_by_id(user).screen_name for user in new_top_avg_sosu_ranking]\n",
    "log.info(new_top_avg_sosu_ranking_names)"
   ]
  },
  {
   "cell_type": "code",
   "execution_count": 91,
   "metadata": {},
   "outputs": [
    {
     "name": "stderr",
     "output_type": "stream",
     "text": [
      "2023-07-04 03:01:28 - __main__ - INFO - {'DavidHowellGM', 'FIDE_chess'}\n",
      "2023-07-04 03:01:28 - __main__ - INFO - {'GMJuditPolgar'}\n",
      "2023-07-04 03:01:28 - __main__ - INFO - {'FIDE_chess'}\n",
      "2023-07-04 03:01:28 - __main__ - INFO - {'DavidHowellGM'}\n",
      "2023-07-04 03:01:28 - __main__ - INFO - {'ChessbaseIndia', 'TarjeiJS', 'chess24com'}\n"
     ]
    }
   ],
   "source": [
    "# Set difference both ways\n",
    "log.info(set(old_intersection_ranking_names) - set(new_sosu_ranking_names))\n",
    "log.info(set(new_sosu_ranking_names) - set(new_avg_sosu_ranking_names))\n",
    "log.info(set(new_avg_sosu_ranking_names) - set(new_sosu_ranking_names))\n",
    "log.info(set(new_min_sosu_ranking_names) - set(new_sosu_ranking_names))\n",
    "log.info(set(control_sosu_ranking_names) - set(new_avg_sosu_ranking_names))"
   ]
  },
  {
   "cell_type": "code",
   "execution_count": 92,
   "metadata": {},
   "outputs": [
    {
     "data": {
      "image/png": "[encoded data removed]",
      "text/plain": [
       "<Figure size 1500x500 with 2 Axes>"
      ]
     },
     "metadata": {},
     "output_type": "display_data"
    }
   ],
   "source": [
    "# Plot social support vs infl1 and infl2\n",
    "fig, (ax1, ax2) = plt.subplots(1, 2)\n",
    "fig = fig.set_size_inches(15, 5)\n",
    "ax1.scatter([sosu[user][0] for user in new_sosu_ranking], [infl1[user][0] for user in new_sosu_ranking])\n",
    "# Plot horizontal line at min infl1 score\n",
    "min1 = min([infl1[user][0] for user in new_sosu_ranking])\n",
    "ax1.axhline(y=min1, color='r', linestyle='--')\n",
    "# Show value of min infl1 score\n",
    "#ax1.text(-8, min1, f\"{min1:.3f}\")\n",
    "ax1.set_xlabel(\"Social Support\")\n",
    "ax1.set_ylabel(\"Influence One\")\n",
    "ax1.set_title(\"Social Support vs Influence One\")\n",
    "ax2.scatter([sosu[user][0] for user in new_sosu_ranking], [infl2[user][0] for user in new_sosu_ranking])\n",
    "# Plot horizontal line at min infl2 score\n",
    "min2 = min([infl2[user][0] for user in new_sosu_ranking])\n",
    "ax2.axhline(y=min2, color='r', linestyle='--')\n",
    "# Show value of min infl2 score\n",
    "ax2.text(-8, min2, f\"{min2:.3f}\")\n",
    "ax2.set_xlabel(\"Social Support\")\n",
    "ax2.set_ylabel(\"Influence Two\")\n",
    "ax2.set_title(\"Social Support vs Influence Two\")\n",
    "plt.show()"
   ]
  },
  {
   "cell_type": "code",
   "execution_count": null,
   "metadata": {},
   "outputs": [],
   "source": []
  }
 ],
 "metadata": {
  "kernelspec": {
   "display_name": "env",
   "language": "python",
   "name": "python3"
  },
  "language_info": {
   "codemirror_mode": {
    "name": "ipython",
    "version": 3
   },
   "file_extension": ".py",
   "mimetype": "text/x-python",
   "name": "python",
   "nbconvert_exporter": "python",
   "pygments_lexer": "ipython3",
   "version": "3.9.16"
  },
  "orig_nbformat": 4
 },
 "nbformat": 4,
 "nbformat_minor": 2
}
