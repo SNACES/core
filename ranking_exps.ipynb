{
 "cells": [
  {
   "cell_type": "code",
   "execution_count": 1,
   "metadata": {},
   "outputs": [
    {
     "name": "stdout",
     "output_type": "stream",
     "text": [
      "Note: to be able to use all crisp methods, you need to install some additional packages:  {'infomap', 'karateclub', 'graph_tool', 'leidenalg', 'wurlitzer'}\n",
      "Note: to be able to use all overlapping methods, you need to install some additional packages:  {'ASLPAw', 'karateclub'}\n",
      "Note: to be able to use all bipartite methods, you need to install some additional packages:  {'leidenalg', 'infomap', 'wurlitzer'}\n"
     ]
    }
   ],
   "source": [
    "import src.dependencies.injector as sdi\n",
    "from src.shared.logger_factory import LoggerFactory\n",
    "from src.process.data_cleaning.data_cleaning_distributions import jaccard_similarity\n",
    "from src.shared.utils import get_project_root\n",
    "from src.model.cluster import Cluster\n",
    "from typing import List\n",
    "import matplotlib.pyplot as plt\n",
    "import numpy as np\n",
    "import seaborn as sns\n",
    "import csv\n",
    "\n",
    "log = LoggerFactory.logger(__name__)\n",
    "DEFAULT_PATH = str(get_project_root()) + \\\n",
    "    \"/src/scripts/config/create_social_graph_and_cluster_config.yaml\""
   ]
  },
  {
   "cell_type": "code",
   "execution_count": 2,
   "metadata": {},
   "outputs": [],
   "source": [
    "injector = sdi.Injector.get_injector_from_file(DEFAULT_PATH)\n",
    "process_module = injector.get_process_module()\n",
    "dao_module = injector.get_dao_module()\n",
    "user_activity_getters = {\n",
    "    \"friends\": dao_module.get_user_activity_getter(user_activity=\"friends\"),\n",
    "    \"user retweets\": dao_module.get_user_activity_getter(user_activity=\"user retweets\"),\n",
    "    \"user retweets ids\": dao_module.get_user_activity_getter(user_activity=\"user retweets ids\")\n",
    "}\n",
    "user_getter = dao_module.get_user_getter()\n",
    "user_friend_getter = dao_module.get_user_friend_getter()\n",
    "\n",
    "def get_user_activities(user_id: str, user_activity: str):\n",
    "    activities = user_activity_getters[user_activity].get_user_activities(user_id)\n",
    "    if len(activities) == 0:\n",
    "        return None\n",
    "    else:\n",
    "        return activities"
   ]
  },
  {
   "cell_type": "code",
   "execution_count": 3,
   "metadata": {},
   "outputs": [],
   "source": [
    "# import pickle\n",
    "# seed_user = \"hardmaru\"\n",
    "# # Load cluster\n",
    "# with open(\"initial_clusters_hardmaru.pkl\", \"rb\") as f:\n",
    "#     clusters = pickle.load(f)\n",
    "# with open(\"selected_clusters_2895499182.pkl\", \"rb\") as f:\n",
    "#     selected_clusters = pickle.load(f)\n",
    "\n",
    "# # Print cluster users\n",
    "# for cluster in selected_clusters:\n",
    "#     users = [user_getter.get_user_by_id(user).screen_name for user in cluster.users]\n",
    "#     log.info(users)"
   ]
  },
  {
   "cell_type": "code",
   "execution_count": 4,
   "metadata": {},
   "outputs": [],
   "source": [
    "# More ranking experiments\n",
    "def get_user_ranks(seed_user_name, cluster, path=DEFAULT_PATH):\n",
    "    \"\"\"Returns the top 10 ranked users from the given cluster with the seed id as user's id.\"\"\"\n",
    "    def get_user_id(user_name):\n",
    "        user = user_getter.get_user_by_screen_name(user_name)\n",
    "        user_id = str(user.id)\n",
    "        return user_id\n",
    "    user_id = get_user_id(seed_user_name)\n",
    "    # apply to all users in cluster\n",
    "    cluster.users = [get_user_id(user_id) for user_id in cluster.users]\n",
    "    \n",
    "    injector = sdi.Injector.get_injector_from_file(path)\n",
    "    process_module = injector.get_process_module()\n",
    "\n",
    "    prod_ranker = process_module.get_ranker()\n",
    "    con_ranker = process_module.get_ranker(\"Consumption\")\n",
    "    sosu_ranker = process_module.get_ranker(\"SocialSupport\")\n",
    "    infl1_ranker = process_module.get_ranker(\"InfluenceOne\")\n",
    "    infl2_ranker = process_module.get_ranker(\"InfluenceTwo\")\n",
    "\n",
    "    # Second argument is the return of score_users\n",
    "    prod_rank, prod = prod_ranker.rank(user_id, cluster)\n",
    "    con_rank, con = con_ranker.rank(user_id, cluster)\n",
    "    sosu_rank, sosu = sosu_ranker.rank(user_id, cluster)\n",
    "    infl1_rank, infl1 = infl1_ranker.rank(user_id, cluster)\n",
    "    infl2_rank, infl2 = infl2_ranker.rank(user_id, cluster)\n",
    "\n",
    "    return sosu, infl1, infl2, prod, con\n"
   ]
  },
  {
   "cell_type": "code",
   "execution_count": 5,
   "metadata": {},
   "outputs": [],
   "source": [
    "def get_intersection_ranking(prod, con, infl1, infl2):\n",
    "    \"\"\"Produces a ranking that is the intersection of the Production,\n",
    "    Consumption, Influence One, and Influence Two rankings\n",
    "\n",
    "    Args:\n",
    "        prod, con, infl1, infl2:\n",
    "            Are dictionaries where the key is the user id and the value is their\n",
    "            score for the respective ranker\n",
    "    Returns:\n",
    "        An ordered list of about 10 highest ranked users sorted by highest rank.\n",
    "    \"\"\"\n",
    "    prod_ranking = list(sorted(prod, key=lambda x: (prod[x][0], prod[x][1]), reverse=True))\n",
    "    con_ranking = list(sorted(prod, key=lambda x: (con[x][0], con[x][1]), reverse=True))\n",
    "    infl1_ranking = list(sorted(prod, key=lambda x: (infl1[x][0], infl1[x][1]), reverse=True))\n",
    "    infl2_ranking = list(sorted(prod, key=lambda x: (infl2[x][0], infl2[x][1]), reverse=True))\n",
    "    top_all = {}\n",
    "    for i in range(1, len(prod_ranking) + 1):\n",
    "        top_prod = set(prod_ranking[:i])\n",
    "        top_con = set(con_ranking[:i])\n",
    "        top_infl1 = set(infl1_ranking[:i])\n",
    "        top_infl2 = set(infl2_ranking[:i])\n",
    "        intersection = top_prod.intersection(\n",
    "            top_con).intersection(\n",
    "            top_infl1).intersection(\n",
    "            top_infl2)\n",
    "\n",
    "        for user in intersection:\n",
    "            if user not in top_all:\n",
    "                top_all[user] = [i, infl2_ranking.index(user)]\n",
    "\n",
    "        #if len(intersection) >= 20: break\n",
    "        if len(intersection) >= 10: break\n",
    "\n",
    "    return sorted(top_all, key=lambda x: (top_all[x][0], top_all[x][1]))"
   ]
  },
  {
   "cell_type": "code",
   "execution_count": 6,
   "metadata": {},
   "outputs": [],
   "source": [
    "def control_intersection_ranking(sosu, infl1, infl2):\n",
    "    \"\"\"Produces a ranking that aggregates the Social Support and Influence One rankings\n",
    "\n",
    "    Args:\n",
    "        sosu, infl1:\n",
    "            Is a dictionary where the key is the user id and the value is their\n",
    "            score for the respective ranker\n",
    "    Returns:\n",
    "        An ordered list of about 10 highest ranked users sorted by highest rank.\n",
    "    \"\"\"\n",
    "    # Get top 20 users from sosu_ranking\n",
    "    sosu_ranking = list(sorted(sosu, key=lambda x: (sosu[x][0], sosu[x][1]), reverse=True))[:10]\n",
    "    infl1_ranking = list(sorted(sosu, key=lambda x: (infl1[x][0], infl1[x][1]), reverse=False))\n",
    "    infl2_ranking = list(sorted(sosu, key=lambda x: (infl2[x][0], infl2[x][1]), reverse=False))\n",
    "    # Lowest infl1 scores appear first\n",
    "    # Lowest infl2 scores appear first\n",
    "    log.info(f\"Sosu score cutoff is {sosu[sosu_ranking[-1]][0]}\")\n",
    "    \n",
    "    return sosu_ranking"
   ]
  },
  {
   "cell_type": "code",
   "execution_count": 7,
   "metadata": {},
   "outputs": [],
   "source": [
    "def get_new_intersection_ranking(sosu, infl1, infl2):\n",
    "    \"\"\"Produces a ranking that aggregates the Social Support and Influence One rankings\n",
    "\n",
    "    Args:\n",
    "        sosu, infl1:\n",
    "            Is a dictionary where the key is the user id and the value is their\n",
    "            score for the respective ranker\n",
    "    Returns:\n",
    "        An ordered list of about 10 highest ranked users sorted by highest rank.\n",
    "    \"\"\"\n",
    "    # Get top 20 users from sosu_ranking\n",
    "    sosu_ranking = list(sorted(sosu, key=lambda x: (sosu[x][0], sosu[x][1]), reverse=True))\n",
    "    infl1_ranking = list(sorted(sosu, key=lambda x: (infl1[x][0], infl1[x][1]), reverse=False))\n",
    "    infl2_ranking = list(sorted(sosu, key=lambda x: (infl2[x][0], infl2[x][1]), reverse=False))\n",
    "    # Plot histogram of inflence 1 scores\n",
    "    fig, axs = plt.subplots(1, 2, sharey=True, tight_layout=True)\n",
    "    sns.histplot([infl1[x][0] for x in infl1], ax=axs[0], kde=True, bins=20)\n",
    "    sns.histplot([infl2[x][0] for x in infl2], ax=axs[1], kde=True, bins=20)\n",
    "    axs[0].set_title(\"Influence One\")\n",
    "    axs[1].set_title(\"Influence Two\")\n",
    "    plt.show()\n",
    "\n",
    "    sosu_ranking = sosu_ranking[:20]\n",
    "    # Lowest infl1 scores appear first\n",
    "    # Lowest infl2 scores appear first\n",
    "    log.info(f\"Sosu score cutoff is {sosu[sosu_ranking[-1]][0]}\")\n",
    "    \n",
    "    # Remove lowest infl1_ranking users from sosu_ranking until 10 users are left\n",
    "    for user in infl1_ranking:\n",
    "        if len(sosu_ranking) <= 10:\n",
    "            break\n",
    "        if user in sosu_ranking:\n",
    "            sosu_ranking.remove(user)\n",
    "    # Influence 1 with users in sosu_ranking\n",
    "    lst = [infl1[x][0] for x in sosu_ranking]\n",
    "    print(lst)\n",
    "            \n",
    "        \n",
    "    return sosu_ranking"
   ]
  },
  {
   "cell_type": "code",
   "execution_count": 8,
   "metadata": {},
   "outputs": [],
   "source": [
    "def get_new_avg_intersection_ranking(sosu, infl1, infl2):\n",
    "    \"\"\"Produces a ranking that aggregates the Social Support and Influence One rankings\n",
    "\n",
    "    Args:\n",
    "        sosu, infl1:\n",
    "            Is a dictionary where the key is the user id and the value is their\n",
    "            score for the respective ranker\n",
    "    Returns:\n",
    "        An ordered list of about 10 highest ranked users sorted by highest rank.\n",
    "    \"\"\"\n",
    "    sosu_ranking = list(sorted(sosu, key=lambda x: (sosu[x][0], sosu[x][1]), reverse=True))[:20]\n",
    "    infl1_ranking = list(sorted(sosu, key=lambda x: (infl1[x][0], infl1[x][1]), reverse=False))\n",
    "    infl2_ranking = list(sorted(sosu, key=lambda x: (infl2[x][0], infl2[x][1]), reverse=False))\n",
    "    avg_infl1_infl2 = {user: min(infl1[user][0], infl2[user][0]) for user in infl1}\n",
    "    avg_infl1_infl2 = list(sorted(avg_infl1_infl2, key=lambda x: (avg_infl1_infl2[x]), reverse=False))\n",
    "    # Lowest infl1 scores appear first\n",
    "    # Lowest infl2 scores appear first\n",
    "    log.info(f\"Sosu score cutoff is {sosu[sosu_ranking[-1]][0]}\")\n",
    "    \n",
    "    # Remove lowest infl1_ranking users from sosu_ranking until 10 users are left\n",
    "    for user in avg_infl1_infl2:\n",
    "        if user in sosu_ranking:\n",
    "            sosu_ranking.remove(user)\n",
    "        if len(sosu_ranking) == 10:\n",
    "            break\n",
    "    return sosu_ranking"
   ]
  },
  {
   "cell_type": "code",
   "execution_count": 9,
   "metadata": {},
   "outputs": [],
   "source": [
    "def get_new_min_intersection_ranking(sosu, infl1, infl2):\n",
    "    \"\"\"Produces a ranking that aggregates the Social Support and Influence One rankings\n",
    "\n",
    "    Args:\n",
    "        sosu, infl1:\n",
    "            Is a dictionary where the key is the user id and the value is their\n",
    "            score for the respective ranker\n",
    "    Returns:\n",
    "        An ordered list of about 10 highest ranked users sorted by highest rank.\n",
    "    \"\"\"\n",
    "    sosu_ranking = list(sorted(sosu, key=lambda x: (sosu[x][0], sosu[x][1]), reverse=True))\n",
    "    infl1_ranking = list(sorted(sosu, key=lambda x: (infl1[x][0], infl1[x][1]), reverse=True))\n",
    "    infl2_ranking = list(sorted(sosu, key=lambda x: (infl2[x][0], infl2[x][1]), reverse=True))\n",
    "    # Lowest infl1 scores appear first\n",
    "    # Lowest infl2 scores appear first\n",
    "    log.info(f\"Sosu score cutoff is {sosu[sosu_ranking[-1]][0]}\")\n",
    "    top_all = {}\n",
    "    # Remove lowest infl1_ranking users from sosu_ranking until 10 users are left\n",
    "    for i in range(1, len(sosu_ranking) + 1):\n",
    "        top_sosu = set(sosu_ranking[:i])\n",
    "        top_infl1 = set(infl1_ranking[:i])\n",
    "        intersection = top_sosu.intersection(top_infl1)\n",
    "\n",
    "        for user in intersection:\n",
    "            if user not in top_all:\n",
    "                top_all[user] = [i, infl2_ranking.index(user)]\n",
    "\n",
    "        #if len(intersection) >= 20: break\n",
    "        if len(intersection) >= 10: break\n",
    "    \n",
    "    return sorted(top_all, key=lambda x: (top_all[x][0], top_all[x][1]))"
   ]
  },
  {
   "cell_type": "code",
   "execution_count": 10,
   "metadata": {},
   "outputs": [],
   "source": [
    "def get_new_top_avg_intersection_ranking(sosu, infl1, infl2, alpha=0.5):\n",
    "    \"\"\"Produces a ranking that aggregates the Social Support and Influence One rankings\n",
    "\n",
    "    Args:\n",
    "        sosu, infl1:\n",
    "            Is a dictionary where the key is the user id and the value is their\n",
    "            score for the respective ranker\n",
    "    Returns:\n",
    "        An ordered list of about 10 highest ranked users sorted by highest rank.\n",
    "    \"\"\"\n",
    "    sosu_ranking = list(sorted(sosu, key=lambda x: (sosu[x][0], sosu[x][1]), reverse=True))\n",
    "    infl1_ranking = list(sorted(sosu, key=lambda x: (infl1[x][0], infl1[x][1]), reverse=True))\n",
    "    infl2_ranking = list(sorted(sosu, key=lambda x: (infl2[x][0], infl2[x][1]), reverse=True))\n",
    "    # Lowest infl1 scores appear first\n",
    "    # Lowest infl2 scores appear first\n",
    "    top_10_infl1 = set(infl1_ranking[:10])\n",
    "    users = [user_getter.get_user_by_id(x).screen_name for x in infl1_ranking[:10]]\n",
    "    log.info(f\"Top 10 users: {users}\")\n",
    "    # Average of top_10_infl1\n",
    "    avg_top_10_infl1 = sum([infl1[x][0] for x in top_10_infl1]) / len(top_10_infl1)\n",
    "    t = alpha * avg_top_10_infl1\n",
    "    log.info(f\"Threshold is {t}\")\n",
    "    # Remove users if infl1 score is less than t\n",
    "    for user in infl1_ranking:\n",
    "        if infl1[user][0] < t:\n",
    "            if user in sosu_ranking:\n",
    "                sosu_ranking.remove(user)\n",
    "                \n",
    "    return sosu_ranking"
   ]
  },
  {
   "cell_type": "code",
   "execution_count": 24,
   "metadata": {},
   "outputs": [
    {
     "name": "stderr",
     "output_type": "stream",
     "text": [
      "100%|██████████| 59/59 [00:01<00:00, 57.02it/s]\n",
      "100%|██████████| 59/59 [00:00<00:00, 326.25it/s]\n",
      "100%|██████████| 59/59 [00:01<00:00, 55.02it/s]\n",
      "100%|██████████| 59/59 [00:00<00:00, 83.52it/s]\n",
      "100%|██████████| 59/59 [00:00<00:00, 61.08it/s]\n"
     ]
    }
   ],
   "source": [
    "seed_user_name = 'hardmaru'\n",
    "cluster =  ['hardmaru', 'elonmusk', 'AlphaSignalAI', 'DrJimFan', 'alexjc', 'Jeande_d', 'peteskomoroch', 'tszzl', 'yaringal', 'l2k', 'IEEESpectrum', 'ykilcher', 'nalkalc', 'JayAlammar', 'PetarV_93', 'bhutanisanyam1', 'mervenoyann', 'mmbronstein', 'weights_biases', 'ClementDelangue', 'seanjtaylor', 'shaneguML', 'Thom_Wolf', 'Smearle_RH', 'DynamicWebPaige', 'pabbeel', '_akhaliq', 'srush_nlp', 'egrefen', 'KordingLab', 'suzatweet', 'sarahookr', 'alfcnz', 'JeffDean', 'andrewgwils', 'ogrisel', 'rasbt', 'jeffclune', 'RichardSocher', 'seb_ruder', 'bernhardsson', 'DaniloJRezende', 'mark_riedl', 'dustinvtran', 'jeremyphoward', 'random_forests', 'natashajaques', 'thomaskipf', 'yoavgo', 'sleepinyourhat', 'kchonyc', 'jackclarkSF', 'Miles_Brundage', '_rockt', 'deliprao', 'janexwang', 'ericjang11', 'fchollet', 'karpathy']\n",
    "cluster = Cluster(seed_user_name, cluster)\n",
    "sosu, infl1, infl2, prod, con = get_user_ranks(seed_user_name, cluster)"
   ]
  },
  {
   "cell_type": "code",
   "execution_count": 27,
   "metadata": {},
   "outputs": [],
   "source": [
    "def find_follower_count(user_list: List[str], respecting_list: List[str] = None):\n",
    "    res = {user_id: 0 for user_id in user_list}\n",
    "    users = respecting_list if respecting_list else user_getter.get_all_users()\n",
    "    for u in users:\n",
    "        friends = user_friend_getter.get_user_friends_ids(str(u))\n",
    "        if friends:\n",
    "            for friend in friends:\n",
    "                friend = str(friend)\n",
    "                if friend in res:\n",
    "                    res[friend] += 1\n",
    "\n",
    "    # Map user ids to screen names\n",
    "    res = {user_getter.get_user_by_id(user_id).screen_name: res[user_id] for user_id in res}\n",
    "    return res\n",
    "\n",
    "def find_followers_in_cluster(user_list: List[str], cluster: Cluster):\n",
    "    cluster_users = cluster.users\n",
    "    return find_follower_count(user_list, cluster_users)\n",
    "\n",
    "\n",
    "# find_follower_count([str(user_getter.get_user_by_screen_name(\"hardmaru\").id)])"
   ]
  },
  {
   "cell_type": "code",
   "execution_count": 28,
   "metadata": {},
   "outputs": [
    {
     "name": "stderr",
     "output_type": "stream",
     "text": [
      "2023-06-22 22:51:55 - __main__ - INFO - Sosu top 20: ['DynamicWebPaige', 'ClementDelangue', '_akhaliq', 'hardmaru', 'shaneguML', 'jeremyphoward', 'Thom_Wolf', 'karpathy', 'egrefen', 'mervenoyann', 'fchollet', 'DrJimFan', 'suzatweet', 'JeffDean', 'AlphaSignalAI', '_rockt', 'tszzl', 'JayAlammar', 'deliprao', 'ericjang11']\n",
      "2023-06-22 22:51:55 - __main__ - INFO - Infl1 top 20: ['karpathy', 'Thom_Wolf', 'suzatweet', 'JeffDean', 'shaneguML', 'pabbeel', 'ClementDelangue', 'dustinvtran', 'jackclarkSF', 'srush_nlp', 'thomaskipf', 'natashajaques', 'hardmaru', 'egrefen', 'seb_ruder', 'PetarV_93', 'Smearle_RH', 'DrJimFan', 'JayAlammar', 'sleepinyourhat']\n",
      "2023-06-22 22:51:55 - __main__ - INFO - Infl2 top 20: ['DynamicWebPaige', 'hardmaru', '_akhaliq', 'ClementDelangue', 'jeremyphoward', 'fchollet', 'DrJimFan', 'shaneguML', 'JeffDean', 'karpathy', 'Thom_Wolf', '_rockt', 'egrefen', 'AlphaSignalAI', 'ericjang11', 'kchonyc', 'Miles_Brundage', 'suzatweet', 'sarahookr', 'deliprao']\n"
     ]
    }
   ],
   "source": [
    "# Get top 20 of sosu, infl1, infl2\n",
    "sosu_ranking = list(sorted(sosu, key=lambda x: (sosu[x][0], sosu[x][1]), reverse=True))[:20]\n",
    "infl1_ranking = list(sorted(sosu, key=lambda x: (infl1[x][0], infl1[x][1]), reverse=True))[:20]\n",
    "infl2_ranking = list(sorted(sosu, key=lambda x: (infl2[x][0], infl2[x][1]), reverse=True))[:20]\n",
    "\n",
    "# Log users\n",
    "users = [user_getter.get_user_by_id(x).screen_name for x in sosu_ranking]\n",
    "log.info(f\"Sosu top 20: {users}\")\n",
    "users = [user_getter.get_user_by_id(x).screen_name for x in infl1_ranking]\n",
    "log.info(f\"Infl1 top 20: {users}\")\n",
    "users = [user_getter.get_user_by_id(x).screen_name for x in infl2_ranking]\n",
    "log.info(f\"Infl2 top 20: {users}\")\n",
    "\n",
    "# Save csv file with columns user | sosu | infl1 | infl2\n",
    "with open(f\"{seed_user_name}.csv\", \"w\") as f:\n",
    "    writer = csv.writer(f)\n",
    "    writer.writerow([\"user\", \"sosu\", \"infl1\", \"infl2\", \"followers\", \"followers_in_db\", \"followers_in_cluster\"])\n",
    "    follower_counts = find_follower_count(sosu_ranking)\n",
    "    follower_counts_in_cluster = find_followers_in_cluster(sosu_ranking, cluster)\n",
    "    for user in sosu_ranking:\n",
    "        user_obj = user_getter.get_user_by_id(user)\n",
    "        name = user_obj.screen_name\n",
    "        writer.writerow([name, sosu[user][0], infl1[user][0], infl2[user][0], user_obj.followers_count, follower_counts[name], follower_counts_in_cluster[name]])\n",
    "    "
   ]
  },
  {
   "cell_type": "code",
   "execution_count": 14,
   "metadata": {},
   "outputs": [],
   "source": [
    "def get_ranking_score_by_screen_name(screen_name: str, score) -> float:\n",
    "    user_id = user_getter.get_user_by_screen_name(screen_name).id\n",
    "    print(score[str(user_id)][0])\n",
    "# get_ranking_score_by_screen_name(\"hardmaru\", sosu)"
   ]
  },
  {
   "cell_type": "code",
   "execution_count": 15,
   "metadata": {},
   "outputs": [
    {
     "name": "stdout",
     "output_type": "stream",
     "text": [
      "0.2778904665314402\n"
     ]
    },
    {
     "data": {
      "text/plain": [
       "'Length user tweets: 1994\\n229\\n448'"
      ]
     },
     "execution_count": 15,
     "metadata": {},
     "output_type": "execute_result"
    }
   ],
   "source": [
    "s = get_ranking_score_by_screen_name(\"hardmaru\", infl1)\n",
    "s\n",
    "\"\"\"Length user tweets: 1994\n",
    "229\n",
    "448\"\"\""
   ]
  },
  {
   "cell_type": "code",
   "execution_count": 16,
   "metadata": {},
   "outputs": [
    {
     "data": {
      "image/png": "[encoded data removed]",
      "text/plain": [
       "<Figure size 1500x500 with 2 Axes>"
      ]
     },
     "metadata": {},
     "output_type": "display_data"
    }
   ],
   "source": [
    "# Plot sosu vs infl1, infl2\n",
    "fig, (ax1, ax2) = plt.subplots(1, 2)\n",
    "fig = fig.set_size_inches(15, 5)\n",
    "ax1.scatter([sosu[user][0] for user in sosu], [infl1[user][0] for user in sosu])\n",
    "ax1.set_xlabel(\"Social Support\")\n",
    "ax1.set_ylabel(\"Influence One\")\n",
    "ax1.set_title(\"Social Support vs Influence One\")\n",
    "ax2.scatter([sosu[user][0] for user in sosu], [infl2[user][0] for user in sosu])\n",
    "ax2.set_xlabel(\"Social Support\")\n",
    "ax2.set_ylabel(\"Influence Two\")\n",
    "ax2.set_title(\"Social Support vs Influence Two\")\n",
    "plt.show()"
   ]
  },
  {
   "cell_type": "code",
   "execution_count": 17,
   "metadata": {},
   "outputs": [
    {
     "name": "stderr",
     "output_type": "stream",
     "text": [
      "2023-06-22 22:24:41 - __main__ - INFO - Sosu score cutoff is 234.0\n",
      "2023-06-22 22:24:41 - __main__ - INFO - ['DynamicWebPaige', 'ClementDelangue', '_akhaliq', 'hardmaru', 'shaneguML', 'jeremyphoward', 'Thom_Wolf', 'karpathy', 'egrefen', 'mervenoyann']\n"
     ]
    }
   ],
   "source": [
    "control_sosu_ranking = control_intersection_ranking(sosu, infl1, infl2)\n",
    "control_sosu_ranking_names = [user_getter.get_user_by_id(user).screen_name for user in control_sosu_ranking]\n",
    "log.info(control_sosu_ranking_names)"
   ]
  },
  {
   "cell_type": "code",
   "execution_count": 18,
   "metadata": {},
   "outputs": [
    {
     "name": "stderr",
     "output_type": "stream",
     "text": [
      "2023-06-22 22:24:41 - __main__ - INFO - ['ClementDelangue', 'hardmaru', 'egrefen', 'DrJimFan', 'shaneguML', '_rockt', 'Thom_Wolf', 'AlphaSignalAI', 'JayAlammar', 'ericjang11']\n"
     ]
    }
   ],
   "source": [
    "old_intersection_ranking = get_intersection_ranking(prod, con, infl1, infl2)\n",
    "old_intersection_ranking_names = [user_getter.get_user_by_id(user).screen_name for user in old_intersection_ranking]\n",
    "log.info(old_intersection_ranking_names)"
   ]
  },
  {
   "cell_type": "code",
   "execution_count": 19,
   "metadata": {},
   "outputs": [
    {
     "data": {
      "image/png": "[encoded data removed]",
      "text/plain": [
       "<Figure size 640x480 with 2 Axes>"
      ]
     },
     "metadata": {},
     "output_type": "display_data"
    },
    {
     "name": "stderr",
     "output_type": "stream",
     "text": [
      "2023-06-22 22:24:41 - __main__ - INFO - Sosu score cutoff is 133.0\n",
      "2023-06-22 22:24:41 - __main__ - INFO - ['ClementDelangue', 'hardmaru', 'shaneguML', 'Thom_Wolf', 'karpathy', 'egrefen', 'DrJimFan', 'suzatweet', 'JeffDean', 'JayAlammar']\n"
     ]
    },
    {
     "name": "stdout",
     "output_type": "stream",
     "text": [
      "[0.34571175950486294, 0.2778904665314402, 0.3644605621033545, 0.7541666666666667, 1.027027027027027, 0.2765957446808511, 0.24798711755233493, 0.41935483870967744, 0.40654205607476634, 0.2441860465116279]\n"
     ]
    }
   ],
   "source": [
    "new_sosu_ranking = get_new_intersection_ranking(sosu, infl1, infl2)\n",
    "# Print user names\n",
    "# Diff only mmitchell_ai removed -- better since theyre not a researcher\n",
    "new_sosu_ranking_names = [user_getter.get_user_by_id(user).screen_name for user in new_sosu_ranking]\n",
    "log.info(new_sosu_ranking_names)"
   ]
  },
  {
   "cell_type": "code",
   "execution_count": 20,
   "metadata": {},
   "outputs": [
    {
     "name": "stderr",
     "output_type": "stream",
     "text": [
      "2023-06-22 22:24:41 - __main__ - INFO - Sosu score cutoff is 133.0\n",
      "2023-06-22 22:24:41 - __main__ - INFO - ['ClementDelangue', 'hardmaru', 'shaneguML', 'Thom_Wolf', 'karpathy', 'egrefen', 'DrJimFan', 'suzatweet', 'JeffDean', '_rockt']\n"
     ]
    }
   ],
   "source": [
    "new_avg_sosu_ranking = get_new_avg_intersection_ranking(sosu, infl1, infl2)\n",
    "# Print user names\n",
    "new_avg_sosu_ranking_names = [user_getter.get_user_by_id(user).screen_name for user in new_avg_sosu_ranking]\n",
    "log.info(new_avg_sosu_ranking_names)"
   ]
  },
  {
   "cell_type": "code",
   "execution_count": 21,
   "metadata": {},
   "outputs": [
    {
     "name": "stderr",
     "output_type": "stream",
     "text": [
      "2023-06-22 22:24:41 - __main__ - INFO - Sosu score cutoff is 0.0\n",
      "2023-06-22 22:24:41 - __main__ - INFO - ['shaneguML', 'ClementDelangue', 'Thom_Wolf', 'karpathy', 'hardmaru', 'suzatweet', 'JeffDean', 'egrefen', 'DrJimFan', 'JayAlammar']\n"
     ]
    }
   ],
   "source": [
    "new_avg_sosu_ranking = get_new_min_intersection_ranking(sosu, infl1, infl2)\n",
    "# Print user names\n",
    "new_avg_sosu_ranking_names = [user_getter.get_user_by_id(user).screen_name for user in new_avg_sosu_ranking]\n",
    "log.info(new_avg_sosu_ranking_names)"
   ]
  },
  {
   "cell_type": "code",
   "execution_count": 64,
   "metadata": {},
   "outputs": [
    {
     "name": "stderr",
     "output_type": "stream",
     "text": [
      "2023-06-20 22:45:00 - __main__ - INFO - Top 10 users: ['karpathy', 'Thom_Wolf', 'dustinvtran', 'random_forests', 'suzatweet', 'JeffDean', 'shaneguML', 'pabbeel', 'ClementDelangue', 'natashajaques']\n",
      "2023-06-20 22:45:00 - __main__ - INFO - Threshold is 0.24568173144528016\n",
      "2023-06-20 22:45:01 - __main__ - INFO - ['hardmaru', 'karpathy', 'DrJimFan', 'ClementDelangue', 'egrefen', 'jackclarkSF', 'JeffDean', 'Thom_Wolf', 'PetarV_93', 'shaneguML', 'srush_nlp', 'suzatweet', 'natashajaques', 'dustinvtran', 'thomaskipf', 'seb_ruder', 'random_forests', 'pabbeel']\n"
     ]
    }
   ],
   "source": [
    "new_avg_sosu_ranking = get_new_top_avg_intersection_ranking(sosu, infl1, infl2)\n",
    "# Print user names\n",
    "new_avg_sosu_ranking_names = [user_getter.get_user_by_id(user).screen_name for user in new_avg_sosu_ranking]\n",
    "log.info(new_avg_sosu_ranking_names)"
   ]
  },
  {
   "cell_type": "code",
   "execution_count": 65,
   "metadata": {},
   "outputs": [
    {
     "name": "stderr",
     "output_type": "stream",
     "text": [
      "2023-06-20 22:45:01 - __main__ - INFO - {'ericjang11', 'AlphaSignalAI', 'shaneguML', '_rockt'}\n",
      "2023-06-20 22:45:01 - __main__ - INFO - {'JayAlammar'}\n",
      "2023-06-20 22:45:01 - __main__ - INFO - {'seb_ruder', 'dustinvtran', 'thomaskipf', 'suzatweet', 'random_forests', 'srush_nlp', 'shaneguML', 'pabbeel', 'natashajaques'}\n",
      "2023-06-20 22:45:01 - __main__ - INFO - {'_akhaliq', 'AlphaSignalAI', 'mervenoyann', 'fchollet', 'DynamicWebPaige'}\n",
      "2023-06-20 22:45:01 - __main__ - INFO - {'_akhaliq', 'AlphaSignalAI', 'mervenoyann', 'fchollet', 'DynamicWebPaige'}\n"
     ]
    }
   ],
   "source": [
    "# Set difference both ways\n",
    "log.info(set(old_intersection_ranking_names) - set(new_sosu_ranking_names))\n",
    "log.info(set(new_sosu_ranking_names) - set(new_avg_sosu_ranking_names))\n",
    "log.info(set(new_avg_sosu_ranking_names) - set(new_sosu_ranking_names))\n",
    "log.info(set(control_sosu_ranking_names) - set(new_sosu_ranking_names))\n",
    "log.info(set(control_sosu_ranking_names) - set(new_avg_sosu_ranking_names))"
   ]
  },
  {
   "cell_type": "code",
   "execution_count": 66,
   "metadata": {},
   "outputs": [
    {
     "data": {
      "image/png": "[encoded data removed]",
      "text/plain": [
       "<Figure size 1500x500 with 2 Axes>"
      ]
     },
     "metadata": {},
     "output_type": "display_data"
    }
   ],
   "source": [
    "# Plot social support vs infl1 and infl2\n",
    "fig, (ax1, ax2) = plt.subplots(1, 2)\n",
    "fig = fig.set_size_inches(15, 5)\n",
    "ax1.scatter([sosu[user][0] for user in new_sosu_ranking], [infl1[user][0] for user in new_sosu_ranking])\n",
    "# Plot horizontal line at min infl1 score\n",
    "min1 = min([infl1[user][0] for user in new_sosu_ranking])\n",
    "ax1.axhline(y=min1, color='r', linestyle='--')\n",
    "# Show value of min infl1 score\n",
    "#ax1.text(-8, min1, f\"{min1:.3f}\")\n",
    "ax1.set_xlabel(\"Social Support\")\n",
    "ax1.set_ylabel(\"Influence One\")\n",
    "ax1.set_title(\"Social Support vs Influence One\")\n",
    "ax2.scatter([sosu[user][0] for user in new_sosu_ranking], [infl2[user][0] for user in new_sosu_ranking])\n",
    "# Plot horizontal line at min infl2 score\n",
    "min2 = min([infl2[user][0] for user in new_sosu_ranking])\n",
    "ax2.axhline(y=min2, color='r', linestyle='--')\n",
    "# Show value of min infl2 score\n",
    "ax2.text(-8, min2, f\"{min2:.3f}\")\n",
    "ax2.set_xlabel(\"Social Support\")\n",
    "ax2.set_ylabel(\"Influence Two\")\n",
    "ax2.set_title(\"Social Support vs Influence Two\")\n",
    "plt.show()"
   ]
  },
  {
   "cell_type": "code",
   "execution_count": null,
   "metadata": {},
   "outputs": [],
   "source": []
  }
 ],
 "metadata": {
  "kernelspec": {
   "display_name": "env",
   "language": "python",
   "name": "python3"
  },
  "language_info": {
   "codemirror_mode": {
    "name": "ipython",
    "version": 3
   },
   "file_extension": ".py",
   "mimetype": "text/x-python",
   "name": "python",
   "nbconvert_exporter": "python",
   "pygments_lexer": "ipython3",
   "version": "3.9.16"
  },
  "orig_nbformat": 4
 },
 "nbformat": 4,
 "nbformat_minor": 2
}
