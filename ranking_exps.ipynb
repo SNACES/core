{
 "cells": [
  {
   "cell_type": "code",
   "execution_count": 1,
   "metadata": {},
   "outputs": [
    {
     "name": "stdout",
     "output_type": "stream",
     "text": [
      "Note: to be able to use all crisp methods, you need to install some additional packages:  {'karateclub', 'leidenalg', 'infomap', 'graph_tool', 'wurlitzer'}\n",
      "Note: to be able to use all overlapping methods, you need to install some additional packages:  {'karateclub', 'ASLPAw'}\n",
      "Note: to be able to use all bipartite methods, you need to install some additional packages:  {'infomap', 'wurlitzer', 'leidenalg'}\n"
     ]
    }
   ],
   "source": [
    "import src.dependencies.injector as sdi\n",
    "from src.shared.logger_factory import LoggerFactory\n",
    "from src.process.data_cleaning.data_cleaning_distributions import jaccard_similarity\n",
    "from src.shared.utils import get_project_root\n",
    "from src.model.cluster import Cluster\n",
    "from typing import List\n",
    "import matplotlib.pyplot as plt\n",
    "import numpy as np\n",
    "\n",
    "log = LoggerFactory.logger(__name__)\n",
    "DEFAULT_PATH = str(get_project_root()) + \\\n",
    "    \"/src/scripts/config/create_social_graph_and_cluster_config.yaml\""
   ]
  },
  {
   "cell_type": "code",
   "execution_count": 2,
   "metadata": {},
   "outputs": [],
   "source": [
    "injector = sdi.Injector.get_injector_from_file(DEFAULT_PATH)\n",
    "process_module = injector.get_process_module()\n",
    "dao_module = injector.get_dao_module()\n",
    "user_activity_getters = {\n",
    "    \"friends\": dao_module.get_user_activity_getter(user_activity=\"friends\"),\n",
    "    \"user retweets\": dao_module.get_user_activity_getter(user_activity=\"user retweets\"),\n",
    "    \"user retweets ids\": dao_module.get_user_activity_getter(user_activity=\"user retweets ids\")\n",
    "}\n",
    "user_getter = dao_module.get_user_getter()\n",
    "user_friend_getter = dao_module.get_user_friend_getter()\n",
    "\n",
    "def get_user_activities(user_id: str, user_activity: str):\n",
    "    activities = user_activity_getters[user_activity].get_user_activities(user_id)\n",
    "    if len(activities) == 0:\n",
    "        return None\n",
    "    else:\n",
    "        return activities"
   ]
  },
  {
   "cell_type": "code",
   "execution_count": 3,
   "metadata": {},
   "outputs": [
    {
     "name": "stderr",
     "output_type": "stream",
     "text": [
      "2023-06-12 02:51:56 - __main__ - INFO - ['hardmaru', 'DrJimFan', 'peteskomoroch', 'tszzl', 'yaringal', 'JayAlammar', 'PetarV_93', 'mervenoyann', 'mmbronstein', 'ClementDelangue', 'shaneguML', 'Thom_Wolf', 'DynamicWebPaige', 'pabbeel', '_akhaliq', 'srush_nlp', 'egrefen', 'suzatweet', 'sarahookr', 'JeffDean', 'andrewgwils', 'ogrisel', 'colinraffel', 'zacharylipton', 'seb_ruder', 'DaniloJRezende', 'mark_riedl', 'jeremyphoward', 'natashajaques', 'thomaskipf', 'ch402', 'sleepinyourhat', 'kchonyc', 'jackclarkSF', 'Miles_Brundage', '_rockt', 'deliprao', 'janexwang', 'ericjang11', 'shakir_za', 'fchollet', 'karpathy']\n",
      "2023-06-12 02:51:56 - __main__ - INFO - ['ClementDelangue', 'AlphaSignalAI', 'BlancheMinerva', 'mervenoyann', 'natolambert', 'SashaMTL', 'mmitchell_ai', 'suzatweet', 'l2k', 'mark_riedl', 'clmt', 'SanhEstPasMoi', 'deliprao', 'Miles_Brundage', 'jackclarkSF', 'karpathy', 'seb_ruder', 'fchollet', 'Thom_Wolf', 'sleepinyourhat']\n"
     ]
    }
   ],
   "source": [
    "import pickle\n",
    "seed_user = \"hardmaru\"\n",
    "# Load cluster\n",
    "with open(\"initial_clusters_hardmaru\", \"rb\") as f:\n",
    "    clusters = pickle.load(f)\n",
    "with open(\"selected_clusters_2895499182\", \"rb\") as f:\n",
    "    selected_clusters = pickle.load(f)\n",
    "\n",
    "# Print cluster users\n",
    "for cluster in selected_clusters:\n",
    "    users = [user_getter.get_user_by_id(user).screen_name for user in cluster.users]\n",
    "    log.info(users)"
   ]
  },
  {
   "cell_type": "code",
   "execution_count": 93,
   "metadata": {},
   "outputs": [],
   "source": [
    "# More ranking experiments\n",
    "def get_user_ranks(seed_user_name, cluster, path=DEFAULT_PATH):\n",
    "    \"\"\"Returns the top 10 ranked users from the given cluster with the seed id as user's id.\"\"\"\n",
    "    def get_user_id(user_name):\n",
    "        user = user_getter.get_user_by_screen_name(user_name)\n",
    "        user_id = str(user.id)\n",
    "        return user_id\n",
    "    user_id = get_user_id(seed_user_name)\n",
    "    # apply to all users in cluster\n",
    "    cluster.users = [get_user_id(user_id) for user_id in cluster.users]\n",
    "    \n",
    "    injector = sdi.Injector.get_injector_from_file(path)\n",
    "    process_module = injector.get_process_module()\n",
    "\n",
    "    prod_ranker = process_module.get_ranker()\n",
    "    con_ranker = process_module.get_ranker(\"Consumption\")\n",
    "    sosu_ranker = process_module.get_ranker(\"SocialSupport\")\n",
    "    infl1_ranker = process_module.get_ranker(\"InfluenceOne\")\n",
    "    infl2_ranker = process_module.get_ranker(\"InfluenceTwo\")\n",
    "\n",
    "    # Second argument is the return of score_users\n",
    "    prod_rank, prod = prod_ranker.rank(user_id, cluster)\n",
    "    con_rank, con = con_ranker.rank(user_id, cluster)\n",
    "    sosu_rank, sosu = sosu_ranker.rank(user_id, cluster)\n",
    "    infl1_rank, infl1 = infl1_ranker.rank(user_id, cluster)\n",
    "    infl2_rank, infl2 = infl2_ranker.rank(user_id, cluster)\n",
    "\n",
    "    return sosu, infl1, infl2, prod, con\n"
   ]
  },
  {
   "cell_type": "code",
   "execution_count": 94,
   "metadata": {},
   "outputs": [],
   "source": [
    "def get_intersection_ranking(prod, con, infl1, infl2):\n",
    "    \"\"\"Produces a ranking that is the intersection of the Production,\n",
    "    Consumption, Influence One, and Influence Two rankings\n",
    "\n",
    "    Args:\n",
    "        prod, con, infl1, infl2:\n",
    "            Are dictionaries where the key is the user id and the value is their\n",
    "            score for the respective ranker\n",
    "    Returns:\n",
    "        An ordered list of about 10 highest ranked users sorted by highest rank.\n",
    "    \"\"\"\n",
    "    prod_ranking = list(sorted(prod, key=lambda x: (prod[x][0], prod[x][1]), reverse=True))\n",
    "    con_ranking = list(sorted(prod, key=lambda x: (con[x][0], con[x][1]), reverse=True))\n",
    "    infl1_ranking = list(sorted(prod, key=lambda x: (infl1[x][0], infl1[x][1]), reverse=True))\n",
    "    infl2_ranking = list(sorted(prod, key=lambda x: (infl2[x][0], infl2[x][1]), reverse=True))\n",
    "    top_all = {}\n",
    "    for i in range(1, len(prod_ranking) + 1):\n",
    "        top_prod = set(prod_ranking[:i])\n",
    "        top_con = set(con_ranking[:i])\n",
    "        top_infl1 = set(infl1_ranking[:i])\n",
    "        top_infl2 = set(infl2_ranking[:i])\n",
    "        intersection = top_prod.intersection(\n",
    "            top_con).intersection(\n",
    "            top_infl1).intersection(\n",
    "            top_infl2)\n",
    "\n",
    "        for user in intersection:\n",
    "            if user not in top_all:\n",
    "                top_all[user] = [i, infl2_ranking.index(user)]\n",
    "\n",
    "        #if len(intersection) >= 20: break\n",
    "        if len(intersection) >= 10: break\n",
    "\n",
    "    return sorted(top_all, key=lambda x: (top_all[x][0], top_all[x][1]))"
   ]
  },
  {
   "cell_type": "code",
   "execution_count": 95,
   "metadata": {},
   "outputs": [],
   "source": [
    "def control_intersection_ranking(sosu, infl1, infl2):\n",
    "    \"\"\"Produces a ranking that aggregates the Social Support and Influence One rankings\n",
    "\n",
    "    Args:\n",
    "        sosu, infl1:\n",
    "            Is a dictionary where the key is the user id and the value is their\n",
    "            score for the respective ranker\n",
    "    Returns:\n",
    "        An ordered list of about 10 highest ranked users sorted by highest rank.\n",
    "    \"\"\"\n",
    "    # Get top 20 users from sosu_ranking\n",
    "    sosu_ranking = list(sorted(sosu, key=lambda x: (sosu[x][0], sosu[x][1]), reverse=True))[:10]\n",
    "    infl1_ranking = list(sorted(sosu, key=lambda x: (infl1[x][0], infl1[x][1]), reverse=False))\n",
    "    infl2_ranking = list(sorted(sosu, key=lambda x: (infl2[x][0], infl2[x][1]), reverse=False))\n",
    "    # Lowest infl1 scores appear first\n",
    "    # Lowest infl2 scores appear first\n",
    "    log.info(f\"Sosu score cutoff is {sosu[sosu_ranking[-1]][0]}\")\n",
    "    \n",
    "    return sosu_ranking"
   ]
  },
  {
   "cell_type": "code",
   "execution_count": 96,
   "metadata": {},
   "outputs": [],
   "source": [
    "def get_new_intersection_ranking(sosu, infl1, infl2):\n",
    "    \"\"\"Produces a ranking that aggregates the Social Support and Influence One rankings\n",
    "\n",
    "    Args:\n",
    "        sosu, infl1:\n",
    "            Is a dictionary where the key is the user id and the value is their\n",
    "            score for the respective ranker\n",
    "    Returns:\n",
    "        An ordered list of about 10 highest ranked users sorted by highest rank.\n",
    "    \"\"\"\n",
    "    # Get top 20 users from sosu_ranking\n",
    "    sosu_ranking = list(sorted(sosu, key=lambda x: (sosu[x][0], sosu[x][1]), reverse=True))[:20]\n",
    "    infl1_ranking = list(sorted(sosu, key=lambda x: (infl1[x][0], infl1[x][1]), reverse=False))\n",
    "    infl2_ranking = list(sorted(sosu, key=lambda x: (infl2[x][0], infl2[x][1]), reverse=False))\n",
    "    # Lowest infl1 scores appear first\n",
    "    # Lowest infl2 scores appear first\n",
    "    log.info(f\"Sosu score cutoff is {sosu[sosu_ranking[-1]][0]}\")\n",
    "    \n",
    "    # Remove lowest infl1_ranking users from sosu_ranking until 10 users are left\n",
    "    for user in infl1_ranking:\n",
    "        if user in sosu_ranking:\n",
    "            sosu_ranking.remove(user)\n",
    "        if len(sosu_ranking) == 10:\n",
    "            break\n",
    "    return sosu_ranking"
   ]
  },
  {
   "cell_type": "code",
   "execution_count": 97,
   "metadata": {},
   "outputs": [],
   "source": [
    "def get_new_avg_intersection_ranking(sosu, infl1, infl2):\n",
    "    \"\"\"Produces a ranking that aggregates the Social Support and Influence One rankings\n",
    "\n",
    "    Args:\n",
    "        sosu, infl1:\n",
    "            Is a dictionary where the key is the user id and the value is their\n",
    "            score for the respective ranker\n",
    "    Returns:\n",
    "        An ordered list of about 10 highest ranked users sorted by highest rank.\n",
    "    \"\"\"\n",
    "    sosu_ranking = list(sorted(sosu, key=lambda x: (sosu[x][0], sosu[x][1]), reverse=True))[:20]\n",
    "    infl1_ranking = list(sorted(sosu, key=lambda x: (infl1[x][0], infl1[x][1]), reverse=False))\n",
    "    infl2_ranking = list(sorted(sosu, key=lambda x: (infl2[x][0], infl2[x][1]), reverse=False))\n",
    "    avg_infl1_infl2 = {user: min(infl1[user][0], infl2[user][0]) for user in infl1}\n",
    "    avg_infl1_infl2 = list(sorted(avg_infl1_infl2, key=lambda x: (avg_infl1_infl2[x]), reverse=False))\n",
    "    # Lowest infl1 scores appear first\n",
    "    # Lowest infl2 scores appear first\n",
    "    log.info(f\"Sosu score cutoff is {sosu[sosu_ranking[-1]][0]}\")\n",
    "    \n",
    "    # Remove lowest infl1_ranking users from sosu_ranking until 10 users are left\n",
    "    for user in avg_infl1_infl2:\n",
    "        if user in sosu_ranking:\n",
    "            sosu_ranking.remove(user)\n",
    "        if len(sosu_ranking) == 10:\n",
    "            break\n",
    "    return sosu_ranking"
   ]
  },
  {
   "cell_type": "code",
   "execution_count": 114,
   "metadata": {},
   "outputs": [
    {
     "name": "stderr",
     "output_type": "stream",
     "text": [
      "100%|██████████| 28/28 [00:00<00:00, 215.55it/s]\n",
      "100%|██████████| 28/28 [00:00<00:00, 320.84it/s]\n",
      "100%|██████████| 28/28 [00:00<00:00, 242.54it/s]\n",
      "100%|██████████| 28/28 [00:00<00:00, 2809.51it/s]\n",
      "100%|██████████| 28/28 [00:00<00:00, 643.51it/s]\n"
     ]
    }
   ],
   "source": [
    "# Chess cluster\n",
    "cluster =   ['hardmaru', 'hicetnunc2000', 'dmitricherniak', 'mgxs_co', 'joshu', 'artnome', 'tjukanov', 'etiennejcb', 'runwayml', '_baku89', 'thespite', 'mattdesl', 'shantell_martin', 'GrayAreaorg', 'kGolid', 'REAS', 'beesandbombs', 'blprnt', 'aaronkoblin', 'p5xjs', 'sxywu', 'openprocessing', 'zachlieberman', 'felixturner', 'golan', 'algoritmic', 'RavenKwok', 'tylerxhobbs']\n",
    "cluster = Cluster(\"hardmaru\", cluster)\n",
    "sosu, infl1, infl2, prod, con = get_user_ranks(\"hardmaru\", cluster)"
   ]
  },
  {
   "cell_type": "code",
   "execution_count": 115,
   "metadata": {},
   "outputs": [
    {
     "data": {
      "image/png": "[encoded data removed]",
      "text/plain": [
       "<Figure size 1500x500 with 2 Axes>"
      ]
     },
     "metadata": {},
     "output_type": "display_data"
    }
   ],
   "source": [
    "# Plot sosu vs infl1, infl2\n",
    "fig, (ax1, ax2) = plt.subplots(1, 2)\n",
    "fig = fig.set_size_inches(15, 5)\n",
    "ax1.scatter([sosu[user][0] for user in sosu], [infl1[user][0] for user in sosu])\n",
    "ax1.set_xlabel(\"Social Support\")\n",
    "ax1.set_ylabel(\"Influence One\")\n",
    "ax1.set_title(\"Social Support vs Influence One\")\n",
    "ax2.scatter([sosu[user][0] for user in sosu], [infl2[user][0] for user in sosu])\n",
    "ax2.set_xlabel(\"Social Support\")\n",
    "ax2.set_ylabel(\"Influence Two\")\n",
    "ax2.set_title(\"Social Support vs Influence Two\")\n",
    "plt.show()"
   ]
  },
  {
   "cell_type": "code",
   "execution_count": 116,
   "metadata": {},
   "outputs": [
    {
     "name": "stderr",
     "output_type": "stream",
     "text": [
      "2023-06-12 04:32:37 - __main__ - INFO - Sosu score cutoff is 0\n",
      "2023-06-12 04:32:37 - __main__ - INFO - ['hardmaru', 'beesandbombs', 'tylerxhobbs', 'zachlieberman', 'runwayml', 'hicetnunc2000', 'dmitricherniak', 'mattdesl', 'felixturner', 'etiennejcb']\n"
     ]
    }
   ],
   "source": [
    "control_sosu_ranking = control_intersection_ranking(sosu, infl1, infl2)\n",
    "control_sosu_ranking_names = [user_getter.get_user_by_id(user).screen_name for user in control_sosu_ranking]\n",
    "log.info(control_sosu_ranking_names)"
   ]
  },
  {
   "cell_type": "code",
   "execution_count": 117,
   "metadata": {},
   "outputs": [
    {
     "name": "stderr",
     "output_type": "stream",
     "text": [
      "2023-06-12 04:32:37 - __main__ - INFO - ['hicetnunc2000', 'mgxs_co', 'joshu', 'mattdesl', 'hardmaru', 'artnome', 'REAS', 'beesandbombs', 'blprnt', 'GrayAreaorg', 'sxywu']\n"
     ]
    }
   ],
   "source": [
    "old_intersection_ranking = get_intersection_ranking(prod, con, infl1, infl2)\n",
    "old_intersection_ranking_names = [user_getter.get_user_by_id(user).screen_name for user in old_intersection_ranking]\n",
    "log.info(old_intersection_ranking_names)"
   ]
  },
  {
   "cell_type": "code",
   "execution_count": 118,
   "metadata": {},
   "outputs": [
    {
     "name": "stderr",
     "output_type": "stream",
     "text": [
      "2023-06-12 04:32:37 - __main__ - INFO - Sosu score cutoff is 0\n",
      "2023-06-12 04:32:37 - __main__ - INFO - ['hardmaru', 'beesandbombs', 'tylerxhobbs', 'zachlieberman', 'felixturner', 'algoritmic', 'golan', 'blprnt', 'sxywu', 'p5xjs']\n"
     ]
    }
   ],
   "source": [
    "new_sosu_ranking = get_new_intersection_ranking(sosu, infl1, infl2)\n",
    "# Print user names\n",
    "# Diff only mmitchell_ai removed -- better since theyre not a researcher\n",
    "new_sosu_ranking_names = [user_getter.get_user_by_id(user).screen_name for user in new_sosu_ranking]\n",
    "log.info(new_sosu_ranking_names)"
   ]
  },
  {
   "cell_type": "code",
   "execution_count": 119,
   "metadata": {},
   "outputs": [
    {
     "name": "stderr",
     "output_type": "stream",
     "text": [
      "2023-06-12 04:32:37 - __main__ - INFO - Sosu score cutoff is 0\n",
      "2023-06-12 04:32:37 - __main__ - INFO - ['beesandbombs', 'tylerxhobbs', 'zachlieberman', 'felixturner', 'algoritmic', 'golan', 'REAS', 'blprnt', 'sxywu', 'p5xjs']\n"
     ]
    }
   ],
   "source": [
    "new_avg_sosu_ranking = get_new_avg_intersection_ranking(sosu, infl1, infl2)\n",
    "# Print user names\n",
    "new_avg_sosu_ranking_names = [user_getter.get_user_by_id(user).screen_name for user in new_avg_sosu_ranking]\n",
    "log.info(new_avg_sosu_ranking_names)"
   ]
  },
  {
   "cell_type": "code",
   "execution_count": 120,
   "metadata": {},
   "outputs": [
    {
     "name": "stderr",
     "output_type": "stream",
     "text": [
      "2023-06-12 04:32:37 - __main__ - INFO - {'artnome', 'REAS', 'GrayAreaorg', 'joshu', 'mgxs_co', 'mattdesl', 'hicetnunc2000'}\n",
      "2023-06-12 04:32:37 - __main__ - INFO - {'hardmaru'}\n",
      "2023-06-12 04:32:37 - __main__ - INFO - {'REAS'}\n",
      "2023-06-12 04:32:37 - __main__ - INFO - {'etiennejcb', 'runwayml', 'mattdesl', 'hicetnunc2000', 'dmitricherniak'}\n",
      "2023-06-12 04:32:37 - __main__ - INFO - {'etiennejcb', 'hardmaru', 'runwayml', 'mattdesl', 'hicetnunc2000', 'dmitricherniak'}\n"
     ]
    }
   ],
   "source": [
    "# Set difference both ways\n",
    "log.info(set(old_intersection_ranking_names) - set(new_sosu_ranking_names))\n",
    "log.info(set(new_sosu_ranking_names) - set(new_avg_sosu_ranking_names))\n",
    "log.info(set(new_avg_sosu_ranking_names) - set(new_sosu_ranking_names))\n",
    "log.info(set(control_sosu_ranking_names) - set(new_sosu_ranking_names))\n",
    "log.info(set(control_sosu_ranking_names) - set(new_avg_sosu_ranking_names))"
   ]
  },
  {
   "cell_type": "code",
   "execution_count": 121,
   "metadata": {},
   "outputs": [
    {
     "data": {
      "image/png": "[encoded data removed]",
      "text/plain": [
       "<Figure size 1500x500 with 2 Axes>"
      ]
     },
     "metadata": {},
     "output_type": "display_data"
    }
   ],
   "source": [
    "# Plot social support vs infl1 and infl2\n",
    "fig, (ax1, ax2) = plt.subplots(1, 2)\n",
    "fig = fig.set_size_inches(15, 5)\n",
    "ax1.scatter([sosu[user][0] for user in new_sosu_ranking], [infl1[user][0] for user in new_sosu_ranking])\n",
    "ax1.set_xlabel(\"Social Support\")\n",
    "ax1.set_ylabel(\"Influence One\")\n",
    "ax1.set_title(\"Social Support vs Influence One\")\n",
    "ax2.scatter([sosu[user][0] for user in new_sosu_ranking], [infl2[user][0] for user in new_sosu_ranking])\n",
    "ax2.set_xlabel(\"Social Support\")\n",
    "ax2.set_ylabel(\"Influence Two\")\n",
    "ax2.set_title(\"Social Support vs Influence Two\")\n",
    "plt.show()"
   ]
  },
  {
   "cell_type": "code",
   "execution_count": null,
   "metadata": {},
   "outputs": [],
   "source": []
  }
 ],
 "metadata": {
  "kernelspec": {
   "display_name": "env",
   "language": "python",
   "name": "python3"
  },
  "language_info": {
   "codemirror_mode": {
    "name": "ipython",
    "version": 3
   },
   "file_extension": ".py",
   "mimetype": "text/x-python",
   "name": "python",
   "nbconvert_exporter": "python",
   "pygments_lexer": "ipython3",
   "version": "3.9.16"
  },
  "orig_nbformat": 4
 },
 "nbformat": 4,
 "nbformat_minor": 2
}
