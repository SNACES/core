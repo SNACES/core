{
 "cells": [
  {
   "cell_type": "code",
   "execution_count": 1,
   "metadata": {},
   "outputs": [
    {
     "name": "stdout",
     "output_type": "stream",
     "text": [
      "Note: to be able to use all crisp methods, you need to install some additional packages:  {'infomap', 'wurlitzer', 'leidenalg', 'karateclub', 'graph_tool'}\n",
      "Note: to be able to use all overlapping methods, you need to install some additional packages:  {'karateclub', 'ASLPAw'}\n",
      "Note: to be able to use all bipartite methods, you need to install some additional packages:  {'wurlitzer', 'leidenalg', 'infomap'}\n"
     ]
    }
   ],
   "source": [
    "import src.dependencies.injector as sdi\n",
    "from src.shared.logger_factory import LoggerFactory\n",
    "from src.process.data_cleaning.data_cleaning_distributions import jaccard_similarity\n",
    "from src.shared.utils import get_project_root\n",
    "from src.model.cluster import Cluster\n",
    "from typing import List\n",
    "import matplotlib.pyplot as plt\n",
    "import numpy as np\n",
    "import seaborn as sns\n",
    "import csv\n",
    "\n",
    "log = LoggerFactory.logger(__name__)\n",
    "DEFAULT_PATH = str(get_project_root()) + \\\n",
    "    \"/src/scripts/config/create_social_graph_and_cluster_config.yaml\""
   ]
  },
  {
   "cell_type": "code",
   "execution_count": 2,
   "metadata": {},
   "outputs": [],
   "source": [
    "injector = sdi.Injector.get_injector_from_file(DEFAULT_PATH)\n",
    "process_module = injector.get_process_module()\n",
    "dao_module = injector.get_dao_module()\n",
    "user_activity_getters = {\n",
    "    \"friends\": dao_module.get_user_activity_getter(user_activity=\"friends\"),\n",
    "    \"user retweets\": dao_module.get_user_activity_getter(user_activity=\"user retweets\"),\n",
    "    \"user retweets ids\": dao_module.get_user_activity_getter(user_activity=\"user retweets ids\")\n",
    "}\n",
    "user_getter = dao_module.get_user_getter()\n",
    "user_friend_getter = dao_module.get_user_friend_getter()\n",
    "\n",
    "def get_user_activities(user_id: str, user_activity: str):\n",
    "    activities = user_activity_getters[user_activity].get_user_activities(user_id)\n",
    "    if len(activities) == 0:\n",
    "        return None\n",
    "    else:\n",
    "        return activities"
   ]
  },
  {
   "cell_type": "code",
   "execution_count": 3,
   "metadata": {},
   "outputs": [],
   "source": [
    "# import pickle\n",
    "# seed_user = \"hardmaru\"\n",
    "# # Load cluster\n",
    "# with open(\"initial_clusters_hardmaru.pkl\", \"rb\") as f:\n",
    "#     clusters = pickle.load(f)\n",
    "# with open(\"selected_clusters_2895499182.pkl\", \"rb\") as f:\n",
    "#     selected_clusters = pickle.load(f)\n",
    "\n",
    "# # Print cluster users\n",
    "# for cluster in selected_clusters:\n",
    "#     users = [user_getter.get_user_by_id(user).screen_name for user in cluster.users]\n",
    "#     log.info(users)"
   ]
  },
  {
   "cell_type": "code",
   "execution_count": 15,
   "metadata": {},
   "outputs": [],
   "source": [
    "# More ranking experiments\n",
    "def get_user_ranks(seed_user_name, cluster, path=DEFAULT_PATH):\n",
    "    \"\"\"Returns the top 10 ranked users from the given cluster with the seed id as user's id.\"\"\"\n",
    "    def get_user_id(user_name):\n",
    "        user = user_getter.get_user_by_screen_name(user_name)\n",
    "        user_id = str(user.id)\n",
    "        return user_id\n",
    "    user_id = get_user_id(seed_user_name)\n",
    "    # apply to all users in cluster\n",
    "    # cluster.users = [get_user_id(user_id) for user_id in cluster.users]\n",
    "    \n",
    "    injector = sdi.Injector.get_injector_from_file(path)\n",
    "    process_module = injector.get_process_module()\n",
    "\n",
    "    prod_ranker = process_module.get_ranker()\n",
    "    con_ranker = process_module.get_ranker(\"Consumption\")\n",
    "    sosu_ranker = process_module.get_ranker(\"SocialSupport\")\n",
    "    infl1_ranker = process_module.get_ranker(\"InfluenceOne\")\n",
    "    infl2_ranker = process_module.get_ranker(\"InfluenceTwo\")\n",
    "\n",
    "    # Second argument is the return of score_users\n",
    "    prod_rank, prod = prod_ranker.rank(user_id, cluster)\n",
    "    con_rank, con = con_ranker.rank(user_id, cluster)\n",
    "    sosu_rank, sosu = sosu_ranker.rank(user_id, cluster)\n",
    "    infl1_rank, infl1 = infl1_ranker.rank(user_id, cluster)\n",
    "    infl2_rank, infl2 = infl2_ranker.rank(user_id, cluster)\n",
    "\n",
    "    return sosu, infl1, infl2, prod, con\n"
   ]
  },
  {
   "cell_type": "code",
   "execution_count": 5,
   "metadata": {},
   "outputs": [],
   "source": [
    "def get_intersection_ranking(prod, con, infl1, infl2):\n",
    "    \"\"\"Produces a ranking that is the intersection of the Production,\n",
    "    Consumption, Influence One, and Influence Two rankings\n",
    "\n",
    "    Args:\n",
    "        prod, con, infl1, infl2:\n",
    "            Are dictionaries where the key is the user id and the value is their\n",
    "            score for the respective ranker\n",
    "    Returns:\n",
    "        An ordered list of about 10 highest ranked users sorted by highest rank.\n",
    "    \"\"\"\n",
    "    prod_ranking = list(sorted(prod, key=lambda x: (prod[x][0], prod[x][1]), reverse=True))\n",
    "    con_ranking = list(sorted(prod, key=lambda x: (con[x][0], con[x][1]), reverse=True))\n",
    "    infl1_ranking = list(sorted(prod, key=lambda x: (infl1[x][0], infl1[x][1]), reverse=True))\n",
    "    infl2_ranking = list(sorted(prod, key=lambda x: (infl2[x][0], infl2[x][1]), reverse=True))\n",
    "    top_all = {}\n",
    "    for i in range(1, len(prod_ranking) + 1):\n",
    "        top_prod = set(prod_ranking[:i])\n",
    "        top_con = set(con_ranking[:i])\n",
    "        top_infl1 = set(infl1_ranking[:i])\n",
    "        top_infl2 = set(infl2_ranking[:i])\n",
    "        intersection = top_prod.intersection(\n",
    "            top_con).intersection(\n",
    "            top_infl1).intersection(\n",
    "            top_infl2)\n",
    "\n",
    "        for user in intersection:\n",
    "            if user not in top_all:\n",
    "                top_all[user] = [i, infl2_ranking.index(user)]\n",
    "\n",
    "        #if len(intersection) >= 20: break\n",
    "        if len(intersection) >= 10: break\n",
    "\n",
    "    return sorted(top_all, key=lambda x: (top_all[x][0], top_all[x][1]))"
   ]
  },
  {
   "cell_type": "code",
   "execution_count": 6,
   "metadata": {},
   "outputs": [],
   "source": [
    "def control_intersection_ranking(sosu, infl1, infl2):\n",
    "    \"\"\"Produces a ranking that aggregates the Social Support and Influence One rankings\n",
    "\n",
    "    Args:\n",
    "        sosu, infl1:\n",
    "            Is a dictionary where the key is the user id and the value is their\n",
    "            score for the respective ranker\n",
    "    Returns:\n",
    "        An ordered list of about 10 highest ranked users sorted by highest rank.\n",
    "    \"\"\"\n",
    "    # Get top 20 users from sosu_ranking\n",
    "    sosu_ranking = list(sorted(sosu, key=lambda x: (sosu[x][0], sosu[x][1]), reverse=True))[:10]\n",
    "    infl1_ranking = list(sorted(sosu, key=lambda x: (infl1[x][0], infl1[x][1]), reverse=False))\n",
    "    infl2_ranking = list(sorted(sosu, key=lambda x: (infl2[x][0], infl2[x][1]), reverse=False))\n",
    "    # Lowest infl1 scores appear first\n",
    "    # Lowest infl2 scores appear first\n",
    "    log.info(f\"Sosu score cutoff is {sosu[sosu_ranking[-1]][0]}\")\n",
    "    \n",
    "    return sosu_ranking"
   ]
  },
  {
   "cell_type": "code",
   "execution_count": 7,
   "metadata": {},
   "outputs": [],
   "source": [
    "def get_new_intersection_ranking(sosu, infl1, infl2):\n",
    "    \"\"\"Produces a ranking that aggregates the Social Support and Influence One rankings\n",
    "\n",
    "    Args:\n",
    "        sosu, infl1:\n",
    "            Is a dictionary where the key is the user id and the value is their\n",
    "            score for the respective ranker\n",
    "    Returns:\n",
    "        An ordered list of about 10 highest ranked users sorted by highest rank.\n",
    "    \"\"\"\n",
    "    # Get top 20 users from sosu_ranking\n",
    "    sosu_ranking = list(sorted(sosu, key=lambda x: (sosu[x][0], sosu[x][1]), reverse=True))\n",
    "    infl1_ranking = list(sorted(sosu, key=lambda x: (infl1[x][0], infl1[x][1]), reverse=False))\n",
    "    infl2_ranking = list(sorted(sosu, key=lambda x: (infl2[x][0], infl2[x][1]), reverse=False))\n",
    "    # Plot histogram of inflence 1 scores\n",
    "    fig, axs = plt.subplots(1, 2, sharey=True, tight_layout=True)\n",
    "    sns.histplot([infl1[x][0] for x in infl1], ax=axs[0], kde=True, bins=20)\n",
    "    sns.histplot([infl2[x][0] for x in infl2], ax=axs[1], kde=True, bins=20)\n",
    "    axs[0].set_title(\"Influence One\")\n",
    "    axs[1].set_title(\"Influence Two\")\n",
    "    plt.show()\n",
    "\n",
    "    sosu_ranking = sosu_ranking[:20]\n",
    "    # Lowest infl1 scores appear first\n",
    "    # Lowest infl2 scores appear first\n",
    "    log.info(f\"Sosu score cutoff is {sosu[sosu_ranking[-1]][0]}\")\n",
    "    \n",
    "    # Remove lowest infl1_ranking users from sosu_ranking until 10 users are left\n",
    "    for user in infl1_ranking:\n",
    "        if len(sosu_ranking) <= 10:\n",
    "            break\n",
    "        if user in sosu_ranking:\n",
    "            sosu_ranking.remove(user)\n",
    "    # Influence 1 with users in sosu_ranking\n",
    "    lst = [infl1[x][0] for x in sosu_ranking]\n",
    "    print(lst)\n",
    "            \n",
    "        \n",
    "    return sosu_ranking"
   ]
  },
  {
   "cell_type": "code",
   "execution_count": 8,
   "metadata": {},
   "outputs": [],
   "source": [
    "def get_new_avg_intersection_ranking(sosu, infl1, infl2):\n",
    "    \"\"\"Produces a ranking that aggregates the Social Support and Influence One rankings\n",
    "\n",
    "    Args:\n",
    "        sosu, infl1:\n",
    "            Is a dictionary where the key is the user id and the value is their\n",
    "            score for the respective ranker\n",
    "    Returns:\n",
    "        An ordered list of about 10 highest ranked users sorted by highest rank.\n",
    "    \"\"\"\n",
    "    sosu_ranking = list(sorted(sosu, key=lambda x: (sosu[x][0], sosu[x][1]), reverse=True))[:20]\n",
    "    infl1_ranking = list(sorted(sosu, key=lambda x: (infl1[x][0], infl1[x][1]), reverse=False))\n",
    "    infl2_ranking = list(sorted(sosu, key=lambda x: (infl2[x][0], infl2[x][1]), reverse=False))\n",
    "    avg_infl1_infl2 = {user: min(infl1[user][0], infl2[user][0]) for user in infl1}\n",
    "    avg_infl1_infl2 = list(sorted(avg_infl1_infl2, key=lambda x: (avg_infl1_infl2[x]), reverse=False))\n",
    "    # Lowest infl1 scores appear first\n",
    "    # Lowest infl2 scores appear first\n",
    "    log.info(f\"Sosu score cutoff is {sosu[sosu_ranking[-1]][0]}\")\n",
    "    \n",
    "    # Remove lowest infl1_ranking users from sosu_ranking until 10 users are left\n",
    "    for user in avg_infl1_infl2:\n",
    "        if user in sosu_ranking:\n",
    "            sosu_ranking.remove(user)\n",
    "        if len(sosu_ranking) == 10:\n",
    "            break\n",
    "    return sosu_ranking"
   ]
  },
  {
   "cell_type": "code",
   "execution_count": 9,
   "metadata": {},
   "outputs": [],
   "source": [
    "def get_new_min_intersection_ranking(sosu, infl1, infl2):\n",
    "    \"\"\"Produces a ranking that aggregates the Social Support and Influence One rankings\n",
    "\n",
    "    Args:\n",
    "        sosu, infl1:\n",
    "            Is a dictionary where the key is the user id and the value is their\n",
    "            score for the respective ranker\n",
    "    Returns:\n",
    "        An ordered list of about 10 highest ranked users sorted by highest rank.\n",
    "    \"\"\"\n",
    "    sosu_ranking = list(sorted(sosu, key=lambda x: (sosu[x][0], sosu[x][1]), reverse=True))\n",
    "    infl1_ranking = list(sorted(sosu, key=lambda x: (infl1[x][0], infl1[x][1]), reverse=True))\n",
    "    infl2_ranking = list(sorted(sosu, key=lambda x: (infl2[x][0], infl2[x][1]), reverse=True))\n",
    "    # Lowest infl1 scores appear first\n",
    "    # Lowest infl2 scores appear first\n",
    "    log.info(f\"Sosu score cutoff is {sosu[sosu_ranking[-1]][0]}\")\n",
    "    top_all = {}\n",
    "    # Remove lowest infl1_ranking users from sosu_ranking until 10 users are left\n",
    "    for i in range(1, len(sosu_ranking) + 1):\n",
    "        top_sosu = set(sosu_ranking[:i])\n",
    "        top_infl1 = set(infl1_ranking[:i])\n",
    "        intersection = top_sosu.intersection(top_infl1)\n",
    "\n",
    "        for user in intersection:\n",
    "            if user not in top_all:\n",
    "                top_all[user] = [i, infl2_ranking.index(user)]\n",
    "\n",
    "        #if len(intersection) >= 20: break\n",
    "        if len(intersection) >= 10: break\n",
    "    \n",
    "    return sorted(top_all, key=lambda x: (top_all[x][0], top_all[x][1]))"
   ]
  },
  {
   "cell_type": "code",
   "execution_count": 10,
   "metadata": {},
   "outputs": [],
   "source": [
    "def get_new_top_avg_intersection_ranking(sosu, infl1, infl2, alpha=0.5):\n",
    "    \"\"\"Produces a ranking that aggregates the Social Support and Influence One rankings\n",
    "\n",
    "    Args:\n",
    "        sosu, infl1:\n",
    "            Is a dictionary where the key is the user id and the value is their\n",
    "            score for the respective ranker\n",
    "    Returns:\n",
    "        An ordered list of about 10 highest ranked users sorted by highest rank.\n",
    "    \"\"\"\n",
    "    sosu_ranking = list(sorted(sosu, key=lambda x: (sosu[x][0], sosu[x][1]), reverse=True))\n",
    "    infl1_ranking = list(sorted(sosu, key=lambda x: (infl1[x][0], infl1[x][1]), reverse=True))\n",
    "    infl2_ranking = list(sorted(sosu, key=lambda x: (infl2[x][0], infl2[x][1]), reverse=True))\n",
    "    # Lowest infl1 scores appear first\n",
    "    # Lowest infl2 scores appear first\n",
    "    top_10_infl1 = set(infl1_ranking[:10])\n",
    "    users = [user_getter.get_user_by_id(x).screen_name for x in infl1_ranking[:10]]\n",
    "    log.info(f\"Top 10 users: {users}\")\n",
    "    # Average of top_10_infl1\n",
    "    avg_top_10_infl1 = sum([infl1[x][0] for x in top_10_infl1]) / len(top_10_infl1)\n",
    "    t = alpha * avg_top_10_infl1\n",
    "    log.info(f\"Threshold is {t}\")\n",
    "    # Remove users if infl1 score is less than t\n",
    "    for user in infl1_ranking:\n",
    "        if infl1[user][0] < t:\n",
    "            if user in sosu_ranking:\n",
    "                sosu_ranking.remove(user)\n",
    "                \n",
    "    return sosu_ranking"
   ]
  },
  {
   "cell_type": "code",
   "execution_count": 11,
   "metadata": {},
   "outputs": [],
   "source": [
    "# seed_user_name = 'hardmaru'\n",
    "# cluster =  ['ClementDelangue', 'apaszke', 'jjvincent', 'seb_ruder', 'poolio', 'jhamrick', 'roydanroy', 'egrefen', 'ogrisel', 'aidangomezzz', 'stanislavfort', 'CadeMetz', 'fchollet', 'osanseviero', 'peteskomoroch', 'ryan_p_adams', 'andrew_n_carr', 'GaryMarcus', 'alexjc', 'goodfellow_ian', 'JeffDean', 'l2k', 'jeremyphoward', 'alanyttian', 'mervenoyann', 'jennwvaughan', 'suzatweet', 'brandondamos', 'manaalfar', 'tkasasagi', 'Miles_Brundage', 'deliprao', 'natolambert', 'alliekmiller', 'SashaMTL', 'sedielem', 'julien_c', 'dwhitena', 'sarahcat21', 'IAugenstein', 'genekogan', 'bguedj', 'kchonyc', 'shivon', 'mcleavey', 'RichardSocher', 'hiconcep', 'soumithchintala', 'NandoDF', 'nathanbenaich', 'dustinvtran', 'cyrildiagne', 'azeem', '_nateraw', 'korymath', 'AndrewYNg', 'hackingdata', 'GuillaumeLample', 'tsimonite', 'dennybritz', 'goodside', 'jekbradbury', 'samcharrington', 'SanhEstPasMoi', 'mmitchell_ai', 'hardmaru', 'lishali88', 'Thom_Wolf', 'Smerity', 'nickwalton00', 'A_K_Nain', 'mdreid', 'jackclarkSF', 'ylecun', 'clmt', 'abursuc', '_rockt', 'douglas_eck', 'karpathy', 'nickfrosst', 'etzioni', 'kaixhin', 'wightmanr', 'mark_riedl', 'hannawallach', 'sleepinyourhat', 'NaveenGRao', 'adveisner', 'Kyle_L_Wiggers', 'animesh_garg', 'AlphaSignalAI', '841io']\n",
    "# cluster = Cluster(seed_user_name, cluster)\n",
    "# sosu, infl1, infl2, prod, con = get_user_ranks(seed_user_name, cluster)"
   ]
  },
  {
   "cell_type": "code",
   "execution_count": 12,
   "metadata": {},
   "outputs": [],
   "source": [
    "def find_follower_count(user_list: List[str], respecting_list: List[str] = None):\n",
    "    res = {user_id: 0 for user_id in user_list}\n",
    "    users = respecting_list if respecting_list else user_getter.get_all_users()\n",
    "    for u in users:\n",
    "        friends = user_friend_getter.get_user_friends_ids(str(u))\n",
    "        if friends:\n",
    "            for friend in friends:\n",
    "                friend = str(friend)\n",
    "                if friend in res:\n",
    "                    res[friend] += 1\n",
    "\n",
    "    # Map user ids to screen names\n",
    "    res = {user_getter.get_user_by_id(user_id).screen_name: res[user_id] for user_id in res}\n",
    "    return res\n",
    "\n",
    "def find_followers_in_cluster(user_list: List[str], cluster: Cluster):\n",
    "    cluster_users = cluster.users\n",
    "    return find_follower_count(user_list, cluster_users)\n",
    "\n",
    "\n",
    "# find_follower_count([str(user_getter.get_user_by_screen_name(\"hardmaru\").id)])"
   ]
  },
  {
   "cell_type": "code",
   "execution_count": 13,
   "metadata": {},
   "outputs": [],
   "source": [
    "def tabulate_rankings(filename: str, cluster, sosu, infl1, infl2):\n",
    "    # Get top 20 of sosu, infl1, infl2\n",
    "    sosu_ranking = list(sorted(sosu, key=lambda x: (sosu[x][0], sosu[x][1]), reverse=True))[:20]\n",
    "    infl1_ranking = list(sorted(sosu, key=lambda x: (infl1[x][0], infl1[x][1]), reverse=True))[:20]\n",
    "    infl2_ranking = list(sorted(sosu, key=lambda x: (infl2[x][0], infl2[x][1]), reverse=True))[:20]\n",
    "\n",
    "    # Log users\n",
    "    users = [user_getter.get_user_by_id(x).screen_name for x in sosu_ranking]\n",
    "    log.info(f\"Sosu top 20: {users}\")\n",
    "    users = [user_getter.get_user_by_id(x).screen_name for x in infl1_ranking]\n",
    "    log.info(f\"Infl1 top 20: {users}\")\n",
    "    users = [user_getter.get_user_by_id(x).screen_name for x in infl2_ranking]\n",
    "    log.info(f\"Infl2 top 20: {users}\")\n",
    "\n",
    "    # Save csv file with columns user | sosu | infl1 | infl2\n",
    "    with open(f\"{filename}.csv\", \"w\") as f:\n",
    "        writer = csv.writer(f)\n",
    "        writer.writerow([\"user\", \"sosu\", \"infl1\", \"infl2\", \"followers\", \"followers_in_db\", \"followers_in_cluster\"])\n",
    "        follower_counts = find_follower_count(sosu_ranking)\n",
    "        follower_counts_in_cluster = find_followers_in_cluster(sosu_ranking, cluster)\n",
    "        for user in sosu_ranking:\n",
    "            user_obj = user_getter.get_user_by_id(user)\n",
    "            name = user_obj.screen_name\n",
    "            writer.writerow([name, sosu[user][0], infl1[user][0], infl2[user][0], user_obj.followers_count, follower_counts[name], follower_counts_in_cluster[name]])\n",
    "    "
   ]
  },
  {
   "cell_type": "code",
   "execution_count": 17,
   "metadata": {},
   "outputs": [
    {
     "name": "stderr",
     "output_type": "stream",
     "text": [
      "2023-06-23 21:56:17 - __main__ - INFO - Tabulating cluster ./tables/chessable_4369711156_old_1\n",
      "100%|██████████| 118/118 [00:03<00:00, 35.02it/s]\n",
      "100%|██████████| 118/118 [00:00<00:00, 771.47it/s]\n",
      "100%|██████████| 118/118 [00:03<00:00, 35.17it/s]\n",
      "100%|██████████| 118/118 [00:03<00:00, 35.62it/s]\n",
      "100%|██████████| 118/118 [00:06<00:00, 19.28it/s]\n",
      "2023-06-23 21:56:45 - __main__ - INFO - Sosu top 20: ['FIDE_chess', 'chesscom', 'ChesscomLive', 'chess24com', 'davidllada', 'chesscom_in', 'ChampChessTour', 'ChessbaseIndia', 'itherocky', 'TarjeiJS', 'anishgiri', 'chessable', 'ruchess_ru', 'riga_niki', 'ChessifyMe', 'HerediaCarla', 'Rameshchess', 'DavidHowellGM', 'chess24es', 'tatasteelchess']\n",
      "2023-06-23 21:56:45 - __main__ - INFO - Infl1 top 20: ['HansMokeNiemann', 'SunwayChessOpen', 'advorkovich', 'london_chess', 'GMJuditPolgar', 'DavidHowellGM', 'chessqueen', 'FIDE_chess', 'chesscom', 'Rameshchess', 'stuthefox', 'ChessClassic', 'riga_niki', 'viditchess', 'adhibanchess', 'ChampChessTour', 'sadhwani2005', 'chessvaishali', 'anishgiri', 'chesscom_in']\n",
      "2023-06-23 21:56:45 - __main__ - INFO - Infl2 top 20: ['FIDE_chess', 'ChesscomLive', 'chess24com', 'davidllada', 'ChessbaseIndia', 'chesscom', 'ChampChessTour', 'chesscom_in', 'itherocky', 'chessable', 'anishgiri', 'TarjeiJS', 'STLChessClub', 'ruchess_ru', 'riga_niki', 'tatasteelchess', 'JenShahade', 'ChessifyMe', 'lichess', 'ASamaganova']\n",
      "2023-06-23 21:58:57 - __main__ - INFO - Tabulating cluster ./tables/chessable_4369711156_old_2\n",
      "100%|██████████| 85/85 [00:02<00:00, 41.12it/s]\n",
      "100%|██████████| 85/85 [00:00<00:00, 1038.06it/s]\n",
      "100%|██████████| 85/85 [00:02<00:00, 42.16it/s]\n",
      "100%|██████████| 85/85 [00:01<00:00, 43.11it/s]\n",
      "100%|██████████| 85/85 [00:02<00:00, 30.12it/s]\n",
      "2023-06-23 21:59:15 - __main__ - INFO - Sosu top 20: ['chesscom', 'ChesscomLive', 'chess24com', 'davidllada', 'ChampChessTour', 'FIDE_chess', 'chessable', 'ChessbaseIndia', 'TarjeiJS', 'anishgiri', 'GrandChessTour', 'agadmator', 'chesscom_in', 'STLChessClub', 'Tunde_OD', 'DavidHowellGM', 'DanielRensch', 'GMHikaru', 'leontxogarcia', 'chesscom_es']\n",
      "2023-06-23 21:59:15 - __main__ - INFO - Infl1 top 20: ['HansMokeNiemann', 'AlirezaFirouzja', 'LevAronian', 'advorkovich', 'DavidHowellGM', 'GMJuditPolgar', 'GMHikaru', 'chesscom', 'IM_Rosen', 'fins0905', 'GMJanGustafsson', 'Rameshchess', 'ChampChessTour', 'agadmator', 'GrandChessTour', 'TaniaSachdev', 'DanielRensch', 'viditchess', 'anishgiri', 'itsandreabotez']\n",
      "2023-06-23 21:59:15 - __main__ - INFO - Infl2 top 20: ['chesscom', 'ChesscomLive', 'chess24com', 'ChessbaseIndia', 'ChampChessTour', 'FIDE_chess', 'davidllada', 'anishgiri', 'chessable', 'STLChessClub', 'TarjeiJS', 'agadmator', 'DanielRensch', 'GrandChessTour', 'alexandrabotez', 'chesscom_in', 'GMHikaru', 'chessdom', 'itsandreabotez', 'capakhine']\n",
      "2023-06-23 22:01:15 - __main__ - INFO - Tabulating cluster ./tables/chessable_4369711156_old_3\n",
      "100%|██████████| 84/84 [00:01<00:00, 55.26it/s]\n",
      "100%|██████████| 84/84 [00:00<00:00, 757.01it/s]\n",
      "100%|██████████| 84/84 [00:01<00:00, 52.67it/s]\n",
      "100%|██████████| 84/84 [00:01<00:00, 55.98it/s]\n",
      "100%|██████████| 84/84 [00:02<00:00, 36.60it/s]\n",
      "2023-06-23 22:01:30 - __main__ - INFO - Sosu top 20: ['chesscom', 'chesscom_in', 'ChesscomLive', 'chess24com', 'FIDE_chess', 'itherocky', 'ChessbaseIndia', 'GrandChessTour', 'TarjeiJS', 'chessable', 'ChessKazakh', 'STLChessClub', 'Rameshchess', 'rpragchess', 'ruchess_ru', 'DavidHowellGM', 'USChess', 'JenShahade', 'chesscom_ru', 'chessvaishali']\n",
      "2023-06-23 22:01:30 - __main__ - INFO - Infl1 top 20: ['Rameshchess', 'chesscom', 'chesscom_in', 'chessvaishali', 'BCMChess', 'chessqueen', 'GrandChessTour', 'IM_Rosen', 'rpragchess', 'ChesscomLive', 'itherocky', 'DavidHowellGM', 'FIDE_chess', 'chess24com', 'ChessKazakh', 'ChessbaseIndia', 'johnchess', 'chessable', 'USChess', 'TarjeiJS']\n",
      "2023-06-23 22:01:30 - __main__ - INFO - Infl2 top 20: ['FIDE_chess', 'ruchess_ru', 'ChesscomLive', 'ChessbaseIndia', 'chesscom', 'chess24com', 'chesscom_in', 'TarjeiJS', 'itherocky', 'STLChessClub', 'GrandChessTour', 'chessable', 'Rameshchess', 'ChessKazakh', 'nigelshortchess', 'rpragchess', 'USChess', 'chesscom_ru', 'JenShahade', 'chessqueen']\n",
      "2023-06-23 22:03:29 - __main__ - INFO - Tabulating cluster ./tables/chessable_4369711156_old_4\n",
      "100%|██████████| 89/89 [00:01<00:00, 51.27it/s]\n",
      "100%|██████████| 89/89 [00:00<00:00, 754.67it/s]\n",
      "100%|██████████| 89/89 [00:01<00:00, 50.71it/s]\n",
      "100%|██████████| 89/89 [00:01<00:00, 56.32it/s]\n",
      "100%|██████████| 89/89 [00:02<00:00, 35.16it/s]\n",
      "2023-06-23 22:03:44 - __main__ - INFO - Sosu top 20: ['FIDE_chess', 'chesscom', 'ChesscomLive', 'chess24com', 'ChampChessTour', 'TarjeiJS', 'ChessbaseIndia', 'GrandChessTour', 'ruchess_ru', 'STLChessClub', 'ChessifyMe', 'chessable', 'riga_niki', 'chesscom_in', 'Chess__News', 'ruchess_eng', 'ChrisBirdIA', 'USChess', 'rpragchess', 'johnbrazel']\n",
      "2023-06-23 22:03:44 - __main__ - INFO - Infl1 top 20: ['chessqueen', 'ACP_Chess', 'SunwayChessOpen', 'ReykjavikOpen', 'FIDE_chess', 'GrandChessTour', 'lexydim', 'chesscom', 'riga_niki', 'IM_Rosen', 'ChampChessTour', 'ruchess_eng', 'lukaszturlej', 'ChesscomLive', 'chessvaishali', 'sinotahl', 'TarjeiJS', 'USChess', 'rpragchess', 'chess24com']\n",
      "2023-06-23 22:03:44 - __main__ - INFO - Infl2 top 20: ['FIDE_chess', 'ChessbaseIndia', 'chesscom', 'ruchess_ru', 'ChesscomLive', 'chess24com', 'ChampChessTour', 'STLChessClub', 'TarjeiJS', 'chesscom_in', 'GrandChessTour', 'GMAlexColovic', 'riga_niki', 'USChess', 'chessable', 'ruchess_eng', 'ACP_Chess', 'Chess__News', 'ChessifyMe', 'BielFestival']\n",
      "2023-06-23 22:05:54 - __main__ - INFO - Tabulating cluster ./tables/chessable_4369711156_old_5\n",
      "100%|██████████| 68/68 [00:01<00:00, 38.14it/s]\n",
      "100%|██████████| 68/68 [00:00<00:00, 339.28it/s]\n",
      "100%|██████████| 68/68 [00:01<00:00, 43.94it/s]\n",
      "100%|██████████| 68/68 [00:01<00:00, 43.19it/s]\n",
      "100%|██████████| 68/68 [00:02<00:00, 27.69it/s]\n",
      "2023-06-23 22:06:13 - __main__ - INFO - Sosu top 20: ['FIDE_chess', 'chesscom', 'chesscom_in', 'chess24com', 'davidllada', 'ChampChessTour', 'itherocky', 'ChessbaseIndia', 'TarjeiJS', 'chessable', 'riga_niki', 'Tunde_OD', 'fischer_random', 'JenShahade', 'HerediaCarla', 'DavidHowellGM', 'STLChessClub', 'Rameshchess', 'johnbrazel', 'Lona_Chess']\n",
      "2023-06-23 22:06:13 - __main__ - INFO - Infl1 top 20: ['GMNarayananSL', 'DavidHowellGM', 'fischer_random', 'Rameshchess', 'AlirezaFirouzja', 'chesscom', 'FIDE_chess', 'ChampChessTour', 'chessvaishali', 'adhibanchess', 'sadhwani2005', 'chesscom_in', 'riga_niki', 'IM_Rosen', 'rpragchess', 'Lona_Chess', 'itherocky', 'USChess', 'davidllada', 'TarjeiJS']\n",
      "2023-06-23 22:06:13 - __main__ - INFO - Infl2 top 20: ['chesscom', 'ChampChessTour', 'FIDE_chess', 'ChessbaseIndia', 'johnbrazel', 'chesscom_in', 'chess24com', 'davidllada', 'itherocky', 'USChess', 'chessable', 'TarjeiJS', 'STLChessClub', 'JenShahade', 'Lona_Chess', 'riga_niki', 'chess_dojo', 'Rameshchess', 'LeonWatson', 'USChessWomen']\n",
      "2023-06-23 22:08:26 - __main__ - INFO - Tabulating cluster ./tables/hardmaru_2895499182_old_1\n",
      "100%|██████████| 171/171 [00:03<00:00, 43.29it/s]\n",
      "100%|██████████| 171/171 [00:00<00:00, 264.97it/s]\n",
      "100%|██████████| 171/171 [00:04<00:00, 40.36it/s]\n",
      "100%|██████████| 171/171 [00:02<00:00, 63.02it/s]\n",
      "100%|██████████| 171/171 [00:04<00:00, 40.18it/s]\n",
      "2023-06-23 22:08:53 - __main__ - INFO - Sosu top 20: ['DynamicWebPaige', 'ClementDelangue', '_akhaliq', 'hardmaru', 'jeremyphoward', 'shaneguML', 'Thom_Wolf', 'karpathy', 'mmitchell_ai', 'egrefen', 'mervenoyann', 'fchollet', 'suzatweet', 'DrJimFan', 'DrEliDavid', 'JeffDean', '_rockt', 'AlphaSignalAI', 'tszzl', 'deliprao']\n",
      "2023-06-23 22:08:53 - __main__ - INFO - Infl1 top 20: ['dpkingma', 'karpathy', 'Thom_Wolf', 'sedielem', 'colinraffel', 'suzatweet', 'JeffDean', '_beenkim', 'ClementDelangue', 'soumithchintala', 'shaneguML', 'pabbeel', 'jackclarkSF', 'chipro', 'srush_nlp', 'dustinvtran', 'goodside', 'hardmaru', 'natashajaques', 'egrefen']\n",
      "2023-06-23 22:08:53 - __main__ - INFO - Infl2 top 20: ['_akhaliq', 'hardmaru', 'ClementDelangue', 'DynamicWebPaige', 'karpathy', 'jeremyphoward', 'shaneguML', 'fchollet', 'JeffDean', 'DrJimFan', '_rockt', 'Thom_Wolf', 'mmitchell_ai', 'shakir_za', 'ericjang11', 'RichardSocher', 'egrefen', 'AlphaSignalAI', 'kchonyc', 'suzatweet']\n",
      "2023-06-23 22:11:09 - __main__ - INFO - Tabulating cluster ./tables/hardmaru_2895499182_old_2\n",
      "100%|██████████| 92/92 [00:01<00:00, 71.94it/s]\n",
      "100%|██████████| 92/92 [00:00<00:00, 564.64it/s]\n",
      "100%|██████████| 92/92 [00:01<00:00, 68.21it/s]\n",
      "100%|██████████| 92/92 [00:00<00:00, 109.45it/s]\n",
      "100%|██████████| 92/92 [00:01<00:00, 64.71it/s]\n",
      "2023-06-23 22:11:21 - __main__ - INFO - Sosu top 20: ['ClementDelangue', 'Thom_Wolf', 'hardmaru', 'nathanbenaich', 'jeremyphoward', 'karpathy', 'ylecun', 'mmitchell_ai', 'jekbradbury', 'egrefen', 'fchollet', 'NandoDF', 'mervenoyann', 'suzatweet', '_rockt', 'SashaMTL', 'poolio', 'AlphaSignalAI', 'deliprao', 'SanhEstPasMoi']\n",
      "2023-06-23 22:11:21 - __main__ - INFO - Infl1 top 20: ['sedielem', 'SanhEstPasMoi', 'Thom_Wolf', 'karpathy', 'adveisner', 'poolio', 'suzatweet', 'natolambert', 'GuillaumeLample', 'jhamrick', 'soumithchintala', 'dustinvtran', 'ClementDelangue', 'nickfrosst', 'sleepinyourhat', 'jackclarkSF', 'goodside', 'brandondamos', 'JeffDean', 'aidangomezzz']\n",
      "2023-06-23 22:11:22 - __main__ - INFO - Infl2 top 20: ['ClementDelangue', 'jekbradbury', 'hardmaru', 'Thom_Wolf', 'ylecun', 'jeremyphoward', 'poolio', 'NandoDF', 'aidangomezzz', 'karpathy', 'mmitchell_ai', 'egrefen', 'sleepinyourhat', '_rockt', 'JeffDean', 'kchonyc', 'fchollet', 'suzatweet', 'SashaMTL', 'RichardSocher']\n",
      "2023-06-23 22:13:37 - __main__ - INFO - Tabulating cluster ./tables/YankeeGunner_19924816_new_1\n",
      "100%|██████████| 106/106 [00:00<00:00, 139.06it/s]\n",
      "100%|██████████| 106/106 [00:00<00:00, 180.02it/s]\n",
      "100%|██████████| 106/106 [00:00<00:00, 125.87it/s]\n",
      "100%|██████████| 106/106 [00:00<00:00, 1468.86it/s]\n",
      "100%|██████████| 106/106 [00:00<00:00, 162.00it/s]\n",
      "2023-06-23 22:13:47 - __main__ - INFO - Sosu top 20: ['GaryLineker', 'YankeeGunner', 'FabrizioRomano', 'ESPNFC', 'GNev2', 'verified', 'IanWright0', 'David_Ornstein', 'FOXSoccer', 'Squawka', 'GrantWahl', 'laura_woodsy', 'honigstein', 'TeleFootball', 'FourFourTwo', 'Marcotti', 'charles_watts', 'SamWallaceTel', 'Zonal_Marking', 'DTathletic']\n",
      "2023-06-23 22:13:47 - __main__ - INFO - Infl1 top 20: ['GaryLineker', 'YankeeGunner', 'verified', 'JamesOlley', 'Uler56', 'jimvanwijkPA', 'OsmanZtheGooner', 'WFootballDaily', 'JNorthcroft', 'tiki_taka_co', 'ZRAFC', 'kenearlys', 'TeleFootball', 'NickMiller79', 'amylawrence71', 'danielstorey85', 'arlowhite', 'ianmccourt', 'RMac18', 'GrantWahl']\n",
      "2023-06-23 22:13:47 - __main__ - INFO - Infl2 top 20: ['GaryLineker', 'YankeeGunner', 'verified', 'JamesOlley', 'Uler56', 'jimvanwijkPA', 'OsmanZtheGooner', 'WFootballDaily', 'JNorthcroft', 'tiki_taka_co', 'ZRAFC', 'kenearlys', 'TeleFootball', 'NickMiller79', 'amylawrence71', 'danielstorey85', 'arlowhite', 'ianmccourt', 'RMac18', 'GrantWahl']\n",
      "2023-06-23 22:16:03 - __main__ - INFO - Tabulating cluster ./tables/YankeeGunner_19924816_new_2\n",
      "100%|██████████| 44/44 [00:00<00:00, 152.16it/s]\n",
      "100%|██████████| 44/44 [00:00<00:00, 186.26it/s]\n",
      "100%|██████████| 44/44 [00:00<00:00, 160.79it/s]\n",
      "100%|██████████| 44/44 [00:00<00:00, 1899.34it/s]\n",
      "100%|██████████| 44/44 [00:00<00:00, 404.07it/s]\n",
      "2023-06-23 22:16:09 - __main__ - INFO - Sosu top 20: ['GaryLineker', 'neymarjr', 'ChampionsLeague', 'NiallOfficial', 'FabrizioRomano', 'FIFAWorldCup', 'EuropaLeague', 'XabiAlonso', 'rioferdy5', 'JKCorden', 'IkerCasillas', 'cesc4official', 'brfootball', 'marca', 'England', 'GNev2', 'KP24', 'JackWilshere', 'sterling7', 'EURO2024']\n",
      "2023-06-23 22:16:09 - __main__ - INFO - Infl1 top 20: ['GaryLineker', 'JackWilshere', 'SadiqKhan', 'davidwalliams', 'RealMattLucas', 'rioferdy5', 'neymarjr', 'JackGrealish', 'wilfriedzaha', 'British_Airways', 'IanWright0', 'IkerCasillas', 'daraobriain', 'glen_johnson', 'EuropaLeague', 'cesc4official', 'andy_murray', 'chris_kammy', 'NiallOfficial', 'JHenderson']\n",
      "2023-06-23 22:16:09 - __main__ - INFO - Infl2 top 20: ['GaryLineker', 'JackWilshere', 'SadiqKhan', 'davidwalliams', 'RealMattLucas', 'rioferdy5', 'neymarjr', 'JackGrealish', 'wilfriedzaha', 'British_Airways', 'IanWright0', 'IkerCasillas', 'daraobriain', 'glen_johnson', 'EuropaLeague', 'cesc4official', 'andy_murray', 'chris_kammy', 'NiallOfficial', 'JHenderson']\n",
      "2023-06-23 22:18:22 - __main__ - INFO - Tabulating cluster ./tables/fchollet_68746721_new_1\n",
      "100%|██████████| 214/214 [00:03<00:00, 65.27it/s]\n",
      "100%|██████████| 214/214 [00:00<00:00, 626.29it/s]\n",
      "100%|██████████| 214/214 [00:03<00:00, 64.03it/s]\n",
      "100%|██████████| 214/214 [00:01<00:00, 111.10it/s]\n",
      "100%|██████████| 214/214 [00:03<00:00, 64.61it/s]\n",
      "2023-06-23 22:18:44 - __main__ - INFO - Sosu top 20: ['DynamicWebPaige', 'fchollet', 'hardmaru', 'DeepMind', 'ylecun', 'NandoDF', 'karpathy', 'ClementDelangue', 'Thom_Wolf', 'egrefen', '_rockt', 'stanfordnlp', 'poolio', 'weballergy', 'SingularMattrix', 'ZoubinGhahrama1', 'kchonyc', 'FelixHill84', 'pabbeel', 'mark_riedl']\n",
      "2023-06-23 22:18:44 - __main__ - INFO - Infl1 top 20: ['SingularMattrix', 'ZoubinGhahrama1', 'karpathy', 'maxhkw', 'DeepMind', 'jaschasd', 'MirowskiPiotr', 'DaniloJRezende', 'OriolVinyalsML', 'RandomlyWalking', 'syhw', 'pabbeel', 'douglas_eck', 'Thom_Wolf', 'kenneth0stanley', 'poolio', 'lmthang', 'goodfellow_ian', 'JeffreyDeFauw', 'TimSalimans']\n",
      "2023-06-23 22:18:44 - __main__ - INFO - Infl2 top 20: ['NandoDF', 'fchollet', 'karpathy', 'poolio', 'SingularMattrix', 'ZoubinGhahrama1', 'DeepMind', 'ylecun', 'hardmaru', 'DynamicWebPaige', 'ChrSzegedy', 'pabbeel', 'douglas_eck', '_rockt', 'Thom_Wolf', 'ClementDelangue', 'stanfordnlp', 'weballergy', 'FelixHill84', 'kchonyc']\n",
      "2023-06-23 22:20:57 - __main__ - INFO - Tabulating cluster ./tables/fchollet_68746721_new_2\n",
      "100%|██████████| 135/135 [00:01<00:00, 106.93it/s]\n",
      "100%|██████████| 135/135 [00:00<00:00, 591.17it/s]\n",
      "100%|██████████| 135/135 [00:01<00:00, 110.23it/s]\n",
      "100%|██████████| 135/135 [00:00<00:00, 530.43it/s]\n",
      "100%|██████████| 135/135 [00:00<00:00, 162.04it/s]\n",
      "2023-06-23 22:21:08 - __main__ - INFO - Sosu top 20: ['DeepMind', 'NandoDF', '_rockt', 'demishassabis', 'FelixHill84', 'weballergy', 'bodonoghue85', 'ylecun', 'egrefen', 'MirowskiPiotr', 'karpathy', 'sundarpichai', 'DeepIndaba', 'JeffDean', 'pabbeel', 'shakir_za', 'arkitus', 'DaniloJRezende', 'korymath', 'sedielem']\n",
      "2023-06-23 22:21:08 - __main__ - INFO - Infl1 top 20: ['FeryalMP', 'koraykv', 'jeffdonahue', 'MihaelaCRosca', 'goodfellow_ian', 'santoroAI', 'DeepMind', 'PeterWBattaglia', 'lqh20', 'pushmeet', 'demishassabis', 'borgeaud_s', 'laurentsifre', 'MirowskiPiotr', 'OriolVinyalsML', 'ShaneLegg', 'arkitus', 'jonfildes', 'DaniloJRezende', 'aggielaz']\n",
      "2023-06-23 22:21:08 - __main__ - INFO - Infl2 top 20: ['DeepMind', 'bodonoghue85', 'demishassabis', 'NandoDF', 'FelixHill84', '_rockt', 'goodfellow_ian', 'MirowskiPiotr', 'sedielem', 'ylecun', 'karpathy', 'borgeaud_s', 'weballergy', 'JeffDean', 'mpshanahan', 'Zergylord', 'korymath', 'pabbeel', 'arkitus', 'tfgg2']\n",
      "2023-06-23 22:23:20 - __main__ - INFO - Tabulating cluster ./tables/chessable_4369711156_new_1\n",
      "100%|██████████| 71/71 [00:01<00:00, 46.43it/s]\n",
      "100%|██████████| 71/71 [00:00<00:00, 550.33it/s]\n",
      "100%|██████████| 71/71 [00:01<00:00, 38.35it/s]\n",
      "100%|██████████| 71/71 [00:01<00:00, 49.33it/s]\n",
      "100%|██████████| 71/71 [00:02<00:00, 31.49it/s]\n",
      "2023-06-23 22:23:37 - __main__ - INFO - Sosu top 20: ['FIDE_chess', 'chesscom', 'chesscom_in', 'chess24com', 'davidllada', 'ChampChessTour', 'ChessbaseIndia', 'itherocky', 'TarjeiJS', 'chessable', 'ChessifyMe', 'riga_niki', 'HerediaCarla', 'Rameshchess', 'chess24es', 'STLChessClub', 'rpragchess', 'SunwayChessOpen', 'capakhine', 'JenShahade']\n",
      "2023-06-23 22:23:37 - __main__ - INFO - Infl1 top 20: ['SunwayChessOpen', 'Rameshchess', 'ChessClassic', 'FIDE_chess', 'chesscom', 'chessvaishali', 'sadhwani2005', 'adhibanchess', 'chesscom_in', 'BCMChess', 'ChampChessTour', 'rpragchess', 'riga_niki', 'itherocky', 'davidllada', 'JesseKraai', 'TarjeiJS', 'chessable', 'chess24com', 'chess24es']\n",
      "2023-06-23 22:23:37 - __main__ - INFO - Infl2 top 20: ['FIDE_chess', 'ChessbaseIndia', 'davidllada', 'chess24com', 'chesscom', 'chesscom_in', 'ChampChessTour', 'itherocky', 'TarjeiJS', 'STLChessClub', 'riga_niki', 'chessable', 'JenShahade', 'ASamaganova', 'Rameshchess', 'chess_dojo', 'HerediaCarla', 'ajedrezCAIchess', 'chess24es', 'ChessBase']\n",
      "2023-06-23 22:25:51 - __main__ - INFO - Tabulating cluster ./tables/chessable_4369711156_new_2\n",
      "100%|██████████| 85/85 [00:02<00:00, 39.31it/s]\n",
      "100%|██████████| 85/85 [00:00<00:00, 1298.96it/s]\n",
      "100%|██████████| 85/85 [00:02<00:00, 41.88it/s]\n",
      "100%|██████████| 85/85 [00:01<00:00, 44.69it/s]\n",
      "100%|██████████| 85/85 [00:02<00:00, 29.73it/s]\n",
      "2023-06-23 22:26:09 - __main__ - INFO - Sosu top 20: ['chesscom', 'ChesscomLive', 'chess24com', 'davidllada', 'ChampChessTour', 'FIDE_chess', 'chessable', 'ChessbaseIndia', 'TarjeiJS', 'anishgiri', 'GrandChessTour', 'agadmator', 'chesscom_in', 'STLChessClub', 'Tunde_OD', 'DavidHowellGM', 'DanielRensch', 'GMHikaru', 'leontxogarcia', 'chesscom_es']\n",
      "2023-06-23 22:26:09 - __main__ - INFO - Infl1 top 20: ['HansMokeNiemann', 'AlirezaFirouzja', 'LevAronian', 'advorkovich', 'DavidHowellGM', 'GMJuditPolgar', 'GMHikaru', 'chesscom', 'IM_Rosen', 'fins0905', 'GMJanGustafsson', 'Rameshchess', 'ChampChessTour', 'agadmator', 'GrandChessTour', 'TaniaSachdev', 'DanielRensch', 'viditchess', 'anishgiri', 'itsandreabotez']\n",
      "2023-06-23 22:26:09 - __main__ - INFO - Infl2 top 20: ['chesscom', 'ChesscomLive', 'chess24com', 'ChessbaseIndia', 'ChampChessTour', 'FIDE_chess', 'davidllada', 'anishgiri', 'chessable', 'STLChessClub', 'TarjeiJS', 'agadmator', 'DanielRensch', 'GrandChessTour', 'alexandrabotez', 'chesscom_in', 'GMHikaru', 'chessdom', 'itsandreabotez', 'capakhine']\n",
      "2023-06-23 22:28:22 - __main__ - INFO - Tabulating cluster ./tables/chessable_4369711156_new_3\n",
      "100%|██████████| 116/116 [00:02<00:00, 46.22it/s]\n",
      "100%|██████████| 116/116 [00:00<00:00, 948.01it/s]\n",
      "100%|██████████| 116/116 [00:02<00:00, 45.69it/s]\n",
      "100%|██████████| 116/116 [00:02<00:00, 48.32it/s]\n",
      "100%|██████████| 116/116 [00:03<00:00, 31.64it/s]\n",
      "2023-06-23 22:28:42 - __main__ - INFO - Sosu top 20: ['chesscom', 'chesscom_in', 'ChesscomLive', 'FIDE_chess', 'chess24com', 'itherocky', 'ChessbaseIndia', 'GrandChessTour', 'aicfchess', 'TarjeiJS', 'anishgiri', 'chessable', 'ChessKazakh', 'STLChessClub', 'Rameshchess', 'tatasteelchess', 'Tunde_OD', 'rpragchess', 'GMJuditPolgar', 'JenShahade']\n",
      "2023-06-23 22:28:42 - __main__ - INFO - Infl1 top 20: ['TaniaSachdev', 'chesscom', 'Rameshchess', 'sadhwani2005', 'Chesser_22', 'london_chess', 'chesscom_in', 'GMJuditPolgar', 'advorkovich', 'adhibanchess', 'chessvaishali', 'viditchess', 'BCMChess', 'aicfchess', 'GrandChessTour', 'chessqueen', 'itherocky', 'rpragchess', 'DivyaDeshmukh05', 'ChesscomLive']\n",
      "2023-06-23 22:28:42 - __main__ - INFO - Infl2 top 20: ['FIDE_chess', 'ChesscomLive', 'chess24com', 'ChessbaseIndia', 'TarjeiJS', 'chesscom', 'ruchess_ru', 'itherocky', 'chesscom_in', 'GrandChessTour', 'Blitz_Stream', 'chessable', 'STLChessClub', 'anishgiri', 'aicfchess', 'tatasteelchess', 'Rameshchess', 'nigelshortchess', 'ChessKazakh', 'rpragchess']\n",
      "2023-06-23 22:30:54 - __main__ - INFO - Tabulating cluster ./tables/hardmaru_2895499182_new_1\n",
      "100%|██████████| 171/171 [00:03<00:00, 46.28it/s]\n",
      "100%|██████████| 171/171 [00:00<00:00, 403.08it/s]\n",
      "100%|██████████| 171/171 [00:03<00:00, 44.78it/s]\n",
      "100%|██████████| 171/171 [00:02<00:00, 62.08it/s]\n",
      "100%|██████████| 171/171 [00:03<00:00, 43.20it/s]\n",
      "2023-06-23 22:31:20 - __main__ - INFO - Sosu top 20: ['DynamicWebPaige', 'ClementDelangue', '_akhaliq', 'hardmaru', 'jeremyphoward', 'shaneguML', 'Thom_Wolf', 'karpathy', 'mmitchell_ai', 'egrefen', 'mervenoyann', 'fchollet', 'suzatweet', 'DrJimFan', 'DrEliDavid', 'JeffDean', '_rockt', 'AlphaSignalAI', 'tszzl', 'deliprao']\n",
      "2023-06-23 22:31:20 - __main__ - INFO - Infl1 top 20: ['dpkingma', 'karpathy', 'Thom_Wolf', 'sedielem', 'colinraffel', 'suzatweet', 'JeffDean', '_beenkim', 'ClementDelangue', 'soumithchintala', 'shaneguML', 'pabbeel', 'jackclarkSF', 'chipro', 'srush_nlp', 'dustinvtran', 'goodside', 'hardmaru', 'natashajaques', 'egrefen']\n",
      "2023-06-23 22:31:20 - __main__ - INFO - Infl2 top 20: ['_akhaliq', 'hardmaru', 'ClementDelangue', 'DynamicWebPaige', 'karpathy', 'jeremyphoward', 'shaneguML', 'fchollet', 'JeffDean', 'DrJimFan', '_rockt', 'Thom_Wolf', 'mmitchell_ai', 'shakir_za', 'ericjang11', 'RichardSocher', 'egrefen', 'AlphaSignalAI', 'kchonyc', 'suzatweet']\n",
      "2023-06-23 22:33:36 - __main__ - INFO - Tabulating cluster ./tables/hardmaru_2895499182_new_2\n",
      "100%|██████████| 73/73 [00:00<00:00, 74.43it/s]\n",
      "100%|██████████| 73/73 [00:00<00:00, 535.18it/s]\n",
      "100%|██████████| 73/73 [00:01<00:00, 63.40it/s]\n",
      "100%|██████████| 73/73 [00:00<00:00, 112.70it/s]\n",
      "100%|██████████| 73/73 [00:01<00:00, 68.08it/s]\n",
      "2023-06-23 22:33:47 - __main__ - INFO - Sosu top 20: ['ClementDelangue', 'hardmaru', 'Thom_Wolf', 'nathanbenaich', 'jeremyphoward', 'karpathy', 'ylecun', 'jekbradbury', 'egrefen', 'fchollet', 'NandoDF', 'suzatweet', '_rockt', 'mervenoyann', 'poolio', 'AlphaSignalAI', 'deliprao', 'Miles_Brundage', 'SanhEstPasMoi', 'kchonyc']\n",
      "2023-06-23 22:33:47 - __main__ - INFO - Infl1 top 20: ['sedielem', 'Thom_Wolf', 'karpathy', 'SanhEstPasMoi', 'poolio', 'jhamrick', 'suzatweet', 'dustinvtran', 'nickfrosst', 'sleepinyourhat', 'goodside', 'jackclarkSF', 'brandondamos', 'ClementDelangue', 'JeffDean', 'aidangomezzz', 'dennybritz', 'egrefen', '_rockt', 'kaixhin']\n",
      "2023-06-23 22:33:47 - __main__ - INFO - Infl2 top 20: ['ClementDelangue', 'jekbradbury', 'hardmaru', 'Thom_Wolf', 'jeremyphoward', 'ylecun', 'poolio', 'NandoDF', 'aidangomezzz', 'karpathy', 'egrefen', 'sleepinyourhat', '_rockt', 'JeffDean', 'fchollet', 'suzatweet', 'RichardSocher', 'deliprao', 'Miles_Brundage', 'mark_riedl']\n",
      "2023-06-23 22:36:06 - __main__ - INFO - Tabulating cluster ./tables/YankeeGunner_19924816_old_1\n",
      "100%|██████████| 106/106 [00:00<00:00, 151.13it/s]\n",
      "100%|██████████| 106/106 [00:00<00:00, 206.59it/s]\n",
      "100%|██████████| 106/106 [00:00<00:00, 156.01it/s]\n",
      "100%|██████████| 106/106 [00:00<00:00, 3283.33it/s]\n",
      "100%|██████████| 106/106 [00:00<00:00, 567.44it/s]\n",
      "2023-06-23 22:36:14 - __main__ - INFO - Sosu top 20: ['YankeeGunner', 'ChrisWheatley', 'SwissRamble', 'DarrenArsenal1', 'GeoffArsenal', 'Orbinho', 'AFCAMDEN', 'REDactionAFC', 'boydhilton', 'Artekkers', 'ArsenalGent', 'timpayton', 'GoonerFanzine', 'friebos', 'Gingers4Limpar', 'goonerdave66', 'scottjwillis', 'gunnerpunner', 'eastlower', 'TheGoonerholic']\n",
      "2023-06-23 22:36:14 - __main__ - INFO - Infl1 top 20: ['YankeeGunner', 'ChrisWheatley', 'kickarseHD', '1Walid1', 'the_cannon', 'GiantGooner', '10akhil', 'ZeqiriDan', 'rsspenser', 'ashburton_grove', 'TheGoonerholic', 'TheShortFuse', 'JamrockRover', 'QueenCityGooner', 'clockendgooner', 'WengerBoyOne', 'REDactionAFC', 'wolvenal', 'StuartAFCW', 'rakmasterg']\n",
      "2023-06-23 22:36:14 - __main__ - INFO - Infl2 top 20: ['YankeeGunner', 'ChrisWheatley', 'kickarseHD', '1Walid1', 'the_cannon', 'GiantGooner', '10akhil', 'ZeqiriDan', 'rsspenser', 'ashburton_grove', 'TheGoonerholic', 'TheShortFuse', 'JamrockRover', 'QueenCityGooner', 'clockendgooner', 'WengerBoyOne', 'REDactionAFC', 'wolvenal', 'StuartAFCW', 'rakmasterg']\n",
      "2023-06-23 22:38:31 - __main__ - INFO - Tabulating cluster ./tables/fchollet_68746721_old_1\n",
      "100%|██████████| 202/202 [00:03<00:00, 64.14it/s]\n",
      "100%|██████████| 202/202 [00:00<00:00, 596.04it/s]\n",
      "100%|██████████| 202/202 [00:03<00:00, 62.92it/s]\n",
      "100%|██████████| 202/202 [00:01<00:00, 101.13it/s]\n",
      "100%|██████████| 202/202 [00:03<00:00, 61.24it/s]\n",
      "2023-06-23 22:38:54 - __main__ - INFO - Sosu top 20: ['DynamicWebPaige', 'fchollet', 'hardmaru', 'DeepMind', 'ylecun', 'NandoDF', 'karpathy', 'ClementDelangue', 'egrefen', 'Thom_Wolf', '_rockt', 'stanfordnlp', 'poolio', 'weballergy', 'SingularMattrix', 'ZoubinGhahrama1', 'kchonyc', 'FelixHill84', 'pabbeel', 'mark_riedl']\n",
      "2023-06-23 22:38:54 - __main__ - INFO - Infl1 top 20: ['SingularMattrix', 'ZoubinGhahrama1', 'karpathy', 'maxhkw', 'DeepMind', 'jaschasd', 'MirowskiPiotr', 'DaniloJRezende', 'OriolVinyalsML', 'RandomlyWalking', 'syhw', 'pabbeel', 'douglas_eck', 'Thom_Wolf', 'kenneth0stanley', 'poolio', 'lmthang', 'goodfellow_ian', 'JeffreyDeFauw', 'TimSalimans']\n",
      "2023-06-23 22:38:54 - __main__ - INFO - Infl2 top 20: ['NandoDF', 'fchollet', 'karpathy', 'poolio', 'SingularMattrix', 'ZoubinGhahrama1', 'DeepMind', 'ylecun', 'hardmaru', 'DynamicWebPaige', 'ChrSzegedy', 'pabbeel', 'douglas_eck', '_rockt', 'Thom_Wolf', 'ClementDelangue', 'stanfordnlp', 'weballergy', 'FelixHill84', 'kchonyc']\n",
      "2023-06-23 22:40:50 - __main__ - INFO - Tabulating cluster ./tables/fchollet_68746721_old_2\n",
      "100%|██████████| 99/99 [00:00<00:00, 122.52it/s]\n",
      "100%|██████████| 99/99 [00:00<00:00, 437.93it/s]\n",
      "100%|██████████| 99/99 [00:00<00:00, 112.42it/s]\n",
      "100%|██████████| 99/99 [00:00<00:00, 288.78it/s]\n",
      "100%|██████████| 99/99 [00:00<00:00, 135.89it/s]\n",
      "2023-06-23 22:41:00 - __main__ - INFO - Sosu top 20: ['DeepMind', 'NandoDF', 'shaneguML', 'jeremyphoward', 'karpathy', 'weballergy', 'bodonoghue85', 'AndrewLampinen', 'LukeZettlemoyer', 'FelixHill84', 'percyliang', 'hugo_larochelle', 'MirowskiPiotr', 'pabbeel', 'sleepinyourhat', 'ZoubinGhahrama1', 'danijarh', 'jackclarkSF', 'ChrSzegedy', 'DaniloJRezende']\n",
      "2023-06-23 22:41:00 - __main__ - INFO - Infl1 top 20: ['jeffdonahue', 'santoroAI', 'MihaelaCRosca', 'DeepMind', 'goodfellow_ian', 'arthurmensch', 'DaniloJRezende', 'iassael', 'borgeaud_s', 'MirowskiPiotr', 'ZoubinGhahrama1', 'aggielaz', 'arkitus', 'jonfildes', 'hugo_larochelle', 'AndrewLampinen', 'ibab_ml', '_beenkim', 'clemenslm', 'redpony']\n",
      "2023-06-23 22:41:00 - __main__ - INFO - Infl2 top 20: ['DeepMind', 'bodonoghue85', 'NandoDF', 'AndrewLampinen', 'hugo_larochelle', 'jeremyphoward', 'ZoubinGhahrama1', 'roydanroy', 'MirowskiPiotr', 'shaneguML', 'shakir_za', 'syhw', 'weballergy', 'DaniloJRezende', 'RandomlyWalking', 'pabbeel', 'ibab_ml', 'jackclarkSF', 'ChrSzegedy', '__nmca__']\n",
      "2023-06-23 22:42:47 - __main__ - INFO - Tabulating cluster ./tables/fchollet_68746721_old_3\n",
      "100%|██████████| 182/182 [00:03<00:00, 59.22it/s]\n",
      "100%|██████████| 182/182 [00:00<00:00, 392.88it/s]\n",
      "100%|██████████| 182/182 [00:03<00:00, 59.49it/s]\n",
      "100%|██████████| 182/182 [00:02<00:00, 87.45it/s]\n",
      "100%|██████████| 182/182 [00:03<00:00, 53.23it/s]\n",
      "2023-06-23 22:43:08 - __main__ - INFO - Sosu top 20: ['DynamicWebPaige', '_akhaliq', 'DeepMind', 'hardmaru', 'shaneguML', '_rockt', 'NandoDF', 'egrefen', 'karpathy', 'ylecun', 'AndrewLampinen', 'poolio', 'mmitchell_ai', '_jasonwei', 'FelixHill84', 'mervenoyann', 'sleepinyourhat', 'ChrSzegedy', 'percyliang', 'pabbeel']\n",
      "2023-06-23 22:43:08 - __main__ - INFO - Infl1 top 20: ['santoroAI', 'katebaumli', 'luisa_zintgraf', 'PeterWBattaglia', 'maxhkw', 'AndrewLampinen', 'jayelmnop', 'DeepMind', 'jaschasd', 'sedielem', 'maithra_raghu', 'jeffdonahue', 'clarelyle', 'DaniloJRezende', 'goodfellow_ian', 'karpathy', '_beenkim', 'LauraRuis', 'arimorcos', 'colinraffel']\n",
      "2023-06-23 22:43:08 - __main__ - INFO - Infl2 top 20: ['_rockt', 'DeepMind', 'AndrewLampinen', '_akhaliq', 'egrefen', 'NandoDF', 'shaneguML', 'hardmaru', '_jasonwei', 'karpathy', 'ylecun', 'FelixHill84', 'sleepinyourhat', 'percyliang', 'poolio', 'DynamicWebPaige', 'PetarV_93', 'ChrSzegedy', 'roydanroy', 'RandomlyWalking']\n"
     ]
    }
   ],
   "source": [
    "# Loop through all files in ./data that start with \"selected_clusters\"\n",
    "import os\n",
    "import re\n",
    "import pickle\n",
    "\n",
    "for file in os.listdir(\"./data\"):\n",
    "    filename = os.fsdecode(file)\n",
    "    if filename.startswith(\"selected_clusters\"):\n",
    "        with open(f\"./data/{filename}\", \"rb\") as f:\n",
    "            clusters = pickle.load(f)\n",
    "            # Return the chars after \"selected_clusters_\"\n",
    "            name = re.search(r\"selected_clusters_(.*)\", filename).group(1)\n",
    "            # Split on the first underscore\n",
    "            user_id = name.split(\"_\", 1)[0]\n",
    "            seed_user_name = user_getter.get_user_by_id(user_id).screen_name\n",
    "            root_csv_name = seed_user_name + \"_\" + name\n",
    "            for i, cluster in enumerate(clusters):\n",
    "                csv_name = f\"./tables/{root_csv_name}_{i+1}\"\n",
    "                log.info(\"Tabulating cluster \" + str(csv_name))\n",
    "                sosu, infl1, infl2, prod, con = get_user_ranks(seed_user_name, cluster)\n",
    "                tabulate_rankings(csv_name, cluster, sosu, infl1, infl2)"
   ]
  },
  {
   "cell_type": "code",
   "execution_count": 32,
   "metadata": {},
   "outputs": [],
   "source": [
    "def get_ranking_score_by_screen_name(screen_name: str, score) -> float:\n",
    "    user_id = user_getter.get_user_by_screen_name(screen_name).id\n",
    "    print(score[str(user_id)][0])\n",
    "# get_ranking_score_by_screen_name(\"hardmaru\", sosu)"
   ]
  },
  {
   "cell_type": "code",
   "execution_count": 34,
   "metadata": {},
   "outputs": [
    {
     "data": {
      "image/png": "[encoded data removed]",
      "text/plain": [
       "<Figure size 1500x500 with 2 Axes>"
      ]
     },
     "metadata": {},
     "output_type": "display_data"
    }
   ],
   "source": [
    "# Plot sosu vs infl1, infl2\n",
    "fig, (ax1, ax2) = plt.subplots(1, 2)\n",
    "fig = fig.set_size_inches(15, 5)\n",
    "ax1.scatter([sosu[user][0] for user in sosu], [infl1[user][0] for user in sosu])\n",
    "ax1.set_xlabel(\"Social Support\")\n",
    "ax1.set_ylabel(\"Influence One\")\n",
    "ax1.set_title(\"Social Support vs Influence One\")\n",
    "ax2.scatter([sosu[user][0] for user in sosu], [infl2[user][0] for user in sosu])\n",
    "ax2.set_xlabel(\"Social Support\")\n",
    "ax2.set_ylabel(\"Influence Two\")\n",
    "ax2.set_title(\"Social Support vs Influence Two\")\n",
    "plt.show()"
   ]
  },
  {
   "cell_type": "code",
   "execution_count": 35,
   "metadata": {},
   "outputs": [
    {
     "name": "stderr",
     "output_type": "stream",
     "text": [
      "2023-06-23 21:04:05 - __main__ - INFO - Sosu score cutoff is 230.0\n",
      "2023-06-23 21:04:05 - __main__ - INFO - ['ClementDelangue', 'Thom_Wolf', 'hardmaru', 'nathanbenaich', 'jeremyphoward', 'karpathy', 'ylecun', 'mmitchell_ai', 'jekbradbury', 'egrefen']\n"
     ]
    }
   ],
   "source": [
    "control_sosu_ranking = control_intersection_ranking(sosu, infl1, infl2)\n",
    "control_sosu_ranking_names = [user_getter.get_user_by_id(user).screen_name for user in control_sosu_ranking]\n",
    "log.info(control_sosu_ranking_names)"
   ]
  },
  {
   "cell_type": "code",
   "execution_count": 36,
   "metadata": {},
   "outputs": [
    {
     "name": "stderr",
     "output_type": "stream",
     "text": [
      "2023-06-23 21:04:05 - __main__ - INFO - ['ClementDelangue', 'Thom_Wolf', 'egrefen', '_rockt', 'NandoDF', 'hardmaru', 'aidangomezzz', 'poolio', 'SashaMTL', 'natolambert', 'jackclarkSF']\n"
     ]
    }
   ],
   "source": [
    "old_intersection_ranking = get_intersection_ranking(prod, con, infl1, infl2)\n",
    "old_intersection_ranking_names = [user_getter.get_user_by_id(user).screen_name for user in old_intersection_ranking]\n",
    "log.info(old_intersection_ranking_names)"
   ]
  },
  {
   "cell_type": "code",
   "execution_count": 37,
   "metadata": {},
   "outputs": [
    {
     "data": {
      "image/png": "[encoded data removed]",
      "text/plain": [
       "<Figure size 640x480 with 2 Axes>"
      ]
     },
     "metadata": {},
     "output_type": "display_data"
    },
    {
     "name": "stderr",
     "output_type": "stream",
     "text": [
      "2023-06-23 21:04:05 - __main__ - INFO - Sosu score cutoff is 146.0\n",
      "2023-06-23 21:04:05 - __main__ - INFO - ['ClementDelangue', 'Thom_Wolf', 'hardmaru', 'karpathy', 'egrefen', 'NandoDF', 'suzatweet', '_rockt', 'poolio', 'SanhEstPasMoi']\n"
     ]
    },
    {
     "name": "stdout",
     "output_type": "stream",
     "text": [
      "[0.31902654867256636, 0.8125, 0.19317023445463813, 0.7807807807807807, 0.22286821705426357, 0.20806100217864923, 0.4219114219114219, 0.218707015130674, 0.49169435215946844, 0.8439306358381503]\n"
     ]
    }
   ],
   "source": [
    "new_sosu_ranking = get_new_intersection_ranking(sosu, infl1, infl2)\n",
    "# Print user names\n",
    "# Diff only mmitchell_ai removed -- better since theyre not a researcher\n",
    "new_sosu_ranking_names = [user_getter.get_user_by_id(user).screen_name for user in new_sosu_ranking]\n",
    "log.info(new_sosu_ranking_names)"
   ]
  },
  {
   "cell_type": "code",
   "execution_count": 38,
   "metadata": {},
   "outputs": [
    {
     "name": "stderr",
     "output_type": "stream",
     "text": [
      "2023-06-23 21:04:05 - __main__ - INFO - Sosu score cutoff is 146.0\n",
      "2023-06-23 21:04:05 - __main__ - INFO - ['ClementDelangue', 'Thom_Wolf', 'hardmaru', 'karpathy', 'egrefen', 'NandoDF', 'suzatweet', '_rockt', 'poolio', 'SanhEstPasMoi']\n"
     ]
    }
   ],
   "source": [
    "new_avg_sosu_ranking = get_new_avg_intersection_ranking(sosu, infl1, infl2)\n",
    "# Print user names\n",
    "new_avg_sosu_ranking_names = [user_getter.get_user_by_id(user).screen_name for user in new_avg_sosu_ranking]\n",
    "log.info(new_avg_sosu_ranking_names)"
   ]
  },
  {
   "cell_type": "code",
   "execution_count": 39,
   "metadata": {},
   "outputs": [
    {
     "name": "stderr",
     "output_type": "stream",
     "text": [
      "2023-06-23 21:04:05 - __main__ - INFO - Sosu score cutoff is 0.0\n",
      "2023-06-23 21:04:05 - __main__ - INFO - ['Thom_Wolf', 'karpathy', 'ClementDelangue', 'suzatweet', 'poolio', 'SanhEstPasMoi', 'egrefen', '_rockt', 'JeffDean', 'NandoDF', 'sleepinyourhat']\n"
     ]
    }
   ],
   "source": [
    "new_avg_sosu_ranking = get_new_min_intersection_ranking(sosu, infl1, infl2)\n",
    "# Print user names\n",
    "new_avg_sosu_ranking_names = [user_getter.get_user_by_id(user).screen_name for user in new_avg_sosu_ranking]\n",
    "log.info(new_avg_sosu_ranking_names)"
   ]
  },
  {
   "cell_type": "code",
   "execution_count": 40,
   "metadata": {},
   "outputs": [
    {
     "name": "stderr",
     "output_type": "stream",
     "text": [
      "2023-06-23 21:04:05 - __main__ - INFO - Top 10 users: ['sedielem', 'SanhEstPasMoi', 'Thom_Wolf', 'karpathy', 'adveisner', 'poolio', 'suzatweet', 'natolambert', 'GuillaumeLample', 'jhamrick']\n",
      "2023-06-23 21:04:05 - __main__ - INFO - Threshold is 0.3065244965115491\n",
      "2023-06-23 21:04:05 - __main__ - INFO - ['ClementDelangue', 'Thom_Wolf', 'karpathy', 'suzatweet', 'poolio', 'SanhEstPasMoi', 'sleepinyourhat', 'jackclarkSF', 'natolambert', 'sedielem', 'soumithchintala', 'nickfrosst', 'dustinvtran', 'GuillaumeLample', 'jhamrick', 'adveisner']\n"
     ]
    }
   ],
   "source": [
    "new_avg_sosu_ranking = get_new_top_avg_intersection_ranking(sosu, infl1, infl2)\n",
    "# Print user names\n",
    "new_avg_sosu_ranking_names = [user_getter.get_user_by_id(user).screen_name for user in new_avg_sosu_ranking]\n",
    "log.info(new_avg_sosu_ranking_names)"
   ]
  },
  {
   "cell_type": "code",
   "execution_count": 41,
   "metadata": {},
   "outputs": [
    {
     "name": "stderr",
     "output_type": "stream",
     "text": [
      "2023-06-23 21:04:05 - __main__ - INFO - {'natolambert', 'SashaMTL', 'jackclarkSF', 'aidangomezzz'}\n",
      "2023-06-23 21:04:05 - __main__ - INFO - {'_rockt', 'egrefen', 'hardmaru', 'NandoDF'}\n",
      "2023-06-23 21:04:05 - __main__ - INFO - {'natolambert', 'jhamrick', 'sedielem', 'sleepinyourhat', 'nickfrosst', 'dustinvtran', 'jackclarkSF', 'soumithchintala', 'adveisner', 'GuillaumeLample'}\n",
      "2023-06-23 21:04:05 - __main__ - INFO - {'ylecun', 'jeremyphoward', 'mmitchell_ai', 'jekbradbury', 'nathanbenaich'}\n",
      "2023-06-23 21:04:05 - __main__ - INFO - {'ylecun', 'egrefen', 'jeremyphoward', 'mmitchell_ai', 'jekbradbury', 'nathanbenaich', 'hardmaru'}\n"
     ]
    }
   ],
   "source": [
    "# Set difference both ways\n",
    "log.info(set(old_intersection_ranking_names) - set(new_sosu_ranking_names))\n",
    "log.info(set(new_sosu_ranking_names) - set(new_avg_sosu_ranking_names))\n",
    "log.info(set(new_avg_sosu_ranking_names) - set(new_sosu_ranking_names))\n",
    "log.info(set(control_sosu_ranking_names) - set(new_sosu_ranking_names))\n",
    "log.info(set(control_sosu_ranking_names) - set(new_avg_sosu_ranking_names))"
   ]
  },
  {
   "cell_type": "code",
   "execution_count": 42,
   "metadata": {},
   "outputs": [
    {
     "data": {
      "image/png": "[encoded data removed]",
      "text/plain": [
       "<Figure size 1500x500 with 2 Axes>"
      ]
     },
     "metadata": {},
     "output_type": "display_data"
    }
   ],
   "source": [
    "# Plot social support vs infl1 and infl2\n",
    "fig, (ax1, ax2) = plt.subplots(1, 2)\n",
    "fig = fig.set_size_inches(15, 5)\n",
    "ax1.scatter([sosu[user][0] for user in new_sosu_ranking], [infl1[user][0] for user in new_sosu_ranking])\n",
    "# Plot horizontal line at min infl1 score\n",
    "min1 = min([infl1[user][0] for user in new_sosu_ranking])\n",
    "ax1.axhline(y=min1, color='r', linestyle='--')\n",
    "# Show value of min infl1 score\n",
    "#ax1.text(-8, min1, f\"{min1:.3f}\")\n",
    "ax1.set_xlabel(\"Social Support\")\n",
    "ax1.set_ylabel(\"Influence One\")\n",
    "ax1.set_title(\"Social Support vs Influence One\")\n",
    "ax2.scatter([sosu[user][0] for user in new_sosu_ranking], [infl2[user][0] for user in new_sosu_ranking])\n",
    "# Plot horizontal line at min infl2 score\n",
    "min2 = min([infl2[user][0] for user in new_sosu_ranking])\n",
    "ax2.axhline(y=min2, color='r', linestyle='--')\n",
    "# Show value of min infl2 score\n",
    "ax2.text(-8, min2, f\"{min2:.3f}\")\n",
    "ax2.set_xlabel(\"Social Support\")\n",
    "ax2.set_ylabel(\"Influence Two\")\n",
    "ax2.set_title(\"Social Support vs Influence Two\")\n",
    "plt.show()"
   ]
  },
  {
   "cell_type": "code",
   "execution_count": null,
   "metadata": {},
   "outputs": [],
   "source": []
  }
 ],
 "metadata": {
  "kernelspec": {
   "display_name": "env",
   "language": "python",
   "name": "python3"
  },
  "language_info": {
   "codemirror_mode": {
    "name": "ipython",
    "version": 3
   },
   "file_extension": ".py",
   "mimetype": "text/x-python",
   "name": "python",
   "nbconvert_exporter": "python",
   "pygments_lexer": "ipython3",
   "version": "3.9.16"
  },
  "orig_nbformat": 4
 },
 "nbformat": 4,
 "nbformat_minor": 2
}
