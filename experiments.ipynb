{
 "cells": [
  {
   "cell_type": "code",
   "execution_count": 1,
   "metadata": {},
   "outputs": [],
   "source": [
    "import src.dependencies.injector as sdi\n",
    "from src.shared.logger_factory import LoggerFactory\n",
    "from src.process.data_cleaning.data_cleaning_distributions import jaccard_similarity\n",
    "from src.shared.utils import get_project_root\n",
    "from src.model.local_neighbourhood import LocalNeighbourhood\n",
    "# Just for type signatures\n",
    "from typing import List\n",
    "from src.model.user import User\n",
    "from src.model.social_graph.social_graph import SocialGraph\n",
    "from src.model.cluster import Cluster\n",
    "import argparse\n",
    "\n",
    "log = LoggerFactory.logger(__name__)\n",
    "DEFAULT_PATH = str(get_project_root()) + \\\n",
    "    \"/src/scripts/config/create_social_graph_and_cluster_config.yaml\""
   ]
  },
  {
   "cell_type": "code",
   "execution_count": 4,
   "metadata": {},
   "outputs": [],
   "source": [
    "injector = sdi.Injector.get_injector_from_file(DEFAULT_PATH)\n",
    "process_module = injector.get_process_module()\n",
    "dao_module = injector.get_dao_module()\n",
    "user_activity_getters = {\n",
    "    \"friends\": dao_module.get_user_activity_getter(user_activity=\"friends\"),\n",
    "    \"user retweets\": dao_module.get_user_activity_getter(user_activity=\"user retweets\"),\n",
    "    \"user retweets ids\": dao_module.get_user_activity_getter(user_activity=\"user retweets ids\")\n",
    "}\n",
    "user_getter = dao_module.get_user_getter()\n",
    "user_friend_getter = dao_module.get_user_friend_getter()\n",
    "\n",
    "def get_user_activities(user_id: str, user_activity: str):\n",
    "    return user_activity_getters[user_activity].get_user_activity(user_id)"
   ]
  },
  {
   "cell_type": "code",
   "execution_count": 3,
   "metadata": {},
   "outputs": [],
   "source": [
    "def compute_activity_similarity(user1: str, user2: str, user_activity: str):\n",
    "    user1_activity = get_user_activities(user1, user_activity)\n",
    "    user2_activity = get_user_activities(user2, user_activity)\n",
    "    return jaccard_similarity(user1_activity, user2_activity)\n",
    "\n",
    "def compute_retweeted_friends_similarity(user1: str, user2: str):\n",
    "    user1_retweeted_users = get_user_activities(user1, \"user retweets\")\n",
    "    user2_retweeted_users = get_user_activities(user2, \"user retweets\")\n",
    "    user1_friends = user_friend_getter.get_user_friends_ids(user1)\n",
    "    user2_friends = user_friend_getter.get_user_friends_ids(user2)\n",
    "    user1_retweeted_friends = list(set(user1_retweeted_users).intersection(set(user1_friends)))\n",
    "    user2_retweeted_friends = list(set(user2_retweeted_users).intersection(set(user2_friends)))\n",
    "    return jaccard_similarity(user1_retweeted_friends, user2_retweeted_friends)"
   ]
  },
  {
   "cell_type": "code",
   "execution_count": 5,
   "metadata": {},
   "outputs": [],
   "source": [
    "# Clean users function from local_neighbourhood_downloader.py\n",
    "def clean_user_friends_global(self, user_id, friends_list):\n",
    "    user = self.user_getter.get_user_by_id(str(user_id))\n",
    "    log.info(\"Cleaning Friends List by Follower and Friend\")\n",
    "    t = 0.1\n",
    "\n",
    "    num_users = len(friends_list)\n",
    "    clean_friends_list = friends_list\n",
    "    while (num_users > 1000):\n",
    "        num_users = len(friends_list)\n",
    "        clean_friends_list = []\n",
    "        follower_thresh = t * user.followers_count\n",
    "        friend_thresh = t * user.friends_count\n",
    "        print(\n",
    "            f\"Data cleaning with thresholds {follower_thresh, friend_thresh}\")\n",
    "        for id in friends_list:\n",
    "            num_users -= 1\n",
    "            curr_user = self.user_getter.get_user_by_id(id)\n",
    "            if user is not None and curr_user is not None and curr_user.followers_count > follower_thresh and curr_user.friends_count > friend_thresh:\n",
    "                clean_friends_list.append(id)\n",
    "                num_users += 1\n",
    "        log.info(\n",
    "            f\"Increasing Data Cleaning Strength {t}, {num_users} remaining users\")\n",
    "        t += 0.05\n",
    "    return clean_friends_list, t"
   ]
  },
  {
   "cell_type": "code",
   "execution_count": 6,
   "metadata": {},
   "outputs": [],
   "source": [
    "def compare_user_friends(seed_user: str, activity1: str, activity2: str, activity_1_thresh: float, clean: bool = True):\n",
    "    # Get user friends\n",
    "    friends_map = {}\n",
    "    sim_map = {}\n",
    "    user_friends = user_friend_getter.get_user_friends_ids(seed_user)\n",
    "    if clean:\n",
    "        user_friends, _ = clean_user_friends_global(seed_user, user_friends)\n",
    "\n",
    "    for user1 in user_friends:\n",
    "        friends_map[user1] = []\n",
    "        sim_map[user1] = 0\n",
    "        for user2 in user_friends:\n",
    "            if user1 != user2:\n",
    "                sim = compute_activity_similarity(user1, user2, activity1)\n",
    "                if sim >= activity_1_thresh:\n",
    "                    friends_map[user1].append(user2)\n",
    "                    # If activity1 sim above threshold, check activity2\n",
    "                    sim_map[user1] += compute_activity_similarity(user1, user2, activity2)\n",
    "                    \n",
    "                    # If activity1 = 'friends', we can also check retweeted friends\n",
    "                    # sim_map[user1] += compute_retweeted_friends_similarity(user1, user2)\n",
    "        \n",
    "        # Obtain average similarity\n",
    "        sim_map[user1] /= len(friends_map[user1])\n",
    "\n",
    "    return sim_map"
   ]
  },
  {
   "cell_type": "code",
   "execution_count": 7,
   "metadata": {},
   "outputs": [],
   "source": [
    "def compare_retweeted_and_friends(user_id: str):\n",
    "    # Get user friends\n",
    "    user_friends = user_friend_getter.get_user_friends_ids(user_id)\n",
    "    user_retweeted_users = get_user_activities(user_id, \"user retweets\")\n",
    "    user_retweeted_friends = list(set(user_retweeted_users).intersection(set(user_friends)))\n",
    "\n",
    "    # Return ratios\n",
    "    return len(user_retweeted_friends) / len(user_friends), len(user_retweeted_friends) / len(user_retweeted_users)"
   ]
  },
  {
   "cell_type": "code",
   "execution_count": null,
   "metadata": {},
   "outputs": [],
   "source": []
  }
 ],
 "metadata": {
  "kernelspec": {
   "display_name": "env",
   "language": "python",
   "name": "python3"
  },
  "language_info": {
   "codemirror_mode": {
    "name": "ipython",
    "version": 3
   },
   "file_extension": ".py",
   "mimetype": "text/x-python",
   "name": "python",
   "nbconvert_exporter": "python",
   "pygments_lexer": "ipython3",
   "version": "3.8.16"
  },
  "orig_nbformat": 4
 },
 "nbformat": 4,
 "nbformat_minor": 2
}
