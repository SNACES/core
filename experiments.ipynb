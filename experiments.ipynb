{
 "cells": [
  {
   "cell_type": "code",
   "execution_count": 1,
   "metadata": {},
   "outputs": [],
   "source": [
    "import src.dependencies.injector as sdi\n",
    "from src.shared.logger_factory import LoggerFactory\n",
    "from src.process.data_cleaning.data_cleaning_distributions import jaccard_similarity\n",
    "from src.shared.utils import get_project_root\n",
    "from src.model.cluster import Cluster\n",
    "from typing import List\n",
    "import numpy as np\n",
    "\n",
    "log = LoggerFactory.logger(__name__)\n",
    "DEFAULT_PATH = str(get_project_root()) + \\\n",
    "    \"/src/scripts/config/create_social_graph_and_cluster_config.yaml\""
   ]
  },
  {
   "cell_type": "code",
   "execution_count": 2,
   "metadata": {},
   "outputs": [],
   "source": [
    "injector = sdi.Injector.get_injector_from_file(DEFAULT_PATH)\n",
    "process_module = injector.get_process_module()\n",
    "dao_module = injector.get_dao_module()\n",
    "user_activity_getters = {\n",
    "    \"friends\": dao_module.get_user_activity_getter(user_activity=\"friends\"),\n",
    "    \"user retweets\": dao_module.get_user_activity_getter(user_activity=\"user retweets\"),\n",
    "    \"user retweets ids\": dao_module.get_user_activity_getter(user_activity=\"user retweets ids\")\n",
    "}\n",
    "user_getter = dao_module.get_user_getter()\n",
    "user_friend_getter = dao_module.get_user_friend_getter()\n",
    "\n",
    "def get_user_activities(user_id: str, user_activity: str):\n",
    "    activities = user_activity_getters[user_activity].get_user_activities(user_id)\n",
    "    if len(activities) == 0:\n",
    "        return None\n",
    "    else:\n",
    "        return activities"
   ]
  },
  {
   "cell_type": "code",
   "execution_count": 3,
   "metadata": {},
   "outputs": [],
   "source": [
    "def compute_activity_similarity(user1: str, user2: str, user_activity: str):\n",
    "    user1_activity = get_user_activities(user1, user_activity)\n",
    "    user2_activity = get_user_activities(user2, user_activity)\n",
    "    if user1_activity and user2_activity:\n",
    "        # log.info(f\"Computing similarity between {user1} and {user2} with length {len(user1_activity)} and {len(user2_activity)}\")\n",
    "        return jaccard_similarity(user1_activity, user2_activity)\n",
    "    return 0\n",
    "\n",
    "def compute_retweeted_friends_similarity(user1: str, user2: str):\n",
    "    user1_retweeted_users = get_user_activities(user1, \"user retweets\")\n",
    "    user2_retweeted_users = get_user_activities(user2, \"user retweets\")\n",
    "    user1_friends = user_friend_getter.get_user_friends_ids(user1)\n",
    "    user2_friends = user_friend_getter.get_user_friends_ids(user2)\n",
    "    user1_retweeted_friends = list(set(user1_retweeted_users).intersection(set(user1_friends)))\n",
    "    user2_retweeted_friends = list(set(user2_retweeted_users).intersection(set(user2_friends)))\n",
    "    return jaccard_similarity(user1_retweeted_friends, user2_retweeted_friends) if user1_retweeted_friends and user2_retweeted_friends else 0"
   ]
  },
  {
   "cell_type": "code",
   "execution_count": 8,
   "metadata": {},
   "outputs": [],
   "source": [
    "# Clean users function from local_neighbourhood_downloader.py\n",
    "def clean_user_friends_global(user_id, friends_list):\n",
    "    user = user_getter.get_user_by_id(str(user_id))\n",
    "    log.info(\"Cleaning Friends List by Follower and Friend\")\n",
    "    t = 0.1\n",
    "\n",
    "    num_users = len(friends_list)\n",
    "    clean_friends_list = friends_list\n",
    "    while (num_users > 1000):\n",
    "        num_users = len(friends_list)\n",
    "        clean_friends_list = []\n",
    "        follower_thresh = t * user.followers_count\n",
    "        friend_thresh = t * user.friends_count\n",
    "        print(\n",
    "            f\"Data cleaning with thresholds {follower_thresh, friend_thresh}\")\n",
    "        for id in friends_list:\n",
    "            num_users -= 1\n",
    "            curr_user = user_getter.get_user_by_id(id)\n",
    "            if user is not None and curr_user is not None and curr_user.followers_count > follower_thresh and curr_user.friends_count > friend_thresh:\n",
    "                clean_friends_list.append(id)\n",
    "                num_users += 1\n",
    "        log.info(\n",
    "            f\"Increasing Data Cleaning Strength {t}, {num_users} remaining users\")\n",
    "        t += 0.05\n",
    "    return clean_friends_list, t"
   ]
  },
  {
   "cell_type": "code",
   "execution_count": 5,
   "metadata": {},
   "outputs": [],
   "source": [
    "def compare_user_friends(seed_user_name: str, activity1: str, activity2: str, activity_1_thresh: float, clean: bool = True):\n",
    "    user = user_getter.get_user_by_screen_name(seed_user_name)\n",
    "    seed_user = str(user.id)\n",
    "    # Get user friends\n",
    "    friends_map = {}\n",
    "    sim_map = {}\n",
    "    user_friends = user_friend_getter.get_user_friends_ids(seed_user)\n",
    "    log.info(f\"Seed user {seed_user} has {len(user_friends)} friends\")\n",
    "    if clean:\n",
    "        user_friends, _ = clean_user_friends_global(seed_user, user_friends)\n",
    "\n",
    "    for i, user1 in enumerate(user_friends):\n",
    "        friends_map[user1] = []\n",
    "        sim_map[user1] = 0\n",
    "        if i % 50 == 0:\n",
    "            log.info(f\"Processing user {i} out of {len(user_friends)}\")\n",
    "        for user2 in user_friends:\n",
    "            if user1 != user2:\n",
    "                sim = compute_activity_similarity(user1, user2, activity1)\n",
    "                if sim >= activity_1_thresh:\n",
    "                    friends_map[user1].append(user2)\n",
    "                    # If activity1 sim above threshold, check activity2\n",
    "                    sim2 = compute_activity_similarity(user1, user2, activity2)\n",
    "                    # log.info(f\"Similarity between {user1} and {user2} in activity {activity2} is {sim2}\")\n",
    "                    sim_map[user1] += sim2\n",
    "                    \n",
    "                    # If activity1 = 'friends', we can also check retweeted friends\n",
    "                    # sim2 = compute_retweeted_friends_similarity(user1, user2)\n",
    "                    # log.info(f\"Similarity between {user1} and {user2} in retweeted friends is {sim2}\")\n",
    "                    # sim_map[user1] += compute_retweeted_friends_similarity(user1, user2)\n",
    "        \n",
    "        # Obtain average similarity\n",
    "        if len(friends_map[user1]) > 0:\n",
    "            sim_map[user1] /= len(friends_map[user1])\n",
    "        \n",
    "        # Sort sim_map by decreasing similarity\n",
    "        sim_map = {k: v for k, v in sorted(sim_map.items(), key=lambda item: item[1], reverse=True)}\n",
    "\n",
    "    return friends_map, sim_map"
   ]
  },
  {
   "cell_type": "code",
   "execution_count": 82,
   "metadata": {},
   "outputs": [],
   "source": [
    "def compare_retweeted_and_friends(user_id: int):\n",
    "    # Get user friends\n",
    "    user_friends = user_friend_getter.get_user_friends_ids(user_id)\n",
    "    if user_friends == []:\n",
    "        user_friends = None\n",
    "    user_retweeted_users = get_user_activities(user_id, \"user retweets\")\n",
    "\n",
    "    # Return ratios\n",
    "    if user_friends is None and user_retweeted_users is None:\n",
    "        return None, None, None\n",
    "    elif user_retweeted_users is None:\n",
    "        return 0, 0, 0\n",
    "    elif user_friends is None:\n",
    "        return 0, 0, None\n",
    "    \n",
    "    user_retweeted_friends = list(set(user_retweeted_users).intersection(set(user_friends)))\n",
    "    # Print lengths\n",
    "    return len(user_retweeted_friends) / len(user_friends), len(user_retweeted_friends) / len(user_retweeted_users), len(user_retweeted_users) / len(user_friends)"
   ]
  },
  {
   "cell_type": "code",
   "execution_count": 83,
   "metadata": {},
   "outputs": [],
   "source": [
    "def find_intersection_distributions(seed_user_name: str, clean: bool = True):\n",
    "    user = user_getter.get_user_by_screen_name(seed_user_name)\n",
    "    seed_user = str(user.id)\n",
    "    user_friends = user_friend_getter.get_user_friends_ids(seed_user)\n",
    "    log.info(f\"Seed user {seed_user} has {len(user_friends)} friends\")\n",
    "    if clean:\n",
    "        user_friends, _ = clean_user_friends_global(seed_user, user_friends)\n",
    "    rtff = []\n",
    "    rtfrtu = []\n",
    "    rtuf = []\n",
    "\n",
    "    for i, user in enumerate(user_friends):\n",
    "        if i % 50 == 0:\n",
    "            log.info(f\"Processing user {i} out of {len(user_friends)}\")\n",
    "        ratios = compare_retweeted_and_friends(user)\n",
    "        if ratios[0] is not None and ratios[0] != 0:\n",
    "            rtff.append(ratios[0])\n",
    "        if ratios[1] is not None and ratios[1] != 0:\n",
    "            rtfrtu.append(ratios[1])\n",
    "        if ratios[2] is not None and ratios[2] != 0:\n",
    "            rtuf.append(ratios[2])\n",
    "\n",
    "    return rtff, rtfrtu, rtuf"
   ]
  },
  {
   "cell_type": "code",
   "execution_count": 84,
   "metadata": {},
   "outputs": [
    {
     "name": "stderr",
     "output_type": "stream",
     "text": [
      "2023-06-06 17:45:35 - __main__ - INFO - Seed user 4369711156 has 2024 friends\n",
      "2023-06-06 17:45:35 - __main__ - INFO - Cleaning Friends List by Follower and Friend\n"
     ]
    },
    {
     "name": "stdout",
     "output_type": "stream",
     "text": [
      "Data cleaning with thresholds (3003.0, 202.20000000000002)\n"
     ]
    },
    {
     "name": "stderr",
     "output_type": "stream",
     "text": [
      "2023-06-06 17:45:41 - __main__ - INFO - Increasing Data Cleaning Strength 0.1, 297 remaining users\n",
      "2023-06-06 17:45:41 - __main__ - INFO - Processing user 0 out of 297\n",
      "2023-06-06 17:45:41 - __main__ - INFO - Processing user 50 out of 297\n",
      "2023-06-06 17:45:42 - __main__ - INFO - Processing user 100 out of 297\n",
      "2023-06-06 17:45:42 - __main__ - INFO - Processing user 150 out of 297\n",
      "2023-06-06 17:45:42 - __main__ - INFO - Processing user 200 out of 297\n",
      "2023-06-06 17:45:43 - __main__ - INFO - Processing user 250 out of 297\n"
     ]
    }
   ],
   "source": [
    "rtff, rtfrtu, rtuf = find_intersection_distributions(\"chessable\")"
   ]
  },
  {
   "cell_type": "code",
   "execution_count": 85,
   "metadata": {},
   "outputs": [
    {
     "data": {
      "image/png": "[encoded data removed]",
      "text/plain": [
       "<Figure size 1500x500 with 3 Axes>"
      ]
     },
     "metadata": {},
     "output_type": "display_data"
    }
   ],
   "source": [
    "import seaborn as sns\n",
    "import matplotlib.pyplot as plt\n",
    "# Plot distributions\n",
    "fig, axs = plt.subplots(1, 3, figsize=(15, 5))\n",
    "\n",
    "sns.histplot(data=rtff, ax=axs[0], kde=True, stat=\"proportion\", bins=50)\n",
    "# Title\n",
    "axs[0].set_title(\"Ratio of Retweeted Friends to Friends\")\n",
    "sns.histplot(data=rtfrtu, ax=axs[1], kde=True, stat=\"proportion\", bins=50)\n",
    "axs[1].set_title(\"Ratio of Retweeted Friends to Retweeted Users\")\n",
    "sns.histplot(data=rtuf, ax=axs[2], kde=True, stat=\"proportion\", bins=50)\n",
    "axs[2].set_title(\"Ratio of Retweeted Users to Friends\")\n",
    "# Save\n",
    "# plt.savefig(\"chessable_intersection_distributions.png\")\n"
   ]
  },
  {
   "cell_type": "code",
   "execution_count": null,
   "metadata": {},
   "outputs": [],
   "source": [
    "username = \"chessable\"\n",
    "\n",
    "rtff, rtfrtu, rtuf = compare_retweeted_and_friends(username)\n",
    "log.info(f\"Retweeted friends ratio: {rtff}\")\n",
    "log.info(f\"Retweeted friends to retweeted users ratio: {rtfrtu}\")\n",
    "log.info(f\"Retweeted users to friends ratio: {rtuf}\")\n",
    "# hardmaru: friends - 0.2, retweets - 0.05\n",
    "start_thresh = 0.3\n",
    "end_thresh = 0.5\n",
    "# Split into 5 thresholds\n",
    "thresholds = np.linspace(start_thresh, end_thresh, 5)\n",
    "log.info(f\"Thresholds: {thresholds}\")\n",
    "avg_sims = []\n",
    "for thresh in thresholds:\n",
    "    log.info(f\"Running with threshold: {thresh}\")\n",
    "    friends_map, sim_map = compare_user_friends(username, \"friends\", \"user retweets\", thresh)\n",
    "    log.info(f\"Similarity map: {str(sim_map)}\")\n",
    "\n",
    "    # Filter sim_map, keys with non-zero values\n",
    "    filtered_sim_map = {k: v for k, v in sim_map.items() if v > 0}\n",
    "    log.info(f\"Similarity map - non-zero similarity: {str(filtered_sim_map)}\")\n",
    "\n",
    "    friend_count = len([k for k, v in friends_map.items() if len(v) > 0])\n",
    "\n",
    "    log.info(f\"Number of friends: {friend_count}\")\n",
    "\n",
    "    # Average similarity\n",
    "    avg_sim = sum(sim_map.values()) / friend_count\n",
    "    log.info(f\"Average similarity for threshold={thresh} is: {avg_sim}\")\n",
    "    avg_sims.append(avg_sim)"
   ]
  },
  {
   "cell_type": "code",
   "execution_count": 16,
   "metadata": {},
   "outputs": [
    {
     "data": {
      "image/png": "[encoded data removed]",
      "text/plain": [
       "<Figure size 640x480 with 1 Axes>"
      ]
     },
     "metadata": {},
     "output_type": "display_data"
    }
   ],
   "source": [
    "# Plot thresholds vs average similarity\n",
    "import matplotlib.pyplot as plt\n",
    "plt.plot(thresholds, avg_sims, marker='o')\n",
    "plt.xlabel(\"Threshold\")\n",
    "plt.ylabel(\"Average Similarity\")\n",
    "plt.title(f\"Threshold vs Average Similarity for {username} \\n friends vs retweeted users\")\n",
    "plt.savefig(f\"threshold_vs_avg_sim_{username}-higher.png\")\n",
    "plt.show()"
   ]
  },
  {
   "attachments": {},
   "cell_type": "markdown",
   "metadata": {},
   "source": [
    "### Ranking Experiments\n",
    "\n",
    "Three things to investigate:\n",
    "1. During the clustering loop, we typically choose the curr_user to be the highest ranked user. What happens if we instead choose the 2nd highest ranked user? 3rd highest? 4th highest? etc. Is the final cluster robust to this choice?\n",
    "2. To what extent does the final clustering change depending on different intersection strategies: original, top k, average, etc.\n",
    "3. To what extent does the ranking change depending on different intersection strategies: original, top k, average, etc."
   ]
  },
  {
   "cell_type": "code",
   "execution_count": 3,
   "metadata": {},
   "outputs": [],
   "source": [
    "\"\"\"From ranking_users_in_clusters.py\"\"\"\n",
    "\n",
    "DEFAULT_PATH = str(get_project_root()) + \"/src/scripts/config/create_social_graph_and_cluster_config.yaml\"\n",
    "\n",
    "def original_get_intersection_ranking(prod, con, infl1, infl2):\n",
    "    \"\"\"Produces a ranking that is the intersection of the Production,\n",
    "    Consumption, Influence One, and Influence Two rankings\n",
    "\n",
    "    Args:\n",
    "        prod, con, infl1, infl2:\n",
    "            Are dictionaries where the key is the user id and the value is their\n",
    "            score for the respective ranker\n",
    "    Returns:\n",
    "        An ordered list of about 10 highest ranked users sorted by highest rank.\n",
    "    \"\"\"\n",
    "    # We use prod here as it's the same user list anyways\n",
    "    prod_ranking = list(sorted(prod, key=lambda x: (prod[x][0], prod[x][1]), reverse=True))\n",
    "    con_ranking = list(sorted(prod, key=lambda x: (con[x][0], con[x][1]), reverse=True))\n",
    "    infl1_ranking = list(sorted(prod, key=lambda x: (infl1[x][0], infl1[x][1]), reverse=True))\n",
    "    infl2_ranking = list(sorted(prod, key=lambda x: (infl2[x][0], infl2[x][1]), reverse=True))\n",
    "    top_all = {}\n",
    "    for i in range(1, len(prod_ranking) + 1):\n",
    "        top_prod = set(prod_ranking[:i])\n",
    "        top_con = set(con_ranking[:i])\n",
    "        top_infl1 = set(infl1_ranking[:i])\n",
    "        top_infl2 = set(infl2_ranking[:i])\n",
    "        intersection = top_prod.intersection(\n",
    "            top_con).intersection(\n",
    "            top_infl1).intersection(\n",
    "            top_infl2)\n",
    "\n",
    "        for user in intersection:\n",
    "            if user not in top_all:\n",
    "                top_all[user] = [i, infl2_ranking.index(user)]\n",
    "\n",
    "        #if len(intersection) >= 20: break\n",
    "        if len(intersection) >= 10: break\n",
    "\n",
    "    return sorted(top_all, key=lambda x: (top_all[x][0], top_all[x][1]))"
   ]
  },
  {
   "cell_type": "code",
   "execution_count": 9,
   "metadata": {},
   "outputs": [],
   "source": [
    "def get_intersection_ranking_avg(prod, con, infl1, infl2):\n",
    "    \"\"\"Produces a ranking that is the intersection of the Production,\n",
    "    Consumption, Influence One, and Influence Two rankings\n",
    "\n",
    "    Args:\n",
    "        prod, con, infl1, infl2:\n",
    "            Are dictionaries where the key is the user id and the value is their\n",
    "            score for the respective ranker\n",
    "    Returns:\n",
    "        An ordered list of about 10 highest ranked users sorted by highest rank.\n",
    "    \"\"\"\n",
    "    # We use prod here as it's the same user list anyways\n",
    "    prod_ranking = list(sorted(prod, key=lambda x: (prod[x][0], prod[x][1]), reverse=True))\n",
    "    con_ranking = list(sorted(prod, key=lambda x: (con[x][0], con[x][1]), reverse=True))\n",
    "    infl1_ranking = list(sorted(prod, key=lambda x: (infl1[x][0], infl1[x][1]), reverse=True))\n",
    "    infl2_ranking = list(sorted(prod, key=lambda x: (infl2[x][0], infl2[x][1]), reverse=True))\n",
    "    top_all = {}\n",
    "    \n",
    "    for user in prod_ranking:\n",
    "        # Get average rank\n",
    "        avg_rank = (prod_ranking.index(user) + con_ranking.index(user) + infl1_ranking.index(user) + infl2_ranking.index(user)) / 4\n",
    "        top_all[user] = [avg_rank, infl2_ranking.index(user)] # second value is just for tie breaking\n",
    "\n",
    "    return sorted(top_all, key=lambda x: (top_all[x][0], top_all[x][1]))[:10]"
   ]
  },
  {
   "cell_type": "code",
   "execution_count": 14,
   "metadata": {},
   "outputs": [],
   "source": [
    "def get_intersection_ranking_min(prod, con, infl1, infl2):\n",
    "    \"\"\"Produces a ranking that is the intersection of the Production,\n",
    "    Consumption, Influence One, and Influence Two rankings\n",
    "\n",
    "    Args:\n",
    "        prod, con, infl1, infl2:\n",
    "            Are dictionaries where the key is the user id and the value is their\n",
    "            score for the respective ranker\n",
    "    Returns:\n",
    "        An ordered list of about 10 highest ranked users sorted by highest rank.\n",
    "    \"\"\"\n",
    "    # We use prod here as it's the same user list anyways\n",
    "    prod_ranking = list(sorted(prod, key=lambda x: (prod[x][0], prod[x][1]), reverse=True))\n",
    "    con_ranking = list(sorted(prod, key=lambda x: (con[x][0], con[x][1]), reverse=True))\n",
    "    infl1_ranking = list(sorted(prod, key=lambda x: (infl1[x][0], infl1[x][1]), reverse=True))\n",
    "    infl2_ranking = list(sorted(prod, key=lambda x: (infl2[x][0], infl2[x][1]), reverse=True))\n",
    "    top_all = {}\n",
    "    \n",
    "    for user in prod_ranking:\n",
    "        # Get min rank\n",
    "        min_rank = min(prod_ranking.index(user), con_ranking.index(user), infl1_ranking.index(user), infl2_ranking.index(user))\n",
    "        top_all[user] = [min_rank, infl2_ranking.index(user)] # second value is just for tie breaking\n",
    "\n",
    "    return sorted(top_all, key=lambda x: (top_all[x][0], top_all[x][1]))[:10]"
   ]
  },
  {
   "cell_type": "code",
   "execution_count": 15,
   "metadata": {},
   "outputs": [],
   "source": [
    "# Redundant. If you think about it, this always gives the same results as min.\n",
    "def union_get_intersection_ranking(prod, con, infl1, infl2):\n",
    "    \"\"\"Produces a ranking that is the intersection of the Production,\n",
    "    Consumption, Influence One, and Influence Two rankings\n",
    "\n",
    "    Args:\n",
    "        prod, con, infl1, infl2:\n",
    "            Are dictionaries where the key is the user id and the value is their\n",
    "            score for the respective ranker\n",
    "    Returns:\n",
    "        An ordered list of about 10 highest ranked users sorted by highest rank.\n",
    "    \"\"\"\n",
    "    # We use prod here as it's the same user list anyways\n",
    "    prod_ranking = list(sorted(prod, key=lambda x: (prod[x][0], prod[x][1]), reverse=True))\n",
    "    con_ranking = list(sorted(prod, key=lambda x: (con[x][0], con[x][1]), reverse=True))\n",
    "    infl1_ranking = list(sorted(prod, key=lambda x: (infl1[x][0], infl1[x][1]), reverse=True))\n",
    "    infl2_ranking = list(sorted(prod, key=lambda x: (infl2[x][0], infl2[x][1]), reverse=True))\n",
    "    top_all = {}\n",
    "    for i in range(1, len(prod_ranking) + 1):\n",
    "        top_prod = set(prod_ranking[:i])\n",
    "        top_con = set(con_ranking[:i])\n",
    "        top_infl1 = set(infl1_ranking[:i])\n",
    "        top_infl2 = set(infl2_ranking[:i])\n",
    "        intersection = top_prod.union(\n",
    "            top_con).union(\n",
    "            top_infl1).union(\n",
    "            top_infl2)\n",
    "\n",
    "        for user in intersection:\n",
    "            if user not in top_all:\n",
    "                top_all[user] = [i, infl2_ranking.index(user)]\n",
    "\n",
    "        #if len(intersection) >= 20: break\n",
    "        if len(intersection) >= 10: break\n",
    "\n",
    "    return sorted(top_all, key=lambda x: (top_all[x][0], top_all[x][1]))"
   ]
  },
  {
   "cell_type": "code",
   "execution_count": 35,
   "metadata": {},
   "outputs": [],
   "source": [
    "def get_intersection_ranking_borda(prod, con, infl1, infl2):\n",
    "    # We use prod here as it's the same user list anyways\n",
    "    prod_ranking = list((sorted(prod, key=lambda x: (prod[x][0], prod[x][1]), reverse=True)))\n",
    "    con_ranking = list((sorted(prod, key=lambda x: (con[x][0], con[x][1]), reverse=True)))\n",
    "    infl1_ranking = list((sorted(prod, key=lambda x: (infl1[x][0], infl1[x][1]), reverse=True)))\n",
    "    infl2_ranking = list((sorted(prod, key=lambda x: (infl2[x][0], infl2[x][1]), reverse=True)))\n",
    "    top_all = {}\n",
    "    for user in prod_ranking:\n",
    "        prod_borda_score = 1 / (prod_ranking.index(user) + 1)\n",
    "        con_borda_score = 1 / (con_ranking.index(user) + 1)\n",
    "        infl1_borda_score = 1 / (infl1_ranking.index(user) + 1)\n",
    "        infl2_borda_score = 1 / (infl2_ranking.index(user) + 1)\n",
    "        top_all[user] = [prod_borda_score + con_borda_score + infl1_borda_score + infl2_borda_score, infl2_ranking.index(user)]\n",
    "    return sorted(top_all, key=lambda x: (-top_all[x][0], top_all[x][1]))[:10]"
   ]
  },
  {
   "cell_type": "code",
   "execution_count": 36,
   "metadata": {},
   "outputs": [],
   "source": [
    "def get_intersection_ranking_borda_linear(prod, con, infl1, infl2):\n",
    "    # We use prod here as it's the same user list anyways\n",
    "    prod_ranking = list((sorted(prod, key=lambda x: (prod[x][0], prod[x][1]), reverse=True)))\n",
    "    con_ranking = list((sorted(prod, key=lambda x: (con[x][0], con[x][1]), reverse=True)))\n",
    "    infl1_ranking = list((sorted(prod, key=lambda x: (infl1[x][0], infl1[x][1]), reverse=True)))\n",
    "    infl2_ranking = list((sorted(prod, key=lambda x: (infl2[x][0], infl2[x][1]), reverse=True)))\n",
    "\n",
    "    prod_linspace = np.linspace(1, 0, len(prod_ranking))\n",
    "    con_linspace = np.linspace(1, 0, len(con_ranking))\n",
    "    infl1_linspace = np.linspace(1, 0, len(infl1_ranking))\n",
    "    infl2_linspace = np.linspace(1, 0, len(infl2_ranking))\n",
    "\n",
    "    top_all = {}\n",
    "    for user in prod_ranking:\n",
    "        prod_borda_score = prod_linspace[prod_ranking.index(user)]\n",
    "        con_borda_score = con_linspace[con_ranking.index(user)]\n",
    "        infl1_borda_score = infl1_linspace[infl1_ranking.index(user)]\n",
    "        infl2_borda_score = infl2_linspace[infl2_ranking.index(user)]\n",
    "        top_all[user] = [prod_borda_score + con_borda_score + infl1_borda_score + infl2_borda_score, infl2_ranking.index(user)]\n",
    "\n",
    "    return sorted(top_all, key=lambda x: (-top_all[x][0], top_all[x][1]))[:10]"
   ]
  },
  {
   "cell_type": "code",
   "execution_count": 11,
   "metadata": {},
   "outputs": [],
   "source": [
    "def get_user_ranks(seed_user_name, cluster, path=DEFAULT_PATH):\n",
    "    \"\"\"Returns the top 10 ranked users from the given cluster with the seed id as user's id.\"\"\"\n",
    "    def get_user_id(user_name):\n",
    "        user = user_getter.get_user_by_screen_name(user_name)\n",
    "        user_id = str(user.id)\n",
    "        return user_id\n",
    "    user_id = get_user_id(seed_user_name)\n",
    "    # apply to all users in cluster\n",
    "    cluster.users = [get_user_id(user_name) for user_name in cluster.users]\n",
    "    \n",
    "    injector = sdi.Injector.get_injector_from_file(path)\n",
    "    process_module = injector.get_process_module()\n",
    "\n",
    "    prod_ranker = process_module.get_ranker()\n",
    "    con_ranker = process_module.get_ranker(\"Consumption\")\n",
    "    infl1_ranker = process_module.get_ranker(\"InfluenceOne\")\n",
    "    infl2_ranker = process_module.get_ranker(\"InfluenceTwo\")\n",
    "\n",
    "    # Second argument is the return of score_users\n",
    "    prod_rank, prod = prod_ranker.rank(user_id, cluster)\n",
    "    con_rank, con = con_ranker.rank(user_id, cluster)\n",
    "    infl1_rank, infl1 = infl1_ranker.rank(user_id, cluster)\n",
    "    infl2_rank, infl2 = infl2_ranker.rank(user_id, cluster)\n",
    "\n",
    "    return prod, con, infl1, infl2"
   ]
  },
  {
   "cell_type": "code",
   "execution_count": 40,
   "metadata": {},
   "outputs": [
    {
     "name": "stderr",
     "output_type": "stream",
     "text": [
      "100%|██████████| 29/29 [00:00<00:00, 89.12it/s]\n",
      "100%|██████████| 29/29 [00:00<00:00, 398.12it/s]\n",
      "100%|██████████| 29/29 [00:00<00:00, 97.89it/s] \n",
      "100%|██████████| 29/29 [00:00<00:00, 81.85it/s]\n"
     ]
    }
   ],
   "source": [
    "test_cluster_users = ['hardmaru', 'AlphaSignalAI', 'DrJimFan', 'alexjc', 'peteskomoroch', 'tszzl', 'l2k', 'ykilcher', 'JayAlammar', 'bhutanisanyam1', 'mervenoyann', 'weights_biases', 'ClementDelangue', 'soumithchintala', 'bbriniotis', 'shaneguML', 'Thom_Wolf', 'DynamicWebPaige', 'pabbeel', '_akhaliq', 'suzatweet', 'alfcnz', 'ogrisel', 'jeffclune', 'seb_ruder', 'jeremyphoward', 'deliprao', 'ericjang11', 'karpathy']\n",
    "seed_user = 'hardmaru' # important that this is in test_cluster_users\n",
    "cluster = Cluster(seed_user, test_cluster_users)\n",
    "prod, con, infl1, infl2 = get_user_ranks(seed_user, cluster)\n",
    "\n",
    "def get_intersection_ranking(intersection_fn, prod, con, infl1, infl2):\n",
    "    intersection_ranking = intersection_fn(prod, con, infl1, infl2)\n",
    "    top_n_users = [user_getter.get_user_by_id(id).screen_name for id in intersection_ranking]\n",
    "    return top_n_users"
   ]
  },
  {
   "cell_type": "code",
   "execution_count": 41,
   "metadata": {},
   "outputs": [
    {
     "name": "stdout",
     "output_type": "stream",
     "text": [
      "Prod:  ['hardmaru', '_akhaliq', 'karpathy', 'DrJimFan', 'mervenoyann', 'ClementDelangue', 'jeremyphoward', 'tszzl', 'Thom_Wolf', 'weights_biases', 'JayAlammar', 'deliprao', 'AlphaSignalAI', 'ericjang11', 'shaneguML', 'soumithchintala', 'DynamicWebPaige', 'bhutanisanyam1', 'l2k', 'suzatweet', 'alexjc', 'ykilcher', 'alfcnz', 'seb_ruder', 'jeffclune', 'pabbeel', 'bbriniotis', 'peteskomoroch', 'ogrisel']\n",
      "Con:  ['shaneguML', '_akhaliq', 'ClementDelangue', 'peteskomoroch', 'jeremyphoward', 'DynamicWebPaige', 'suzatweet', 'hardmaru', 'mervenoyann', 'l2k', 'AlphaSignalAI', 'deliprao', 'DrJimFan', 'Thom_Wolf', 'ericjang11', 'tszzl', 'bhutanisanyam1', 'alexjc', 'alfcnz', 'karpathy', 'jeffclune', 'pabbeel', 'weights_biases', 'ogrisel', 'JayAlammar', 'ykilcher', 'bbriniotis', 'soumithchintala', 'seb_ruder']\n",
      "Infl1:  ['karpathy', 'Thom_Wolf', 'suzatweet', 'soumithchintala', 'ClementDelangue', 'shaneguML', 'pabbeel', 'hardmaru', 'l2k', 'DrJimFan', 'mervenoyann', 'AlphaSignalAI', 'jeremyphoward', 'weights_biases', 'ericjang11', 'bhutanisanyam1', '_akhaliq', 'JayAlammar', 'bbriniotis', 'ykilcher', 'DynamicWebPaige', 'alfcnz', 'seb_ruder', 'ogrisel', 'alexjc', 'peteskomoroch', 'deliprao', 'jeffclune', 'tszzl']\n",
      "Infl2:  ['ClementDelangue', 'jeremyphoward', 'hardmaru', '_akhaliq', 'shaneguML', 'karpathy', 'Thom_Wolf', 'DynamicWebPaige', 'DrJimFan', 'ericjang11', 'suzatweet', 'weights_biases', 'soumithchintala', 'peteskomoroch', 'alfcnz', 'l2k', 'AlphaSignalAI', 'mervenoyann', 'pabbeel', 'deliprao', 'bhutanisanyam1', 'JayAlammar', 'tszzl', 'alexjc', 'ykilcher', 'jeffclune', 'seb_ruder', 'ogrisel', 'bbriniotis']\n"
     ]
    }
   ],
   "source": [
    "prod_ranking = list((sorted(prod, key=lambda x: (prod[x][0], prod[x][1]), reverse=True)))\n",
    "prod_ranking_names = [user_getter.get_user_by_id(id).screen_name for id in prod_ranking]\n",
    "con_ranking = list((sorted(prod, key=lambda x: (con[x][0], con[x][1]), reverse=True)))\n",
    "con_ranking_names = [user_getter.get_user_by_id(id).screen_name for id in con_ranking]\n",
    "infl1_ranking = list((sorted(prod, key=lambda x: (infl1[x][0], infl1[x][1]), reverse=True)))\n",
    "infl1_ranking_names = [user_getter.get_user_by_id(id).screen_name for id in infl1_ranking]\n",
    "infl2_ranking = list((sorted(prod, key=lambda x: (infl2[x][0], infl2[x][1]), reverse=True)))\n",
    "infl2_ranking_names = [user_getter.get_user_by_id(id).screen_name for id in infl2_ranking]\n",
    "\n",
    "print(\"Prod: \", prod_ranking_names)\n",
    "print(\"Con: \", con_ranking_names)\n",
    "print(\"Infl1: \", infl1_ranking_names)\n",
    "print(\"Infl2: \", infl2_ranking_names)"
   ]
  },
  {
   "cell_type": "code",
   "execution_count": 38,
   "metadata": {},
   "outputs": [
    {
     "name": "stderr",
     "output_type": "stream",
     "text": [
      "2023-06-07 01:06:22 - __main__ - INFO - Top 10 users: ['hardmaru', 'ClementDelangue', 'fchollet', 'suzatweet', 'deliprao', 'jackclarkSF', 'tszzl', 'balajis', 'peteskomoroch', 'Miles_Brundage'] using function get_intersection_ranking_avg\n"
     ]
    }
   ],
   "source": [
    "intersection_fn = get_intersection_ranking_avg\n",
    "top_n_users = get_intersection_ranking(intersection_fn, prod, con, infl1, infl2)\n",
    "log.info(f\"Top 10 users: {top_n_users} using function {intersection_fn.__name__}\")"
   ]
  },
  {
   "cell_type": "code",
   "execution_count": 42,
   "metadata": {},
   "outputs": [
    {
     "name": "stderr",
     "output_type": "stream",
     "text": [
      "2023-06-07 01:10:20 - __main__ - INFO - Changes between original_get_intersection_ranking and get_intersection_ranking_avg: {'ClementDelangue': 0, 'hardmaru': 0, 'jeremyphoward': -1, 'DrJimFan': -4, 'Thom_Wolf': -2, 'shaneguML': 1, 'ericjang11': 'removed', '_akhaliq': 5, 'AlphaSignalAI': 'removed', 'mervenoyann': 0}\n",
      "2023-06-07 01:10:20 - __main__ - INFO - Total intersection: 8\n",
      "2023-06-07 01:10:20 - __main__ - INFO - Changes between original_get_intersection_ranking and get_intersection_ranking_min: {'ClementDelangue': 0, 'hardmaru': 0, 'jeremyphoward': -2, 'DrJimFan': -5, 'Thom_Wolf': -2, 'shaneguML': 3, 'ericjang11': 'removed', '_akhaliq': 2, 'AlphaSignalAI': 'removed', 'mervenoyann': 'removed'}\n",
      "2023-06-07 01:10:20 - __main__ - INFO - Total intersection: 7\n",
      "2023-06-07 01:10:20 - __main__ - INFO - Changes between original_get_intersection_ranking and get_intersection_ranking_borda: {'ClementDelangue': 0, 'hardmaru': 0, 'jeremyphoward': -3, 'DrJimFan': -5, 'Thom_Wolf': -2, 'shaneguML': 2, 'ericjang11': 'removed', '_akhaliq': 3, 'AlphaSignalAI': 'removed', 'mervenoyann': 0}\n",
      "2023-06-07 01:10:20 - __main__ - INFO - Total intersection: 8\n",
      "2023-06-07 01:10:20 - __main__ - INFO - Changes between get_intersection_ranking_avg and get_intersection_ranking_min: {'ClementDelangue': 0, 'hardmaru': 0, '_akhaliq': -3, 'jeremyphoward': -1, 'shaneguML': 2, 'karpathy': 2, 'Thom_Wolf': 0, 'DrJimFan': -1, 'suzatweet': 1, 'mervenoyann': 'removed'}\n",
      "2023-06-07 01:10:20 - __main__ - INFO - Total intersection: 9\n",
      "2023-06-07 01:10:20 - __main__ - INFO - Changes between get_intersection_ranking_avg and get_intersection_ranking_borda: {'ClementDelangue': 0, 'hardmaru': 0, '_akhaliq': -2, 'jeremyphoward': -2, 'shaneguML': 1, 'karpathy': 3, 'Thom_Wolf': 0, 'DrJimFan': -1, 'suzatweet': 1, 'mervenoyann': 0}\n",
      "2023-06-07 01:10:20 - __main__ - INFO - Total intersection: 10\n",
      "2023-06-07 01:10:20 - __main__ - INFO - Changes between get_intersection_ranking_min and get_intersection_ranking_borda: {'ClementDelangue': 0, 'hardmaru': 0, 'shaneguML': -1, 'karpathy': 1, 'jeremyphoward': -1, '_akhaliq': 1, 'Thom_Wolf': 0, 'suzatweet': 0, 'DrJimFan': 0, 'soumithchintala': 'removed'}\n",
      "2023-06-07 01:10:20 - __main__ - INFO - Total intersection: 9\n"
     ]
    }
   ],
   "source": [
    "intersection_fns = [original_get_intersection_ranking, get_intersection_ranking_avg, get_intersection_ranking_min, get_intersection_ranking_borda]\n",
    "# Check pairwise intersection\n",
    "for i, intersection_fn in enumerate(intersection_fns):\n",
    "    top_n_users = get_intersection_ranking(intersection_fn, prod, con, infl1, infl2)\n",
    "    for intersection_fn2 in intersection_fns[i+1:]:\n",
    "        if intersection_fn2 == intersection_fn:\n",
    "            continue\n",
    "        top_n_users2 = get_intersection_ranking(intersection_fn2, prod, con, infl1, infl2)\n",
    "        changes = {user: top_n_users.index(user) - top_n_users2.index(user) if user in top_n_users2 else \"removed\" for user in top_n_users}\n",
    "        intersection = set(top_n_users).intersection(set(top_n_users2))\n",
    "        log.info(f\"Changes between {intersection_fn.__name__} and {intersection_fn2.__name__}: {changes}\")\n",
    "        # log.info(f\"Top 10 user intersection between {intersection_fn.__name__} and {intersection_fn2.__name__}: {intersection}\")\n",
    "        log.info(f\"Total intersection: {len(intersection)}\")"
   ]
  },
  {
   "attachments": {},
   "cell_type": "markdown",
   "metadata": {},
   "source": [
    "Out of 10 users, intersections are typically at least 5 between all intersection functions."
   ]
  },
  {
   "cell_type": "code",
   "execution_count": null,
   "metadata": {},
   "outputs": [],
   "source": []
  }
 ],
 "metadata": {
  "kernelspec": {
   "display_name": "env",
   "language": "python",
   "name": "python3"
  },
  "language_info": {
   "codemirror_mode": {
    "name": "ipython",
    "version": 3
   },
   "file_extension": ".py",
   "mimetype": "text/x-python",
   "name": "python",
   "nbconvert_exporter": "python",
   "pygments_lexer": "ipython3",
   "version": "3.8.16"
  },
  "orig_nbformat": 4
 },
 "nbformat": 4,
 "nbformat_minor": 2
}
